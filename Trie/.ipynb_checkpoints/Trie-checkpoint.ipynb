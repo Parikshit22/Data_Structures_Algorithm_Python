{
 "cells": [
  {
   "cell_type": "code",
   "execution_count": 19,
   "metadata": {},
   "outputs": [],
   "source": [
    "class Node:\n",
    "    def __init__(self):\n",
    "        self.children = [None]*26\n",
    "        self.isend = False\n",
    "        \n",
    "class trie:\n",
    "    def __init__(self,):\n",
    "        self.__root = Node()\n",
    "        \n",
    "    def __len__(self,):\n",
    "        return len(self.search_byprefix(''))\n",
    "    \n",
    "    def __str__(self):\n",
    "        ll =  self.search_byprefix('')\n",
    "        string = ''\n",
    "        for i in ll:\n",
    "            string+=i\n",
    "            string+='\\n'\n",
    "        return string\n",
    "        \n",
    "    def chartoint(self,character):\n",
    "        return ord(character)-ord('a')\n",
    "    \n",
    "    def remove(self,string):\n",
    "        ptr = self.__root\n",
    "        length = len(string)\n",
    "        for idx in range(length):\n",
    "            i = self.chartoint(string[idx])\n",
    "            if ptr.children[i] is not None:\n",
    "                ptr = ptr.children[i]\n",
    "            else:\n",
    "                raise ValueError(\"Keyword doesn't exist in trie\")\n",
    "        if ptr.isend is not True:\n",
    "            raise ValueError(\"Keyword doesn't exist in trie\")\n",
    "        ptr.isend = False\n",
    "        return\n",
    "    \n",
    "    def insert(self,string):\n",
    "        ptr = self.__root\n",
    "        length = len(string)\n",
    "        for idx in range(length):\n",
    "            i = self.chartoint(string[idx])\n",
    "            if ptr.children[i] is not None:\n",
    "                ptr = ptr.children[i]\n",
    "            else:\n",
    "                ptr.children[i] = Node()\n",
    "                ptr = ptr.children[i]\n",
    "        ptr.isend = True\n",
    "        \n",
    "    def search(self,string):\n",
    "        ptr = self.__root\n",
    "        length = len(string)\n",
    "        for idx in range(length):\n",
    "            i = self.chartoint(string[idx])\n",
    "            if ptr.children[i] is not None:\n",
    "                ptr = ptr.children[i]\n",
    "            else:\n",
    "                return False\n",
    "        if ptr.isend is not True:\n",
    "            return False\n",
    "        return True\n",
    "    \n",
    "    def __getall(self,ptr,key,key_list):\n",
    "        if ptr is None:\n",
    "            key_list.append(key)\n",
    "            return\n",
    "        if ptr.isend==True:\n",
    "            key_list.append(key)\n",
    "        for i in range(26):\n",
    "            if ptr.children[i]  is not None:\n",
    "                self.__getall(ptr.children[i],key+chr(ord('a')+i),key_list)\n",
    "        \n",
    "    def search_byprefix(self,key):\n",
    "        ptr = self.__root\n",
    "        key_list = []\n",
    "        length = len(key)\n",
    "        for idx in range(length):\n",
    "            i = self.chartoint(key[idx])\n",
    "            if ptr.children[i] is not None:\n",
    "                ptr = ptr.children[i]\n",
    "            else:\n",
    "                return None\n",
    "        \n",
    "        self.__getall(ptr,key,key_list)\n",
    "        return key_list\n",
    "        \n",
    "        "
   ]
  },
  {
   "cell_type": "code",
   "execution_count": 20,
   "metadata": {},
   "outputs": [],
   "source": [
    "t = trie()"
   ]
  },
  {
   "cell_type": "code",
   "execution_count": 21,
   "metadata": {},
   "outputs": [],
   "source": [
    "t.insert(\"shubham\")\n",
    "t.insert(\"shubhi\")\n",
    "t.insert(\"minhaj\")\n",
    "t.insert(\"parikshit\")\n",
    "t.insert(\"pari\")\n",
    "t.insert(\"shubh\")\n",
    "t.insert(\"minakshi\")"
   ]
  },
  {
   "cell_type": "code",
   "execution_count": 22,
   "metadata": {},
   "outputs": [
    {
     "data": {
      "text/plain": [
       "True"
      ]
     },
     "execution_count": 22,
     "metadata": {},
     "output_type": "execute_result"
    }
   ],
   "source": [
    "t.search(\"minhaj\")"
   ]
  },
  {
   "cell_type": "code",
   "execution_count": 23,
   "metadata": {},
   "outputs": [
    {
     "data": {
      "text/plain": [
       "True"
      ]
     },
     "execution_count": 23,
     "metadata": {},
     "output_type": "execute_result"
    }
   ],
   "source": [
    "t.search(\"shubh\")"
   ]
  },
  {
   "cell_type": "code",
   "execution_count": 24,
   "metadata": {},
   "outputs": [
    {
     "data": {
      "text/plain": [
       "['minakshi', 'minhaj', 'pari', 'parikshit', 'shubh', 'shubham', 'shubhi']"
      ]
     },
     "execution_count": 24,
     "metadata": {},
     "output_type": "execute_result"
    }
   ],
   "source": [
    "t.search_byprefix('')"
   ]
  },
  {
   "cell_type": "code",
   "execution_count": 25,
   "metadata": {},
   "outputs": [
    {
     "data": {
      "text/plain": [
       "7"
      ]
     },
     "execution_count": 25,
     "metadata": {},
     "output_type": "execute_result"
    }
   ],
   "source": [
    "len(t)"
   ]
  },
  {
   "cell_type": "code",
   "execution_count": 26,
   "metadata": {},
   "outputs": [],
   "source": [
    "t.remove(\"minhaj\")"
   ]
  },
  {
   "cell_type": "code",
   "execution_count": 27,
   "metadata": {},
   "outputs": [
    {
     "data": {
      "text/plain": [
       "['minakshi', 'pari', 'parikshit', 'shubh', 'shubham', 'shubhi']"
      ]
     },
     "execution_count": 27,
     "metadata": {},
     "output_type": "execute_result"
    }
   ],
   "source": [
    "t.search_byprefix('')"
   ]
  },
  {
   "cell_type": "code",
   "execution_count": 31,
   "metadata": {},
   "outputs": [],
   "source": [
    "t.insert(\"minhajsir\")\n",
    "t.insert(\"minhaj\")\n"
   ]
  },
  {
   "cell_type": "code",
   "execution_count": 32,
   "metadata": {},
   "outputs": [
    {
     "data": {
      "text/plain": [
       "['minakshi',\n",
       " 'minhaj',\n",
       " 'minhajsir',\n",
       " 'pari',\n",
       " 'parikshit',\n",
       " 'shubh',\n",
       " 'shubham',\n",
       " 'shubhi']"
      ]
     },
     "execution_count": 32,
     "metadata": {},
     "output_type": "execute_result"
    }
   ],
   "source": [
    "t.search_byprefix('')"
   ]
  },
  {
   "cell_type": "code",
   "execution_count": 33,
   "metadata": {},
   "outputs": [
    {
     "name": "stdout",
     "output_type": "stream",
     "text": [
      "minakshi\n",
      "minhaj\n",
      "minhajsir\n",
      "pari\n",
      "parikshit\n",
      "shubh\n",
      "shubham\n",
      "shubhi\n",
      "\n"
     ]
    }
   ],
   "source": [
    "print(t)"
   ]
  },
  {
   "cell_type": "code",
   "execution_count": 18,
   "metadata": {},
   "outputs": [
    {
     "data": {
      "text/plain": [
       "'∼'"
      ]
     },
     "execution_count": 18,
     "metadata": {},
     "output_type": "execute_result"
    }
   ],
   "source": [
    "chr(8764)"
   ]
  },
  {
   "cell_type": "code",
   "execution_count": 15,
   "metadata": {},
   "outputs": [
    {
     "ename": "TypeError",
     "evalue": "ord() expected string of length 1, but int found",
     "output_type": "error",
     "traceback": [
      "\u001b[1;31m---------------------------------------------------------------------------\u001b[0m",
      "\u001b[1;31mTypeError\u001b[0m                                 Traceback (most recent call last)",
      "\u001b[1;32m<ipython-input-15-6ef20f8da472>\u001b[0m in \u001b[0;36m<module>\u001b[1;34m\u001b[0m\n\u001b[1;32m----> 1\u001b[1;33m \u001b[0mord\u001b[0m\u001b[1;33m(\u001b[0m\u001b[1;36m8704\u001b[0m\u001b[1;33m)\u001b[0m\u001b[1;33m\u001b[0m\u001b[1;33m\u001b[0m\u001b[0m\n\u001b[0m",
      "\u001b[1;31mTypeError\u001b[0m: ord() expected string of length 1, but int found"
     ]
    }
   ],
   "source": [
    "ord(8704)"
   ]
  },
  {
   "cell_type": "code",
   "execution_count": null,
   "metadata": {},
   "outputs": [],
   "source": []
  }
 ],
 "metadata": {
  "kernelspec": {
   "display_name": "Python 3",
   "language": "python",
   "name": "python3"
  },
  "language_info": {
   "codemirror_mode": {
    "name": "ipython",
    "version": 3
   },
   "file_extension": ".py",
   "mimetype": "text/x-python",
   "name": "python",
   "nbconvert_exporter": "python",
   "pygments_lexer": "ipython3",
   "version": "3.6.8"
  }
 },
 "nbformat": 4,
 "nbformat_minor": 2
}
