{
 "cells": [
  {
   "cell_type": "code",
   "execution_count": 1,
   "metadata": {},
   "outputs": [],
   "source": [
    "class TreeNode:\n",
    "    def __init__(self,data):\n",
    "        self.data = data\n",
    "        self.children = list()\n",
    "        \n",
    "n1 = TreeNode(2)\n",
    "n2 = TreeNode(21)\n",
    "n3 = TreeNode(22)\n",
    "n4 = TreeNode(25)\n",
    "n5 = TreeNode(32)\n",
    "n6 = TreeNode(452)\n",
    "n7 = TreeNode(322)\n",
    "n8 = TreeNode(32)\n",
    "\n",
    "n1.children.append(n2)\n",
    "n1.children.append(n3)\n",
    "n1.children.append(n4)\n",
    "n1.children.append(n7)\n",
    "n2.children.append(n5)\n",
    "n2.children.append(n6)\n",
    "n4.children.append(n8)"
   ]
  },
  {
   "cell_type": "code",
   "execution_count": 6,
   "metadata": {},
   "outputs": [],
   "source": [
    "def printtree(node):\n",
    "    if node is None:\n",
    "        return\n",
    "    print(node.data)\n",
    "    for child in node.children:\n",
    "        printtree(child)"
   ]
  },
  {
   "cell_type": "code",
   "execution_count": 7,
   "metadata": {},
   "outputs": [
    {
     "name": "stdout",
     "output_type": "stream",
     "text": [
      "2\n",
      "21\n",
      "32\n",
      "452\n",
      "22\n",
      "25\n",
      "32\n",
      "322\n"
     ]
    }
   ],
   "source": [
    "printtree(n1)"
   ]
  },
  {
   "cell_type": "code",
   "execution_count": null,
   "metadata": {},
   "outputs": [],
   "source": []
  }
 ],
 "metadata": {
  "kernelspec": {
   "display_name": "Python 3",
   "language": "python",
   "name": "python3"
  },
  "language_info": {
   "codemirror_mode": {
    "name": "ipython",
    "version": 3
   },
   "file_extension": ".py",
   "mimetype": "text/x-python",
   "name": "python",
   "nbconvert_exporter": "python",
   "pygments_lexer": "ipython3",
   "version": "3.6.8"
  }
 },
 "nbformat": 4,
 "nbformat_minor": 2
}
