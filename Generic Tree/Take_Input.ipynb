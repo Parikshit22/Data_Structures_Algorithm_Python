{
 "cells": [
  {
   "cell_type": "code",
   "execution_count": 12,
   "metadata": {},
   "outputs": [
    {
     "name": "stdout",
     "output_type": "stream",
     "text": [
      "10 3 20 30 40 2 40 50 0 0 0 0\n"
     ]
    }
   ],
   "source": [
    "class treeNode:\n",
    "    def __init__(self, data):\n",
    "        self.data = data\n",
    "        self.children = []\n",
    "    def __str__(self):\n",
    "        return str(self.data)\n",
    "\n",
    "def sumofNodes(tree):\n",
    "    if tree is None:\n",
    "        return 0\n",
    "    val = 0\n",
    "    for child in tree.children:\n",
    "        val+=sumofNodes(child)\n",
    "    return val+tree.data\n",
    "\n",
    "def createLevelWiseTree(arr):\n",
    "    root = treeNode(int(arr[0]))\n",
    "    q = [root]\n",
    "    size = len(arr)\n",
    "    i = 1\n",
    "    while i<size:\n",
    "        parent = q.pop(0)\n",
    "        childCount = int(arr[i])\n",
    "        i += 1\n",
    "        for j in range(0,childCount):\n",
    "            temp = treeNode(int(arr[i+j]))\n",
    "            parent.children.append(temp)\n",
    "            q.append(temp)\n",
    "        i += childCount\n",
    "    return root\n",
    "\n",
    "# Main\n",
    "arr = list(int(x) for x in input().strip().split(' '))\n",
    "tree = createLevelWiseTree(arr)\n",
    "# arr1 = list(int(x) for x in input().strip().split(' '))\n",
    "# tree2 = createLevelWiseTree(arr1)\n"
   ]
  },
  {
   "cell_type": "code",
   "execution_count": 18,
   "metadata": {},
   "outputs": [],
   "source": [
    "def height(root):\n",
    "    val = 0\n",
    "    for child in root.children:\n",
    "        h = height(child)\n",
    "        val = max(h,val)\n",
    "    return 1+val"
   ]
  },
  {
   "cell_type": "code",
   "execution_count": 19,
   "metadata": {},
   "outputs": [
    {
     "data": {
      "text/plain": [
       "3"
      ]
     },
     "execution_count": 19,
     "metadata": {},
     "output_type": "execute_result"
    }
   ],
   "source": [
    "height(tree)"
   ]
  },
  {
   "cell_type": "code",
   "execution_count": 24,
   "metadata": {},
   "outputs": [],
   "source": [
    "def printLevelWiseTree(tree):\n",
    "    q = [tree]\n",
    "    while len(q)>0:\n",
    "        root = q.pop(0)\n",
    "        print(root.data,end=\":\")\n",
    "        pk = []\n",
    "        for child in root.children:\n",
    "            q.append(child)\n",
    "            pk.append(str(child.data))\n",
    "        print(','.join(pk))"
   ]
  },
  {
   "cell_type": "code",
   "execution_count": 11,
   "metadata": {},
   "outputs": [
    {
     "name": "stdout",
     "output_type": "stream",
     "text": [
      "10:20,30,40\n",
      "20:40,50\n",
      "30:\n",
      "40:\n",
      "40:\n",
      "50:\n"
     ]
    }
   ],
   "source": [
    "printLevelWiseTree(tree)"
   ]
  },
  {
   "cell_type": "code",
   "execution_count": 15,
   "metadata": {},
   "outputs": [],
   "source": [
    "def containsX(tree, x):\n",
    "    if tree.data==x:\n",
    "        return True\n",
    "    val = False\n",
    "    for child in tree.children:\n",
    "         val = val or containsX(child,x)\n",
    "    return val"
   ]
  },
  {
   "cell_type": "code",
   "execution_count": 18,
   "metadata": {},
   "outputs": [
    {
     "data": {
      "text/plain": [
       "False"
      ]
     },
     "execution_count": 18,
     "metadata": {},
     "output_type": "execute_result"
    }
   ],
   "source": [
    "containsX(tree,150)"
   ]
  },
  {
   "cell_type": "code",
   "execution_count": 19,
   "metadata": {},
   "outputs": [],
   "source": [
    "def leafNodeCount(tree):\n",
    "    val = 0\n",
    "    if len(tree.children)==0:\n",
    "        val+=1\n",
    "    else:\n",
    "        for child in tree.children:\n",
    "             val +=leafNodeCount(child)\n",
    "    return val"
   ]
  },
  {
   "cell_type": "code",
   "execution_count": 20,
   "metadata": {},
   "outputs": [
    {
     "data": {
      "text/plain": [
       "4"
      ]
     },
     "execution_count": 20,
     "metadata": {},
     "output_type": "execute_result"
    }
   ],
   "source": [
    "leafNodeCount(tree)"
   ]
  },
  {
   "cell_type": "code",
   "execution_count": 40,
   "metadata": {},
   "outputs": [],
   "source": [
    "def maxSumNode(tree):\n",
    "    val = tree.data\n",
    "    for child in tree.children:\n",
    "        val+=child.data\n",
    "    value = (tree,val)\n",
    "    for child in tree.children:\n",
    "        data = maxSumNode(child)\n",
    "        if data[1]>val:\n",
    "            value = data\n",
    "    return value"
   ]
  },
  {
   "cell_type": "code",
   "execution_count": 41,
   "metadata": {},
   "outputs": [
    {
     "data": {
      "text/plain": [
       "1"
      ]
     },
     "execution_count": 41,
     "metadata": {},
     "output_type": "execute_result"
    }
   ],
   "source": [
    "maxSumNode(tree)[0].data"
   ]
  },
  {
   "cell_type": "code",
   "execution_count": 7,
   "metadata": {},
   "outputs": [],
   "source": [
    "def isIdentical(tree1, tree2):\n",
    "    if tree1.data!=tree2.data:\n",
    "        return False\n",
    "    if len(tree1.children)!=len(tree2.children):\n",
    "        return False\n",
    "    for i in range(len(tree1.children)):\n",
    "        val =  isIdentical(tree1.children[i],tree2.children[i])\n",
    "        if val is False:\n",
    "            return val\n",
    "    return True"
   ]
  },
  {
   "cell_type": "code",
   "execution_count": 10,
   "metadata": {},
   "outputs": [
    {
     "data": {
      "text/plain": [
       "False"
      ]
     },
     "execution_count": 10,
     "metadata": {},
     "output_type": "execute_result"
    }
   ],
   "source": [
    "isIdentical(tree1, tree2)"
   ]
  },
  {
   "cell_type": "code",
   "execution_count": 14,
   "metadata": {},
   "outputs": [],
   "source": [
    "def nextLargest(tree, n):\n",
    "    val = None    \n",
    "    if tree.data>n:\n",
    "        val = tree\n",
    "    for child in tree.children:\n",
    "        dat = nextLargest(child,n)\n",
    "        if val is None or (dat is not None and dat.data<val.data):\n",
    "            val = dat\n",
    "    return val\n",
    "    \n",
    "        "
   ]
  },
  {
   "cell_type": "code",
   "execution_count": 17,
   "metadata": {},
   "outputs": [
    {
     "data": {
      "text/plain": [
       "10"
      ]
     },
     "execution_count": 17,
     "metadata": {},
     "output_type": "execute_result"
    }
   ],
   "source": [
    "nextLargest(tree,9).data"
   ]
  },
  {
   "cell_type": "code",
   "execution_count": 20,
   "metadata": {},
   "outputs": [],
   "source": [
    "def replacewithDepth(tree,val):\n",
    "    tree.data = val\n",
    "    val+=1\n",
    "    for child in tree.children:\n",
    "        replacewithDepth(child,val)\n",
    "    "
   ]
  },
  {
   "cell_type": "code",
   "execution_count": 22,
   "metadata": {},
   "outputs": [],
   "source": [
    "replacewithDepth(tree,0)"
   ]
  },
  {
   "cell_type": "code",
   "execution_count": 25,
   "metadata": {},
   "outputs": [
    {
     "name": "stdout",
     "output_type": "stream",
     "text": [
      "0:1,1,1\n",
      "1:2,2\n",
      "1:\n",
      "1:\n",
      "2:\n",
      "2:\n"
     ]
    }
   ],
   "source": [
    "printLevelWiseTree(tree)"
   ]
  },
  {
   "cell_type": "code",
   "execution_count": null,
   "metadata": {},
   "outputs": [],
   "source": []
  }
 ],
 "metadata": {
  "kernelspec": {
   "display_name": "Python 3",
   "language": "python",
   "name": "python3"
  },
  "language_info": {
   "codemirror_mode": {
    "name": "ipython",
    "version": 3
   },
   "file_extension": ".py",
   "mimetype": "text/x-python",
   "name": "python",
   "nbconvert_exporter": "python",
   "pygments_lexer": "ipython3",
   "version": "3.6.8"
  }
 },
 "nbformat": 4,
 "nbformat_minor": 2
}
