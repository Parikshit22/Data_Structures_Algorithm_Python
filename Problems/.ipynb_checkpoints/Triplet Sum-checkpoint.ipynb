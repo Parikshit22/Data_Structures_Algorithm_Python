{
 "cells": [
  {
   "cell_type": "code",
   "execution_count": null,
   "metadata": {},
   "outputs": [],
   "source": [
    "def find3Numbers(arr, x): \n",
    "  \n",
    "    # Sort the elements  \n",
    "    arr.sort() \n",
    "  \n",
    "    for f in range(0,len(arr)-2):\n",
    "        i = f+1\n",
    "        j = len(arr)-1\n",
    "        while(i<j):\n",
    "            if(arr[f]+arr[i]+arr[j]==x):\n",
    "                if(arr[i]==arr[j]):\n",
    "                    sum = 0\n",
    "                    for num in range(1,j-i+1):\n",
    "                        sum = sum+num\n",
    "                    for k in range(sum):\n",
    "                        print(arr[f],arr[i],arr[j])\n",
    "                    break\n",
    "                h_i = 1\n",
    "                I = i\n",
    "                J = j\n",
    "                while(True):\n",
    "                    if(arr[I]==arr[I+1] and I+1<J):\n",
    "                        h_i+=1\n",
    "                        I+=1\n",
    "                    else:\n",
    "                        break\n",
    "                h_j= 1\n",
    "                while(True):\n",
    "                    if(arr[J]==arr[J-1] and J-1>i):\n",
    "                        h_j+=1\n",
    "                        J-=1\n",
    "                    else:\n",
    "                        break\n",
    "\n",
    "                for k in range((h_i*h_j)):\n",
    "                    print(arr[f],arr[i],arr[j])\n",
    "                i+=h_i\n",
    "                j-=h_j\n",
    "            elif(arr[f]+arr[i]+arr[j]>x):\n",
    "                j-=1\n",
    "            else:\n",
    "                i+=1\n",
    "\n",
    "  \n",
    "\n",
    "\n",
    "\n",
    "n = int(input())\n",
    "arr = [int(x) for x in input().split()]\n",
    "sum = int(input())\n",
    "find3Numbers(arr, sum)"
   ]
  }
 ],
 "metadata": {
  "kernelspec": {
   "display_name": "Python 3",
   "language": "python",
   "name": "python3"
  },
  "language_info": {
   "codemirror_mode": {
    "name": "ipython",
    "version": 3
   },
   "file_extension": ".py",
   "mimetype": "text/x-python",
   "name": "python",
   "nbconvert_exporter": "python",
   "pygments_lexer": "ipython3",
   "version": "3.6.8"
  }
 },
 "nbformat": 4,
 "nbformat_minor": 2
}
