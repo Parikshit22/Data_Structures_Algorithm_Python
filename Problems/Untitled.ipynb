{
 "cells": [
  {
   "cell_type": "code",
   "execution_count": 56,
   "metadata": {},
   "outputs": [
    {
     "name": "stdout",
     "output_type": "stream",
     "text": [
      "10000 A\n",
      "2000.0\n",
      "5000.0\n",
      "1100.0\n",
      "17600\n"
     ]
    }
   ],
   "source": [
    "l = input().strip().split(' ')\n",
    "basic = int(l[0])\n",
    "grade = l[1]\n",
    "\n",
    "hra = 20/100 * basic\n",
    "da = 50/100 * basic\n",
    "print(hra)\n",
    "print(da)\n",
    "if(grade=='A'):\n",
    "    allow = 1700\n",
    "elif (grade=='B'):\n",
    "    allow = 1500\n",
    "else:\n",
    "    allow = 1300\n",
    "    \n",
    "pf = 0.11 * basic\n",
    "print(pf)\n",
    "salary = basic+hra+da+allow-pf\n",
    "print(int(salary))"
   ]
  },
  {
   "cell_type": "code",
   "execution_count": null,
   "metadata": {},
   "outputs": [],
   "source": [
    "The calculation that is done for getting \"hra\" and \"da\" is wrong as to calculate the hra it's 20% of basic so 20//100 is 0 only and will give us 0.\n",
    "so in order to get the hra and da values we need to do float-wise division. that would be 20/100 * basic for hra and 50/100 for da.\n",
    "also we stored allownaces in \"allow\" variable and will be passing that only."
   ]
  },
  {
   "cell_type": "code",
   "execution_count": 58,
   "metadata": {},
   "outputs": [
    {
     "name": "stdout",
     "output_type": "stream",
     "text": [
      "6\n",
      "6\n",
      "4\n",
      "5\n",
      "5\n",
      "5\n",
      "5\n",
      "21\n"
     ]
    }
   ],
   "source": [
    "n = int(input())\n",
    "arr = []\n",
    "for i in range(n):\n",
    "    arr.append(int(input()))\n",
    "\n",
    "# Sorting list of Integers in descending \n",
    "arr.sort(reverse = True)\n",
    "\n",
    "skip = 1\n",
    "value = 0\n",
    "for i in range(len(arr)):\n",
    "    if(skip==3):\n",
    "        skip = 1\n",
    "        continue\n",
    "    value+=arr[i]\n",
    "    skip+=1\n",
    "print(value)\n",
    "    "
   ]
  },
  {
   "cell_type": "code",
   "execution_count": 60,
   "metadata": {},
   "outputs": [
    {
     "data": {
      "text/plain": [
       "-1"
      ]
     },
     "execution_count": 60,
     "metadata": {},
     "output_type": "execute_result"
    }
   ],
   "source": [
    "ord('a')-ord('b')"
   ]
  },
  {
   "cell_type": "code",
   "execution_count": 61,
   "metadata": {},
   "outputs": [
    {
     "data": {
      "text/plain": [
       "97"
      ]
     },
     "execution_count": 61,
     "metadata": {},
     "output_type": "execute_result"
    }
   ],
   "source": [
    "ord('a')"
   ]
  },
  {
   "cell_type": "code",
   "execution_count": 66,
   "metadata": {},
   "outputs": [
    {
     "data": {
      "text/plain": [
       "'ertgrfcba'"
      ]
     },
     "execution_count": 66,
     "metadata": {},
     "output_type": "execute_result"
    }
   ],
   "source": [
    "st = \"abcfrgtre\"\n",
    "st[::-1]"
   ]
  },
  {
   "cell_type": "code",
   "execution_count": null,
   "metadata": {},
   "outputs": [
    {
     "name": "stdout",
     "output_type": "stream",
     "text": [
      "2\n",
      "bcxz\n",
      "Not Funny\n"
     ]
    }
   ],
   "source": [
    "def check():\n",
    "    s1 = input()\n",
    "    s2 = s1[::-1]\n",
    "    for j in range(len(s1)-1):\n",
    "        a = abs(ord(s1[j])-ord(s1[j+1]))\n",
    "        b = abs(ord(s2[j])-ord(s2[j+1]))\n",
    "        if a!=b:\n",
    "            return False\n",
    "    return True\n",
    "                \n",
    "                \n",
    "                \n",
    "q = int(input())\n",
    "for i in range(q):\n",
    "    val = check()\n",
    "    if val:\n",
    "        print(\"Funny\")\n",
    "    else:\n",
    "        print(\"Not Funny\")\n",
    "                "
   ]
  },
  {
   "cell_type": "code",
   "execution_count": null,
   "metadata": {},
   "outputs": [],
   "source": []
  },
  {
   "cell_type": "code",
   "execution_count": null,
   "metadata": {},
   "outputs": [],
   "source": []
  },
  {
   "cell_type": "code",
   "execution_count": 24,
   "metadata": {},
   "outputs": [
    {
     "name": "stdout",
     "output_type": "stream",
     "text": [
      "5 2 3 2 5 -1\n",
      "true\n"
     ]
    }
   ],
   "source": [
    "\n",
    "class Node:\n",
    "    def __init__(self, data):\n",
    "        self.data = data\n",
    "        self.next = None\n",
    "\n",
    "        \n",
    "def check_palindrome(head) :\n",
    "    t1 = head\n",
    "    mid= (length//2)-1\n",
    "    arr = []\n",
    "    arr.append(t1.data)\n",
    "    for i in range(mid) :\n",
    "        \n",
    "        t1= t1.next\n",
    "        arr.append(t1.data)\n",
    "    if length%2==0:\n",
    "        t2= t1.next\n",
    "    else:\n",
    "        t2= t1.next.next\n",
    "    t1.next= None\n",
    "\n",
    "    while t2!=None:\n",
    "        if t2.data == arr.pop() :\n",
    "            t2=t2.next\n",
    "        else :\n",
    "            return False\n",
    "    return True\n",
    "\n",
    "def ll(arr):\n",
    "    if len(arr)==0:\n",
    "        return None\n",
    "    head = Node(arr[0])\n",
    "    last = head\n",
    "    for data in arr[1:]:\n",
    "        last.next = Node(data)\n",
    "        last = last.next\n",
    "    return head\n",
    "\n",
    "# Main\n",
    "# Read the link list elements including -1\n",
    "arr=list(int(i) for i in input().strip().split(' '))\n",
    "# Create a Linked list after removing -1 from list\n",
    "length = len(arr[:-1])\n",
    "l = ll(arr[:-1])\n",
    "ans = check_palindrome(l)\n",
    "if ans:\n",
    "    print(\"true\")\n",
    "else:\n",
    "    print(\"false\")"
   ]
  },
  {
   "cell_type": "code",
   "execution_count": null,
   "metadata": {},
   "outputs": [],
   "source": [
    "0 2 3 2 5 -1\n"
   ]
  },
  {
   "cell_type": "code",
   "execution_count": 33,
   "metadata": {},
   "outputs": [
    {
     "name": "stdout",
     "output_type": "stream",
     "text": [
      "0 0\n"
     ]
    }
   ],
   "source": [
    "## Read input as specified in the question.\n",
    "## Print output as specified in the question.\n",
    "\n",
    "def findMaxSquareWithAllZeros(arr):\n",
    "    row = len(arr)\n",
    "    col = len(arr[0])\n",
    "\n",
    "    storage = [[0 for i in range(col)] for j in range(row)]\n",
    "    for i in range(1,row):\n",
    "        for j in range(1,col):\n",
    "            if arr[i][j]==0:\n",
    "                storage[i][j] = min(storage[i][j-1], storage[i-1][j], \n",
    "                            storage[i-1][j-1]) + 1\n",
    "            else: \n",
    "                storage[i][j] = 1\n",
    "\n",
    "    max_of_s = storage[0][0] \n",
    "    max_i = 0\n",
    "    max_j = 0\n",
    "    for i in range(row): \n",
    "        for j in range(col): \n",
    "            if (max_of_s > storage[i][j]): \n",
    "                max_of_s = storage[i][j] \n",
    "                max_i = i \n",
    "                max_j = j\n",
    "    print(max_i,max_j)\n",
    "\n",
    "# m,n = input().split()\n",
    "# m = int(m)\n",
    "# n = int(n)\n",
    "\n",
    "# arr = [[int(x) for x in input().split()] for y in range(m)]\n",
    "# print(arr)\n",
    "arr = [[1,1,0],\n",
    "       [1,1,0],\n",
    "       [1,1,0]]\n",
    "findMaxSquareWithAllZeros(arr)"
   ]
  },
  {
   "cell_type": "code",
   "execution_count": null,
   "metadata": {},
   "outputs": [],
   "source": []
  },
  {
   "cell_type": "code",
   "execution_count": 41,
   "metadata": {},
   "outputs": [
    {
     "data": {
      "text/plain": [
       "4"
      ]
     },
     "execution_count": 41,
     "metadata": {},
     "output_type": "execute_result"
    }
   ],
   "source": [
    "\n",
    "def findLargestSquare(M):\n",
    "\n",
    "\n",
    "    T = [[0 for x in range(len(M[0]))] for y in range(len(M))]\n",
    "\n",
    "    max = 0\n",
    "\n",
    "    for i in range(len(M)):\n",
    "        for j in range(len(M[0])):\n",
    "            T[i][j] = M[i][j]\n",
    "\n",
    "\n",
    "            if i > 0 and j > 0 and M[i][j] == 1:\n",
    "\n",
    "                T[i][j] = min(T[i][j - 1], T[i - 1][j], T[i - 1][j - 1]) + 1\n",
    "\n",
    "            if max < T[i][j]:\n",
    "                max = T[i][j]\n",
    "\n",
    "    return max\n",
    "\n",
    "m,n = input().split()\n",
    "m = int(m)\n",
    "n = int(n)\n",
    "\n",
    "arr = [[int(x) for x in input().split()] for y in range(m)]\n",
    "for i in range(m):\n",
    "    for j in range(n):\n",
    "        if arr[i][j]==1:\n",
    "            arr[i][j]=0\n",
    "        else:\n",
    "            arr[i][j] = 1\n",
    "findLargestSquare(arr)**2\n"
   ]
  },
  {
   "cell_type": "code",
   "execution_count": null,
   "metadata": {},
   "outputs": [],
   "source": []
  },
  {
   "cell_type": "code",
   "execution_count": 58,
   "metadata": {},
   "outputs": [
    {
     "name": "stdout",
     "output_type": "stream",
     "text": [
      "6 2\n",
      "1 4\n",
      "2 5\n",
      "36\n"
     ]
    }
   ],
   "source": [
    "import sys\n",
    "sys.setrecursionlimit(10 ** 8)\n",
    "\n",
    "\n",
    "def subsets(arr) :\n",
    "    if len(arr)==1:\n",
    "        output = [[],[arr[0]]]\n",
    "        return output\n",
    "        \n",
    "    new_arr = arr[1:]\n",
    "    output = []\n",
    "    small_output = subsets(new_arr)\n",
    "    for i in small_output:\n",
    "        output.append(i)\n",
    "    for i in small_output:\n",
    "        output.append([arr[0]]+i)\n",
    "    return output\n",
    "\n",
    "\n",
    "n,m = input().split()\n",
    "n = int(n)\n",
    "m = int(m)\n",
    "\n",
    "arr = [x for x in range(1,n+1)]\n",
    "output = subsets(arr)\n",
    "rm = []\n",
    "for i in range(m):\n",
    "    a,b = input().split()\n",
    "    a = int(a)\n",
    "    b = int(b)\n",
    "    for j in output:\n",
    "        if a in j and b in j:\n",
    "            rm.append(j)\n",
    "\n",
    "print(len(list(set(map(tuple, output))-set(map(tuple, rm)))))\n",
    "\n",
    "        \n",
    "    "
   ]
  },
  {
   "cell_type": "code",
   "execution_count": 47,
   "metadata": {},
   "outputs": [
    {
     "data": {
      "text/plain": [
       "True"
      ]
     },
     "execution_count": 47,
     "metadata": {},
     "output_type": "execute_result"
    }
   ],
   "source": [
    "ak = [1,2,3,4,5,6,7,8,9]\n",
    "3 in ak"
   ]
  },
  {
   "cell_type": "code",
   "execution_count": 4,
   "metadata": {},
   "outputs": [
    {
     "ename": "SyntaxError",
     "evalue": "invalid syntax (<ipython-input-4-57d51efe5111>, line 4)",
     "output_type": "error",
     "traceback": [
      "\u001b[1;36m  File \u001b[1;32m\"<ipython-input-4-57d51efe5111>\"\u001b[1;36m, line \u001b[1;32m4\u001b[0m\n\u001b[1;33m    s[(i+k):(i+2k)]\u001b[0m\n\u001b[1;37m                ^\u001b[0m\n\u001b[1;31mSyntaxError\u001b[0m\u001b[1;31m:\u001b[0m invalid syntax\n"
     ]
    }
   ],
   "source": [
    "s = 'abd'\n",
    "i = 3\n",
    "k = 1\n",
    "s[(i+k):(i+2k)]"
   ]
  },
  {
   "cell_type": "code",
   "execution_count": null,
   "metadata": {},
   "outputs": [],
   "source": []
  }
 ],
 "metadata": {
  "kernelspec": {
   "display_name": "Python 3",
   "language": "python",
   "name": "python3"
  },
  "language_info": {
   "codemirror_mode": {
    "name": "ipython",
    "version": 3
   },
   "file_extension": ".py",
   "mimetype": "text/x-python",
   "name": "python",
   "nbconvert_exporter": "python",
   "pygments_lexer": "ipython3",
   "version": "3.6.8"
  }
 },
 "nbformat": 4,
 "nbformat_minor": 2
}
