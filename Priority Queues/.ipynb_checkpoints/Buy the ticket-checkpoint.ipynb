{
 "cells": [
  {
   "cell_type": "code",
   "execution_count": 6,
   "metadata": {},
   "outputs": [
    {
     "name": "stdout",
     "output_type": "stream",
     "text": [
      "5\n",
      "2 3 2 2 4\n",
      "3\n",
      "5\n"
     ]
    }
   ],
   "source": [
    "\n",
    "import heapq\n",
    "\n",
    "#Function to implement\n",
    "def buyTicket(arr, n, k) :\n",
    "    pr = arr[k]\n",
    "    cnt = 0\n",
    "    for i in range(k-1,-1,-1):\n",
    "        if arr[i]==pr:\n",
    "            cnt+=1\n",
    "    heapq._heapify_max(arr)\n",
    "    count=0\n",
    "    while(True):\n",
    "        val = heapq._heappop_max(arr)\n",
    "        \n",
    "        if val==pr and cnt==0:\n",
    "            break\n",
    "        if val==pr and cnt!=0:\n",
    "            cnt-=1\n",
    "        count+=1\n",
    "    return count\n",
    "\n",
    "\n",
    "\n",
    "#taking input using fast I/O\n",
    "def takeInput() :\n",
    "    \n",
    "    n = int(input())\n",
    "    lst=list(int(i) for i in input().strip().split(' '))\n",
    "    k = int(input())\n",
    "    return n,lst,k\n",
    "\n",
    "\n",
    "#main\n",
    "n, arr, k = takeInput()\n",
    "print(buyTicket(arr, n, k))\n"
   ]
  },
  {
   "cell_type": "code",
   "execution_count": null,
   "metadata": {},
   "outputs": [],
   "source": []
  }
 ],
 "metadata": {
  "kernelspec": {
   "display_name": "Python 3",
   "language": "python",
   "name": "python3"
  },
  "language_info": {
   "codemirror_mode": {
    "name": "ipython",
    "version": 3
   },
   "file_extension": ".py",
   "mimetype": "text/x-python",
   "name": "python",
   "nbconvert_exporter": "python",
   "pygments_lexer": "ipython3",
   "version": "3.6.8"
  }
 },
 "nbformat": 4,
 "nbformat_minor": 2
}
