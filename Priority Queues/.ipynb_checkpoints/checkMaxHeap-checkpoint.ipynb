{
 "cells": [
  {
   "cell_type": "code",
   "execution_count": 2,
   "metadata": {},
   "outputs": [
    {
     "name": "stdout",
     "output_type": "stream",
     "text": [
      "8\n",
      "112 56 23 6 4 2 12 1\n",
      "true\n"
     ]
    }
   ],
   "source": [
    "import heapq\n",
    "def checkMaxHeap(lst,idx):\n",
    "    if idx>(len(lst)//2-1):\n",
    "        return True        \n",
    "    ch1 = (idx*2)+1\n",
    "    ch2 = (idx*2)+2\n",
    "    if len(lst)>ch2:\n",
    "        if lst[ch1]>lst[ch2]:\n",
    "            maxm = ch1\n",
    "        else:\n",
    "            maxm = ch2\n",
    "    else:\n",
    "        maxm = ch1\n",
    "    if lst[maxm]>lst[idx]:\n",
    "        return False\n",
    "    return checkMaxHeap(lst,ch1)&checkMaxHeap(lst,ch2)\n",
    "    \n",
    "            \n",
    "            \n",
    "        \n",
    "\n",
    "# Main Code\n",
    "n=int(input())\n",
    "lst=list(int(i) for i in input().strip().split(' '))\n",
    "print('true') if checkMaxHeap(lst,0) else print('false')"
   ]
  },
  {
   "cell_type": "code",
   "execution_count": null,
   "metadata": {},
   "outputs": [],
   "source": []
  }
 ],
 "metadata": {
  "kernelspec": {
   "display_name": "Python 3",
   "language": "python",
   "name": "python3"
  },
  "language_info": {
   "codemirror_mode": {
    "name": "ipython",
    "version": 3
   },
   "file_extension": ".py",
   "mimetype": "text/x-python",
   "name": "python",
   "nbconvert_exporter": "python",
   "pygments_lexer": "ipython3",
   "version": "3.6.8"
  }
 },
 "nbformat": 4,
 "nbformat_minor": 2
}
