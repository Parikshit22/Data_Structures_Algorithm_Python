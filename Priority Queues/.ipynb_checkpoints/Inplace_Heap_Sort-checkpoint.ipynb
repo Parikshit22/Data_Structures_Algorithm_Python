{
 "cells": [
  {
   "cell_type": "code",
   "execution_count": 99,
   "metadata": {},
   "outputs": [
    {
     "name": "stdout",
     "output_type": "stream",
     "text": [
      "6\n",
      "2 6 8 5 4 3\n"
     ]
    }
   ],
   "source": [
    "def maxheap(arr,i,n):\n",
    "    if i>(n/2)-1:\n",
    "        return\n",
    "    ch1 = 2*(i)+1\n",
    "    ch2 = 2*(i)+2\n",
    "    \n",
    "    if ch2<n:\n",
    "        if arr[ch1]>arr[ch2]:\n",
    "            maxm = ch1\n",
    "        else:\n",
    "            maxm = ch2\n",
    "    else:\n",
    "        maxm = ch1\n",
    "    if arr[maxm]>arr[i]:\n",
    "        arr[maxm],arr[i] =arr[i],arr[maxm]\n",
    "    else:\n",
    "        return\n",
    "    maxheap(arr,maxm,n)\n",
    "        \n",
    "\n",
    "n = int(input())\n",
    "arr = [int(x) for x in input().split()]\n",
    "\n",
    "for i in range((n//2)-1,-1,-1):\n",
    "    maxheap(arr,i,n)\n",
    "\n"
   ]
  },
  {
   "cell_type": "code",
   "execution_count": 100,
   "metadata": {},
   "outputs": [
    {
     "data": {
      "text/plain": [
       "[8, 6, 3, 5, 4, 2]"
      ]
     },
     "execution_count": 100,
     "metadata": {},
     "output_type": "execute_result"
    }
   ],
   "source": [
    "arr"
   ]
  },
  {
   "cell_type": "code",
   "execution_count": 101,
   "metadata": {},
   "outputs": [
    {
     "name": "stdout",
     "output_type": "stream",
     "text": [
      "8 6 5 4 3 2 "
     ]
    }
   ],
   "source": [
    "for i in range(len(arr)):\n",
    "    print(arr[0],end=\" \")\n",
    "    xy = arr.pop()\n",
    "    if len(arr)>0:\n",
    "        arr[0] = xy\n",
    "    else:\n",
    "        arr.append(xy)\n",
    "    maxheap(arr,0,len(arr))"
   ]
  },
  {
   "cell_type": "code",
   "execution_count": null,
   "metadata": {},
   "outputs": [],
   "source": []
  }
 ],
 "metadata": {
  "kernelspec": {
   "display_name": "Python 3",
   "language": "python",
   "name": "python3"
  },
  "language_info": {
   "codemirror_mode": {
    "name": "ipython",
    "version": 3
   },
   "file_extension": ".py",
   "mimetype": "text/x-python",
   "name": "python",
   "nbconvert_exporter": "python",
   "pygments_lexer": "ipython3",
   "version": "3.6.8"
  }
 },
 "nbformat": 4,
 "nbformat_minor": 2
}
