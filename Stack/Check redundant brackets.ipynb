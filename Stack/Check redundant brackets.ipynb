{
 "cells": [
  {
   "cell_type": "code",
   "execution_count": 4,
   "metadata": {},
   "outputs": [
    {
     "name": "stdout",
     "output_type": "stream",
     "text": [
      "((a+b))\n",
      "true\n"
     ]
    }
   ],
   "source": [
    "\n",
    "\n",
    "def checkRedundant(string):\n",
    "    arr = []\n",
    "    for i in string:\n",
    "        if i!=')':\n",
    "            arr.append(i)\n",
    "        else:\n",
    "            cnt = 0\n",
    "            while(True):\n",
    "                ele = arr.pop()\n",
    "                if ele=='(':\n",
    "                    if cnt==0:\n",
    "                        return True\n",
    "                    else:\n",
    "                        break\n",
    "                else:\n",
    "                    cnt+=1\n",
    "    return False\n",
    "                    \n",
    "string = input()\n",
    "ans = checkRedundant(string)\n",
    "if ans is True:\n",
    "    print('true')\n",
    "else:\n",
    "    print('false')\n",
    "\n",
    "\n",
    "\n",
    "\n"
   ]
  },
  {
   "cell_type": "code",
   "execution_count": null,
   "metadata": {},
   "outputs": [],
   "source": []
  }
 ],
 "metadata": {
  "kernelspec": {
   "display_name": "Python 3",
   "language": "python",
   "name": "python3"
  },
  "language_info": {
   "codemirror_mode": {
    "name": "ipython",
    "version": 3
   },
   "file_extension": ".py",
   "mimetype": "text/x-python",
   "name": "python",
   "nbconvert_exporter": "python",
   "pygments_lexer": "ipython3",
   "version": "3.6.8"
  }
 },
 "nbformat": 4,
 "nbformat_minor": 2
}
