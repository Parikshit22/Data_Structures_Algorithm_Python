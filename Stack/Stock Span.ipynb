{
 "cells": [
  {
   "cell_type": "code",
   "execution_count": 5,
   "metadata": {},
   "outputs": [
    {
     "name": "stdout",
     "output_type": "stream",
     "text": [
      "4\n",
      "1 1 1 1\n",
      "1 1 1 1 "
     ]
    }
   ],
   "source": [
    "\n",
    "\n",
    "def stockSpan(price,n):\n",
    "    arr = []\n",
    "    val = []\n",
    "\n",
    "    for i in range(len(price)):\n",
    "        while(True):\n",
    "            if  len(arr)==0 or price[arr[-1]]>=price[i]:\n",
    "                if(len(arr)==0):\n",
    "                    val.append(i+1)\n",
    "                    arr.append(i)\n",
    "                    break\n",
    "                val.append(i-arr[-1])\n",
    "                arr.append(i)\n",
    "                break\n",
    "            else:\n",
    "                arr.pop()\n",
    "    return val\n",
    "\n",
    "n = int(input())\n",
    "price = [int(ele) for ele in input().split()]\n",
    "spans = stockSpan(price,n)\n",
    "for ele in spans:\n",
    "    print(ele,end= ' ')\n",
    "\n",
    "\n",
    "\n",
    "\n",
    "\n",
    "\n"
   ]
  },
  {
   "cell_type": "code",
   "execution_count": null,
   "metadata": {},
   "outputs": [],
   "source": []
  }
 ],
 "metadata": {
  "kernelspec": {
   "display_name": "Python 3",
   "language": "python",
   "name": "python3"
  },
  "language_info": {
   "codemirror_mode": {
    "name": "ipython",
    "version": 3
   },
   "file_extension": ".py",
   "mimetype": "text/x-python",
   "name": "python",
   "nbconvert_exporter": "python",
   "pygments_lexer": "ipython3",
   "version": "3.6.8"
  }
 },
 "nbformat": 4,
 "nbformat_minor": 2
}
