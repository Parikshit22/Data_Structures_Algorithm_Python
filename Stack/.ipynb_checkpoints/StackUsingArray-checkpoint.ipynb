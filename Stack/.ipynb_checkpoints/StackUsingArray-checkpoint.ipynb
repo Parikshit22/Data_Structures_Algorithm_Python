{
 "cells": [
  {
   "cell_type": "code",
   "execution_count": 10,
   "metadata": {},
   "outputs": [
    {
     "name": "stdout",
     "output_type": "stream",
     "text": [
      "23\n",
      "2\n",
      "False\n"
     ]
    }
   ],
   "source": [
    "class Stack:\n",
    "    def __init__(self):\n",
    "        self.__arr = []\n",
    "        self.__curr = -1\n",
    "    \n",
    "    def push(self,data):\n",
    "        self.__arr.append(data)\n",
    "        self.__curr+=1\n",
    "    \n",
    "    def pop(self,):\n",
    "        if self.is_empty():\n",
    "            return(\"Stack is empty\")\n",
    "        del(self.__arr[self.__curr])\n",
    "        self.__curr-=1\n",
    "    \n",
    "    def top(self,):\n",
    "        if self.is_empty():\n",
    "            return(\"Stack is empty\")\n",
    "        return self.__arr[self.__curr]\n",
    "    \n",
    "    def is_empty(self):\n",
    "        if self.__curr>=0:\n",
    "            return False\n",
    "        else:\n",
    "            return True\n",
    "    def size(self,):\n",
    "        return len(self.__arr)\n",
    "    \n",
    "s = Stack()\n",
    "s.push(5)\n",
    "s.push(2)\n",
    "s.pop()\n",
    "s.push(23)\n",
    "print(s.top())\n",
    "print(s.size())\n",
    "print(s.is_empty())\n",
    "    "
   ]
  },
  {
   "cell_type": "code",
   "execution_count": null,
   "metadata": {},
   "outputs": [],
   "source": []
  }
 ],
 "metadata": {
  "kernelspec": {
   "display_name": "Python 3",
   "language": "python",
   "name": "python3"
  },
  "language_info": {
   "codemirror_mode": {
    "name": "ipython",
    "version": 3
   },
   "file_extension": ".py",
   "mimetype": "text/x-python",
   "name": "python",
   "nbconvert_exporter": "python",
   "pygments_lexer": "ipython3",
   "version": "3.6.8"
  }
 },
 "nbformat": 4,
 "nbformat_minor": 2
}
