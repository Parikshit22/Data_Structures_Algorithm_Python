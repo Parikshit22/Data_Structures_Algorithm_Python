{
 "cells": [
  {
   "cell_type": "code",
   "execution_count": 10,
   "metadata": {},
   "outputs": [
    {
     "name": "stdout",
     "output_type": "stream",
     "text": [
      "1 3 1 4 1 63 1 21 1 9 2 3 1 7 2 3 5 -1\n",
      "None\n",
      "21\n",
      "None\n",
      "21\n",
      "false\n"
     ]
    }
   ],
   "source": [
    "\n",
    " ###Following Node class us already created internally. You can directly use that.\n",
    "class Node:\n",
    "    def __init__(self,data):\n",
    "        self.data = data\n",
    "        self.next = None\n",
    "        \n",
    "class StackUsingLL:\n",
    "    ### Implement all these functions here\n",
    "    \n",
    "    def __init__(self):\n",
    "        self.__head = None\n",
    "        self.__size = 0\n",
    "\n",
    "    def push(self,data):\n",
    "        new = Node(data)\n",
    "        new.next = self.__head\n",
    "        self.__head = new\n",
    "        self.__size+=1\n",
    "        \n",
    "    def pop(self):\n",
    "        new = self.__head\n",
    "        val = new.data\n",
    "        self.__head = self.__head.next\n",
    "        self.__size-=1\n",
    "        del(new)\n",
    "        return val\n",
    "    # Return 0 if stack is empty. Don't display any other message\n",
    "    def top(self):\n",
    "        if self.isEmpty():\n",
    "            return 0\n",
    "        return self.__head.data\n",
    "    # Return 0 if stack is empty. Don't display any other message\n",
    "    def isEmpty(self):\n",
    "        if self.__size>0:\n",
    "            return False\n",
    "        return True\n",
    "    def getSize(self):\n",
    "        if self.isEmpty():\n",
    "            return 0\n",
    "        return self.__size\n",
    "    \n",
    "s = StackUsingLL()\n",
    "li = [int(ele) for ele in input().split()]\n",
    "i=0\n",
    "while i<len(li):\n",
    "    choice = li[i]\n",
    "    if choice == -1:\n",
    "        break\n",
    "    elif choice == 1:\n",
    "        s.push(li[i+1])\n",
    "        i+=1\n",
    "    elif choice == 2:\n",
    "        ans = s.pop()\n",
    "        if ans!=0:\n",
    "            print(ans)\n",
    "        else:\n",
    "            print(-1)\n",
    "    elif choice == 3:\n",
    "        ans = s.top()\n",
    "        if ans!=0:\n",
    "            print(ans)\n",
    "        else:\n",
    "            print(-1)\n",
    "    elif choice == 4:\n",
    "        print(s.getSize())\n",
    "    elif choice == 5:\n",
    "        if(s.isEmpty()):\n",
    "            print('true')\n",
    "        else:\n",
    "            print('false')\n",
    "    i+=1"
   ]
  },
  {
   "cell_type": "code",
   "execution_count": null,
   "metadata": {},
   "outputs": [],
   "source": []
  }
 ],
 "metadata": {
  "kernelspec": {
   "display_name": "Python 3",
   "language": "python",
   "name": "python3"
  },
  "language_info": {
   "codemirror_mode": {
    "name": "ipython",
    "version": 3
   },
   "file_extension": ".py",
   "mimetype": "text/x-python",
   "name": "python",
   "nbconvert_exporter": "python",
   "pygments_lexer": "ipython3",
   "version": "3.6.8"
  }
 },
 "nbformat": 4,
 "nbformat_minor": 2
}
