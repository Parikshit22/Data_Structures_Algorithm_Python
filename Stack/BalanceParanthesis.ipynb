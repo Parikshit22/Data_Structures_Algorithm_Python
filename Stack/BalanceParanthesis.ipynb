{
 "cells": [
  {
   "cell_type": "code",
   "execution_count": 2,
   "metadata": {},
   "outputs": [
    {
     "name": "stdout",
     "output_type": "stream",
     "text": [
      "{ a + [ b+ (c + d)} + (e + f) }\n",
      "false\n"
     ]
    }
   ],
   "source": [
    "\n",
    "def checkBalanced(expr):\n",
    "    arr = []\n",
    "    for i in expr:\n",
    "        if i == '{' or i == '(' or i == '[':\n",
    "            arr.append(i)\n",
    "        elif i == '}':\n",
    "            if len(arr)==0:\n",
    "                return False\n",
    "            elif arr[-1]!='{':\n",
    "                return False\n",
    "            else:\n",
    "                arr.pop()\n",
    "        elif i == ']':\n",
    "            if len(arr)==0:\n",
    "                return False\n",
    "            elif arr[-1]!='[':\n",
    "                return False\n",
    "            else:\n",
    "                arr.pop()\n",
    "        elif i == ')':\n",
    "            if len(arr)==0:\n",
    "                return False\n",
    "            elif arr[-1]!='(':\n",
    "                return False\n",
    "            else:\n",
    "                arr.pop()\n",
    "        else:\n",
    "            pass\n",
    "    if len(arr)==0:\n",
    "        return True\n",
    "    else:\n",
    "        return False\n",
    "exp=input()\n",
    "if checkBalanced(exp):\n",
    "    print('true')\n",
    "else:\n",
    "    print('false')\n",
    "\n"
   ]
  },
  {
   "cell_type": "code",
   "execution_count": null,
   "metadata": {},
   "outputs": [],
   "source": []
  }
 ],
 "metadata": {
  "kernelspec": {
   "display_name": "Python 3",
   "language": "python",
   "name": "python3"
  },
  "language_info": {
   "codemirror_mode": {
    "name": "ipython",
    "version": 3
   },
   "file_extension": ".py",
   "mimetype": "text/x-python",
   "name": "python",
   "nbconvert_exporter": "python",
   "pygments_lexer": "ipython3",
   "version": "3.6.8"
  }
 },
 "nbformat": 4,
 "nbformat_minor": 2
}
