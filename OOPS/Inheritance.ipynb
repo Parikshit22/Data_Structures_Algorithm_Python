{
 "cells": [
  {
   "cell_type": "code",
   "execution_count": 70,
   "metadata": {},
   "outputs": [],
   "source": [
    "class Vehicle:\n",
    "    def __init__(self,color,max_speed):\n",
    "        self._color = color\n",
    "        self.__max_speed = max_speed\n",
    "    def __str__(self):\n",
    "        return \"this is a Vehicle class\"\n",
    "    def getMaxspeed(self,):\n",
    "        return self.__max_speed\n",
    "    def setmaxspeed(self,max_speed):\n",
    "        self.__max_speed = speed\n",
    "    def print(self,):\n",
    "        print(f\"Color is {self._color}\")\n",
    "        print(f\"max_speed is {self.__max_speed}\")\n",
    "class Car(Vehicle):\n",
    "    def __init__(self,color,max_speed,gears,is_convertible):\n",
    "        super().__init__(color,max_speed)\n",
    "        self.gears = gears\n",
    "        self.is_convertible = is_convertible\n",
    "    def __str__(self):\n",
    "        return \"this is a CAR class\"\n",
    "    def print(self,):\n",
    "#         self.print()\n",
    "        super().print()\n",
    "        print(f\"gears is {self.gears}\")\n",
    "        print(f\"is_convertible is {self.is_convertible}\")"
   ]
  },
  {
   "cell_type": "code",
   "execution_count": 71,
   "metadata": {},
   "outputs": [],
   "source": [
    "c = Car(\"blue\",220,5,\"yes\")"
   ]
  },
  {
   "cell_type": "code",
   "execution_count": 72,
   "metadata": {},
   "outputs": [
    {
     "name": "stdout",
     "output_type": "stream",
     "text": [
      "this is a CAR class\n"
     ]
    }
   ],
   "source": [
    "print(c)"
   ]
  },
  {
   "cell_type": "code",
   "execution_count": 73,
   "metadata": {},
   "outputs": [],
   "source": [
    "v = Vehicle(\"red\",200)"
   ]
  },
  {
   "cell_type": "code",
   "execution_count": 74,
   "metadata": {},
   "outputs": [
    {
     "name": "stdout",
     "output_type": "stream",
     "text": [
      "this is a Vehicle class\n"
     ]
    }
   ],
   "source": [
    "print(v)"
   ]
  },
  {
   "cell_type": "code",
   "execution_count": null,
   "metadata": {},
   "outputs": [],
   "source": []
  }
 ],
 "metadata": {
  "kernelspec": {
   "display_name": "Python 3",
   "language": "python",
   "name": "python3"
  },
  "language_info": {
   "codemirror_mode": {
    "name": "ipython",
    "version": 3
   },
   "file_extension": ".py",
   "mimetype": "text/x-python",
   "name": "python",
   "nbconvert_exporter": "python",
   "pygments_lexer": "ipython3",
   "version": "3.6.8"
  }
 },
 "nbformat": 4,
 "nbformat_minor": 2
}
