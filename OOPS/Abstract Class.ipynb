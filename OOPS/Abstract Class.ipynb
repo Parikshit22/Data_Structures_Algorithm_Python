{
 "cells": [
  {
   "cell_type": "code",
   "execution_count": 8,
   "metadata": {},
   "outputs": [
    {
     "name": "stdout",
     "output_type": "stream",
     "text": [
      "car created\n"
     ]
    }
   ],
   "source": [
    "from abc import ABC,abstractmethod\n",
    "class Automobile(ABC):\n",
    "    def __init__(self):\n",
    "        print(\"We are in Automobile\")\n",
    "        \n",
    "    @abstractmethod\n",
    "    def start(self):\n",
    "        print(\"Automobile start called\")\n",
    "#     @abstractmethod\n",
    "    def stop(self):\n",
    "        pass\n",
    "    @abstractmethod\n",
    "    def drive(self):\n",
    "        pass\n",
    "    \n",
    "class Car(Automobile):\n",
    "    def __init__(self,name):\n",
    "        print(\"car created\")\n",
    "        self.name = name\n",
    "    \n",
    "    def start(self):\n",
    "        super().start()\n",
    "        print(\"Car print called\")\n",
    "    \n",
    "    def stop(self):\n",
    "        pass\n",
    "    def drive(self):\n",
    "        pass\n",
    "c = Car(\"honda\")"
   ]
  },
  {
   "cell_type": "code",
   "execution_count": 9,
   "metadata": {},
   "outputs": [
    {
     "name": "stdout",
     "output_type": "stream",
     "text": [
      "Automobile start called\n",
      "Car print called\n"
     ]
    }
   ],
   "source": [
    "c.start()"
   ]
  },
  {
   "cell_type": "code",
   "execution_count": null,
   "metadata": {},
   "outputs": [],
   "source": []
  },
  {
   "cell_type": "markdown",
   "metadata": {},
   "source": [
    "# USE CASE OF ABSTRACT CLASS"
   ]
  },
  {
   "cell_type": "code",
   "execution_count": 15,
   "metadata": {},
   "outputs": [
    {
     "name": "stdout",
     "output_type": "stream",
     "text": [
      "We are in Automobile\n",
      "We are in Automobile\n",
      "2\n",
      "4\n"
     ]
    }
   ],
   "source": [
    "from abc import ABC,abstractmethod\n",
    "class Automobile(ABC):\n",
    "    def __init__(self,wheels):\n",
    "        self.wheels = wheels\n",
    "        print(\"We are in Automobile\")\n",
    "        \n",
    "    @abstractmethod\n",
    "    def start(self):\n",
    "        print(\"Automobile start called\")\n",
    "#     @abstractmethod\n",
    "    def stop(self):\n",
    "        pass\n",
    "    @abstractmethod\n",
    "    def drive(self):\n",
    "        pass\n",
    "    @abstractmethod\n",
    "    def no_of_wheels(self):\n",
    "        return self.wheels\n",
    "\n",
    "class Bike(Automobile):\n",
    "    \n",
    "    def start(self):\n",
    "        super().start()\n",
    "        print(\"Car print called\")\n",
    "    \n",
    "    def stop(self):\n",
    "        pass\n",
    "    def drive(self):\n",
    "        pass\n",
    "    \n",
    "    def no_of_wheels(self):\n",
    "        return super().no_of_wheels() \n",
    "    \n",
    "class Car(Automobile):\n",
    "    \n",
    "    def start(self):\n",
    "        super().start()\n",
    "        print(\"Car print called\")\n",
    "    \n",
    "    def stop(self):\n",
    "        pass\n",
    "    def drive(self):\n",
    "        pass\n",
    "    \n",
    "    def no_of_wheels(self):\n",
    "        return super().no_of_wheels() \n",
    "b = Bike(2)\n",
    "c = Car(4)\n",
    "print(b.no_of_wheels())\n",
    "print(c.no_of_wheels())"
   ]
  },
  {
   "cell_type": "code",
   "execution_count": null,
   "metadata": {},
   "outputs": [],
   "source": []
  }
 ],
 "metadata": {
  "kernelspec": {
   "display_name": "Python 3",
   "language": "python",
   "name": "python3"
  },
  "language_info": {
   "codemirror_mode": {
    "name": "ipython",
    "version": 3
   },
   "file_extension": ".py",
   "mimetype": "text/x-python",
   "name": "python",
   "nbconvert_exporter": "python",
   "pygments_lexer": "ipython3",
   "version": "3.6.8"
  }
 },
 "nbformat": 4,
 "nbformat_minor": 2
}
