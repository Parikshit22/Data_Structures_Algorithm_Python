{
 "cells": [
  {
   "cell_type": "code",
   "execution_count": 11,
   "metadata": {},
   "outputs": [
    {
     "name": "stdout",
     "output_type": "stream",
     "text": [
      "ZeroDivisionError occured\n",
      "This will get executed\n"
     ]
    }
   ],
   "source": [
    "class ZeroDenominatorError(ZeroDivisionError):\n",
    "    pass\n",
    "try:\n",
    "    a = 10\n",
    "    b = 0\n",
    "    if(b==0):\n",
    "        raise ZeroDenominatorError()\n",
    "\n",
    "    c = a/b\n",
    "except ZeroDivisionError:\n",
    "    print(\"ZeroDivisionError occured\")\n",
    "except ValueError:\n",
    "    print(\"ValueError occured\")\n",
    "except Exception as e:\n",
    "    print(f\"Some Error occured {e}\")\n",
    "# except ZeroDenominatorError:\n",
    "#     print(\"ZeroDenominatorError occured\")\n",
    "else:\n",
    "    print(\"Everything worked fine\")\n",
    "finally:\n",
    "    print(\"This will get executed\")"
   ]
  },
  {
   "cell_type": "code",
   "execution_count": null,
   "metadata": {},
   "outputs": [],
   "source": []
  }
 ],
 "metadata": {
  "kernelspec": {
   "display_name": "Python 3",
   "language": "python",
   "name": "python3"
  },
  "language_info": {
   "codemirror_mode": {
    "name": "ipython",
    "version": 3
   },
   "file_extension": ".py",
   "mimetype": "text/x-python",
   "name": "python",
   "nbconvert_exporter": "python",
   "pygments_lexer": "ipython3",
   "version": "3.6.8"
  }
 },
 "nbformat": 4,
 "nbformat_minor": 2
}
