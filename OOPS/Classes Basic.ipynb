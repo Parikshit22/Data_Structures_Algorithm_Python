{
 "cells": [
  {
   "cell_type": "code",
   "execution_count": 83,
   "metadata": {},
   "outputs": [],
   "source": [
    "class Car:\n",
    "    vehicle = \"car\"\n",
    "    def __init__(self,speed,color,price):\n",
    "        self.__speed = speed\n",
    "        self.color = color\n",
    "        self.price = price\n",
    "    \n",
    "    def getspeed(self,):\n",
    "        return self.__speed\n",
    "    \n",
    "    def setspeed(self,value):\n",
    "        self.__speed = value\n",
    "        \n",
    "    def start(self,):\n",
    "        print(\"Car has started\")\n",
    "    \n",
    "    def stop(self,):\n",
    "        print(\"Car is stoped\")\n",
    "        "
   ]
  },
  {
   "cell_type": "code",
   "execution_count": 84,
   "metadata": {},
   "outputs": [],
   "source": [
    "honda = Car(40,\"red\",10000)"
   ]
  },
  {
   "cell_type": "code",
   "execution_count": 85,
   "metadata": {},
   "outputs": [
    {
     "data": {
      "text/plain": [
       "40"
      ]
     },
     "execution_count": 85,
     "metadata": {},
     "output_type": "execute_result"
    }
   ],
   "source": [
    "honda.getspeed()"
   ]
  },
  {
   "cell_type": "code",
   "execution_count": 86,
   "metadata": {},
   "outputs": [],
   "source": [
    "honda.setspeed(60)"
   ]
  },
  {
   "cell_type": "code",
   "execution_count": 87,
   "metadata": {},
   "outputs": [
    {
     "data": {
      "text/plain": [
       "60"
      ]
     },
     "execution_count": 87,
     "metadata": {},
     "output_type": "execute_result"
    }
   ],
   "source": [
    "honda.getspeed()"
   ]
  },
  {
   "cell_type": "code",
   "execution_count": null,
   "metadata": {},
   "outputs": [],
   "source": []
  },
  {
   "cell_type": "code",
   "execution_count": 88,
   "metadata": {},
   "outputs": [],
   "source": [
    "class Vehicle:\n",
    "    def __init__(self,color,max_speed):\n",
    "        self._color = color\n",
    "        self.__max_speed = max_speed\n",
    "    def __str__(self):\n",
    "        return \"this is a Vehicle class\"\n",
    "    def getMaxspeed(self,):\n",
    "        return self.__max_speed\n",
    "    def setmaxspeed(self,max_speed):\n",
    "        self.__max_speed = speed\n",
    "    def print(self,):\n",
    "        print(f\"Color is {self._color}\")\n",
    "\n",
    "class Car(Vehicle):\n",
    "    def __init__(self,color,max_speed,gears,is_covertible):\n",
    "        super().__init__(color,max_speed)\n",
    "        self.gears = gears\n",
    "        self.is_covertible = is_covertible\n",
    "        \n",
    "    def __str__(self):\n",
    "        return \"this is Car class\"\n",
    "    \n",
    "    def print(self,):\n",
    "        super().print()\n",
    "        print(f\"gears are {self.gears}\")\n",
    "        print(f\"is covertible is {self.is_covertible}\")\n",
    "        \n",
    "        \n"
   ]
  },
  {
   "cell_type": "code",
   "execution_count": 91,
   "metadata": {},
   "outputs": [],
   "source": [
    "c =Car(\"red\",60,5,True)"
   ]
  },
  {
   "cell_type": "code",
   "execution_count": 93,
   "metadata": {},
   "outputs": [
    {
     "name": "stdout",
     "output_type": "stream",
     "text": [
      "Color is red\n",
      "gears are 5\n",
      "is covertible is True\n"
     ]
    }
   ],
   "source": [
    "c.print()"
   ]
  },
  {
   "cell_type": "code",
   "execution_count": 106,
   "metadata": {},
   "outputs": [],
   "source": [
    "class Person:\n",
    "    def run(self):\n",
    "        print(\"{} is running slowly\".format(self.__class__.__name__))\n",
    "    \n",
    "class Adult(Person):\n",
    "    def run(self):\n",
    "        print(\"Adult is running super fast\")\n",
    "    \n",
    "class Child(Person):\n",
    "    pass         "
   ]
  },
  {
   "cell_type": "code",
   "execution_count": 111,
   "metadata": {},
   "outputs": [],
   "source": [
    "a = Adult()\n",
    "b = Child()"
   ]
  },
  {
   "cell_type": "code",
   "execution_count": 112,
   "metadata": {},
   "outputs": [
    {
     "name": "stdout",
     "output_type": "stream",
     "text": [
      "Adult is running super fast\n"
     ]
    }
   ],
   "source": [
    "a.run()"
   ]
  },
  {
   "cell_type": "code",
   "execution_count": 113,
   "metadata": {},
   "outputs": [
    {
     "name": "stdout",
     "output_type": "stream",
     "text": [
      "Child is running slowly\n"
     ]
    }
   ],
   "source": [
    "b.run()"
   ]
  },
  {
   "cell_type": "code",
   "execution_count": null,
   "metadata": {},
   "outputs": [],
   "source": []
  },
  {
   "cell_type": "code",
   "execution_count": null,
   "metadata": {},
   "outputs": [],
   "source": []
  },
  {
   "cell_type": "code",
   "execution_count": 137,
   "metadata": {},
   "outputs": [],
   "source": [
    "class Fruit:\n",
    "    def __init__(self,name,price,number):\n",
    "        self.name = name\n",
    "        self.price = price\n",
    "        self.number = number\n",
    "        \n",
    "    def __str__(self):\n",
    "        return f\"This is a {self.name} fruit\"\n",
    "    \n",
    "    def __len__(self):\n",
    "        return self.number\n",
    "    \n",
    "    def __eq__(self,other):\n",
    "        return self.price==other.price\n",
    "    \n",
    "    def __add__(self,other):\n",
    "        return self.price+other.price"
   ]
  },
  {
   "cell_type": "code",
   "execution_count": 144,
   "metadata": {},
   "outputs": [],
   "source": [
    "a = Fruit(\"Mango\",40,5)\n",
    "b = Fruit(\"Apple\",40,3)"
   ]
  },
  {
   "cell_type": "code",
   "execution_count": 146,
   "metadata": {},
   "outputs": [
    {
     "data": {
      "text/plain": [
       "80"
      ]
     },
     "execution_count": 146,
     "metadata": {},
     "output_type": "execute_result"
    }
   ],
   "source": [
    "a+b"
   ]
  },
  {
   "cell_type": "code",
   "execution_count": null,
   "metadata": {},
   "outputs": [],
   "source": [
    "cout<<\"hello\"<<\"Parikshit\""
   ]
  },
  {
   "cell_type": "code",
   "execution_count": 150,
   "metadata": {},
   "outputs": [],
   "source": [
    "class Ostream:\n",
    "    def __lshift__(self,other):\n",
    "        print(other,end = \" \")\n",
    "        return self\n",
    "cout = Ostream() "
   ]
  },
  {
   "cell_type": "code",
   "execution_count": 152,
   "metadata": {},
   "outputs": [
    {
     "name": "stdout",
     "output_type": "stream",
     "text": [
      "Hello Parikshit "
     ]
    },
    {
     "data": {
      "text/plain": [
       "<__main__.Ostream at 0x28a338794a8>"
      ]
     },
     "execution_count": 152,
     "metadata": {},
     "output_type": "execute_result"
    }
   ],
   "source": [
    "cout<<\"Hello\"<<\"Parikshit\""
   ]
  },
  {
   "cell_type": "code",
   "execution_count": null,
   "metadata": {},
   "outputs": [],
   "source": []
  }
 ],
 "metadata": {
  "kernelspec": {
   "display_name": "Python 3",
   "language": "python",
   "name": "python3"
  },
  "language_info": {
   "codemirror_mode": {
    "name": "ipython",
    "version": 3
   },
   "file_extension": ".py",
   "mimetype": "text/x-python",
   "name": "python",
   "nbconvert_exporter": "python",
   "pygments_lexer": "ipython3",
   "version": "3.6.8"
  }
 },
 "nbformat": 4,
 "nbformat_minor": 2
}
