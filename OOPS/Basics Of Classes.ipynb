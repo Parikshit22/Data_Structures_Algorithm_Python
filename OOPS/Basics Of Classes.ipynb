{
 "cells": [
  {
   "cell_type": "code",
   "execution_count": 10,
   "metadata": {},
   "outputs": [
    {
     "name": "stdout",
     "output_type": "stream",
     "text": [
      "Welcome to school\n",
      "Name of student is Parikshit\n",
      "Age of student is 15\n",
      "Percentage of student is 80\n",
      "student is passed\n",
      "Name of student is Parikshit\n",
      "Age of student is 22\n",
      "Percentage of student is 90\n"
     ]
    }
   ],
   "source": [
    "from datetime import date\n",
    "class Student():\n",
    "    \n",
    "    __passing_percentage = 40\n",
    "    def __init__(self,name,age=15,percentage=80):\n",
    "#         self.name = name\n",
    "#         To convert name as private member\n",
    "        self.__name=name\n",
    "        self.age = age\n",
    "        self.percentage = percentage\n",
    "        \n",
    "    def student_details(self):\n",
    "        print(f\"Name of student is {self.__name}\")\n",
    "        print(f\"Age of student is {self.age}\")\n",
    "        print(f\"Percentage of student is {self.percentage}\")\n",
    "        \n",
    "    def ispassed(self):\n",
    "        if self.percentage>=Student.__passing_percentage:\n",
    "            print(\"student is passed\")\n",
    "        else:\n",
    "            print(\"student is not passed\")\n",
    "            \n",
    "    @staticmethod\n",
    "    def Welcome():\n",
    "        print(\"Welcome to school\")\n",
    "        \n",
    "    @classmethod\n",
    "    def initialize(cls,name,year,percentage):\n",
    "        return cls(name,date.today().year-year,percentage)\n",
    "    \n",
    "    \n",
    "s = Student(\"Parikshit\")\n",
    "Student.Welcome()\n",
    "s.student_details()\n",
    "s.ispassed()\n",
    "s = Student.initialize(\"Parikshit\",1998,90)\n",
    "s.student_details()"
   ]
  },
  {
   "cell_type": "code",
   "execution_count": null,
   "metadata": {},
   "outputs": [],
   "source": []
  },
  {
   "cell_type": "code",
   "execution_count": null,
   "metadata": {},
   "outputs": [],
   "source": []
  }
 ],
 "metadata": {
  "kernelspec": {
   "display_name": "Python 3",
   "language": "python",
   "name": "python3"
  },
  "language_info": {
   "codemirror_mode": {
    "name": "ipython",
    "version": 3
   },
   "file_extension": ".py",
   "mimetype": "text/x-python",
   "name": "python",
   "nbconvert_exporter": "python",
   "pygments_lexer": "ipython3",
   "version": "3.6.8"
  }
 },
 "nbformat": 4,
 "nbformat_minor": 2
}
