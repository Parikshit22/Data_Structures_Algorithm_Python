{
 "cells": [
  {
   "cell_type": "code",
   "execution_count": 29,
   "metadata": {},
   "outputs": [
    {
     "name": "stdout",
     "output_type": "stream",
     "text": [
      "5\n"
     ]
    }
   ],
   "source": [
    "s = \"hcbehahccaag\"\n",
    "cnt = 1\n",
    "i = 0\n",
    "while(i<len(s)):\n",
    "    a = s[i]\n",
    "    val = ord(a)\n",
    "    flag = -1\n",
    "    i+=1\n",
    "    while(i<len(s)):\n",
    "        if flag==-1:\n",
    "            if ord(s[i])>val:\n",
    "                flag = 1\n",
    "            else:\n",
    "                flag = 0\n",
    "            val = ord(s[i])\n",
    "            i+=1\n",
    "            \n",
    "            \n",
    "        else:\n",
    "            if ord(s[i])>val:\n",
    "                flag2 = 1\n",
    "            else:\n",
    "                flag2 = 0\n",
    "            val = ord(s[i])\n",
    "            \n",
    "            \n",
    "            if flag == flag2:\n",
    "                i+=1\n",
    "                continue\n",
    "            else:\n",
    "                cnt+=1\n",
    "                break\n",
    "print(cnt)"
   ]
  },
  {
   "cell_type": "code",
   "execution_count": null,
   "metadata": {},
   "outputs": [],
   "source": []
  }
 ],
 "metadata": {
  "kernelspec": {
   "display_name": "Python 3",
   "language": "python",
   "name": "python3"
  },
  "language_info": {
   "codemirror_mode": {
    "name": "ipython",
    "version": 3
   },
   "file_extension": ".py",
   "mimetype": "text/x-python",
   "name": "python",
   "nbconvert_exporter": "python",
   "pygments_lexer": "ipython3",
   "version": "3.6.8"
  }
 },
 "nbformat": 4,
 "nbformat_minor": 2
}
