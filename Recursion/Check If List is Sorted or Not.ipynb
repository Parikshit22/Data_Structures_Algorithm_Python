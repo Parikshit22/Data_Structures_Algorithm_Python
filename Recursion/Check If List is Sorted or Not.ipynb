{
 "cells": [
  {
   "cell_type": "code",
   "execution_count": 1,
   "metadata": {},
   "outputs": [],
   "source": [
    "def is_sorted(arr,n):\n",
    "    if n==0:\n",
    "        return True\n",
    "    if is_sorted(arr,n-1) and arr[n]>=arr[n-1]:\n",
    "        return True\n",
    "    else:\n",
    "        return False\n",
    "        \n",
    "        "
   ]
  },
  {
   "cell_type": "code",
   "execution_count": 3,
   "metadata": {},
   "outputs": [
    {
     "data": {
      "text/plain": [
       "False"
      ]
     },
     "execution_count": 3,
     "metadata": {},
     "output_type": "execute_result"
    }
   ],
   "source": [
    "is_sorted([1,7,3,4,5],4)"
   ]
  },
  {
   "cell_type": "code",
   "execution_count": null,
   "metadata": {},
   "outputs": [],
   "source": []
  },
  {
   "cell_type": "code",
   "execution_count": 8,
   "metadata": {},
   "outputs": [
    {
     "name": "stdout",
     "output_type": "stream",
     "text": [
      "4\n",
      "9 8 10 8\n",
      "8\n",
      "9\n",
      "8\n",
      "1\n",
      "None\n"
     ]
    }
   ],
   "source": [
    "def firstIndex(arr, x,k):\n",
    "    # Please add your code here\n",
    "\tif len(arr)==0:\n",
    "\t\treturn -1\n",
    "\tprint(arr[0])\n",
    "\tif arr[0]==x:\n",
    "\t\tprint(k)        \n",
    "\t\treturn k\n",
    "\tfirstIndex(arr[1:],x,k+1)\n",
    "\n",
    "# Main\n",
    "from sys import setrecursionlimit\n",
    "setrecursionlimit(11000)\n",
    "n=int(input())\n",
    "arr=list(int(i) for i in input().strip().split(' '))\n",
    "x=int(input())\n",
    "print(firstIndex(arr, x, 0))\n"
   ]
  },
  {
   "cell_type": "code",
   "execution_count": null,
   "metadata": {},
   "outputs": [],
   "source": [
    "\n",
    "4\n",
    "9 8 10 8\n",
    "8"
   ]
  }
 ],
 "metadata": {
  "kernelspec": {
   "display_name": "Python 3",
   "language": "python",
   "name": "python3"
  },
  "language_info": {
   "codemirror_mode": {
    "name": "ipython",
    "version": 3
   },
   "file_extension": ".py",
   "mimetype": "text/x-python",
   "name": "python",
   "nbconvert_exporter": "python",
   "pygments_lexer": "ipython3",
   "version": "3.6.8"
  }
 },
 "nbformat": 4,
 "nbformat_minor": 2
}
