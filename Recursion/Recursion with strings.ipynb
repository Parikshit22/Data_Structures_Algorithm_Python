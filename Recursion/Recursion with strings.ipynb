{
 "cells": [
  {
   "cell_type": "code",
   "execution_count": 20,
   "metadata": {},
   "outputs": [],
   "source": [
    "def replacechar(string,a,b):\n",
    "    if len(string)==0:\n",
    "        return string\n",
    "    stri = replacechar(string[1:],a,b)\n",
    "    if string[0]==a:\n",
    "        return b+stri\n",
    "    else:\n",
    "        return string[0]+stri"
   ]
  },
  {
   "cell_type": "code",
   "execution_count": 23,
   "metadata": {},
   "outputs": [
    {
     "data": {
      "text/plain": [
       "'ebdsdfe'"
      ]
     },
     "execution_count": 23,
     "metadata": {},
     "output_type": "execute_result"
    }
   ],
   "source": [
    "replacechar(\"abdsdfa\",\"a\",\"e\")"
   ]
  },
  {
   "cell_type": "code",
   "execution_count": 26,
   "metadata": {},
   "outputs": [],
   "source": [
    "def removeduplicates(string):\n",
    "    if len(string)==0:\n",
    "        return string\n",
    "    k = 1\n",
    "    val = string[0]\n",
    "    for i in range(1,len(string)):\n",
    "        if string[i]==val:\n",
    "            k+=1\n",
    "        else:\n",
    "            break\n",
    "    stri = removeduplicates(string[k:])\n",
    "    return string[0]+stri"
   ]
  },
  {
   "cell_type": "code",
   "execution_count": 27,
   "metadata": {},
   "outputs": [
    {
     "data": {
      "text/plain": [
       "'xysdfgfd'"
      ]
     },
     "execution_count": 27,
     "metadata": {},
     "output_type": "execute_result"
    }
   ],
   "source": [
    "removeduplicates(\"xxxysssdffgfdd\")"
   ]
  },
  {
   "cell_type": "code",
   "execution_count": null,
   "metadata": {},
   "outputs": [],
   "source": []
  }
 ],
 "metadata": {
  "kernelspec": {
   "display_name": "Python 3",
   "language": "python",
   "name": "python3"
  },
  "language_info": {
   "codemirror_mode": {
    "name": "ipython",
    "version": 3
   },
   "file_extension": ".py",
   "mimetype": "text/x-python",
   "name": "python",
   "nbconvert_exporter": "python",
   "pygments_lexer": "ipython3",
   "version": "3.6.8"
  }
 },
 "nbformat": 4,
 "nbformat_minor": 2
}
