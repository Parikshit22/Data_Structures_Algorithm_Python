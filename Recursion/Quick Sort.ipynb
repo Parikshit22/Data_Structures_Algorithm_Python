{
 "cells": [
  {
   "cell_type": "code",
   "execution_count": 7,
   "metadata": {},
   "outputs": [],
   "source": [
    "def partition(arr,s,e):\n",
    "    \n",
    "    i = s-1\n",
    "    j = s\n",
    "    \n",
    "    while(True):\n",
    "        if(j==e):\n",
    "            i+=1\n",
    "            arr[i],arr[j] = arr[j],arr[i]\n",
    "            break\n",
    "        if(arr[j]<arr[e]):\n",
    "            i+=1\n",
    "            arr[i],arr[j] = arr[j],arr[i]\n",
    "        j+=1\n",
    "    return i\n",
    "    \n",
    "    \n",
    "    \n",
    "    \n",
    "def quicksort(arr,s,e):\n",
    "    if(s>e):\n",
    "        return\n",
    "    pivot_index = e\n",
    "    q = partition(arr,s,e)\n",
    "    quicksort(arr,s,q-1)\n",
    "    quicksort(arr,q+1,e)"
   ]
  },
  {
   "cell_type": "code",
   "execution_count": 9,
   "metadata": {},
   "outputs": [
    {
     "data": {
      "text/plain": [
       "[1, 2, 5, 34]"
      ]
     },
     "execution_count": 9,
     "metadata": {},
     "output_type": "execute_result"
    }
   ],
   "source": [
    "arr = [1,2,34,5]\n",
    "quicksort(arr,0,3)\n",
    "arr"
   ]
  },
  {
   "cell_type": "code",
   "execution_count": null,
   "metadata": {},
   "outputs": [],
   "source": []
  }
 ],
 "metadata": {
  "kernelspec": {
   "display_name": "Python 3",
   "language": "python",
   "name": "python3"
  },
  "language_info": {
   "codemirror_mode": {
    "name": "ipython",
    "version": 3
   },
   "file_extension": ".py",
   "mimetype": "text/x-python",
   "name": "python",
   "nbconvert_exporter": "python",
   "pygments_lexer": "ipython3",
   "version": "3.6.8"
  }
 },
 "nbformat": 4,
 "nbformat_minor": 2
}
