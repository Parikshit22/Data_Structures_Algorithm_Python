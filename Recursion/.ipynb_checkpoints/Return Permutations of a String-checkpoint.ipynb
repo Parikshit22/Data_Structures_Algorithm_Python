{
 "cells": [
  {
   "cell_type": "code",
   "execution_count": 4,
   "metadata": {},
   "outputs": [
    {
     "name": "stdout",
     "output_type": "stream",
     "text": [
      "abc\n",
      "abc\n",
      "acb\n",
      "bac\n",
      "bca\n",
      "cab\n",
      "cba\n"
     ]
    }
   ],
   "source": [
    "\n",
    "\n",
    "def permutations(string):\n",
    "    if len(string) == 1:\n",
    "        return [string]\n",
    "    i = 0\n",
    "    output = []\n",
    "    for i in range(len(string)):\n",
    "        val = string[i]\n",
    "        smaller_out = permutations(string[:i]+string[i+1:])\n",
    "        for j in smaller_out:\n",
    "            output.append(val+j)\n",
    "    return output\n",
    "\n",
    "    \n",
    "\n",
    "string = input()\n",
    "ans = permutations(string)\n",
    "for s in ans:\n",
    "    print(s)"
   ]
  },
  {
   "cell_type": "code",
   "execution_count": null,
   "metadata": {},
   "outputs": [],
   "source": []
  }
 ],
 "metadata": {
  "kernelspec": {
   "display_name": "Python 3",
   "language": "python",
   "name": "python3"
  },
  "language_info": {
   "codemirror_mode": {
    "name": "ipython",
    "version": 3
   },
   "file_extension": ".py",
   "mimetype": "text/x-python",
   "name": "python",
   "nbconvert_exporter": "python",
   "pygments_lexer": "ipython3",
   "version": "3.6.8"
  }
 },
 "nbformat": 4,
 "nbformat_minor": 2
}
