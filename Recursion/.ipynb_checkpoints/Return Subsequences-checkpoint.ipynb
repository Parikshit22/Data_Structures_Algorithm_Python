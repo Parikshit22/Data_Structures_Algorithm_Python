{
 "cells": [
  {
   "cell_type": "code",
   "execution_count": 11,
   "metadata": {},
   "outputs": [
    {
     "name": "stdout",
     "output_type": "stream",
     "text": [
      "abc\n",
      "abc\n",
      "ab\n",
      "ac\n",
      "a\n",
      "bc\n",
      "b\n",
      "c\n",
      "\"\"\n"
     ]
    }
   ],
   "source": [
    "\n",
    "\n",
    "def subsequences(string,stri):\n",
    "    if len(string)==0:\n",
    "        print(stri)\n",
    "        return\n",
    "    subsequences(string[1:],stri+string[0])\n",
    "    subsequences(string[1:],stri)\n",
    "    \n",
    "\n",
    "\n",
    "\n",
    "string = input()\n",
    "subsequences(string,'')\n",
    "\n",
    "\n",
    "\n",
    "\n",
    "\n",
    "\n"
   ]
  },
  {
   "cell_type": "code",
   "execution_count": null,
   "metadata": {},
   "outputs": [],
   "source": []
  }
 ],
 "metadata": {
  "kernelspec": {
   "display_name": "Python 3",
   "language": "python",
   "name": "python3"
  },
  "language_info": {
   "codemirror_mode": {
    "name": "ipython",
    "version": 3
   },
   "file_extension": ".py",
   "mimetype": "text/x-python",
   "name": "python",
   "nbconvert_exporter": "python",
   "pygments_lexer": "ipython3",
   "version": "3.6.8"
  }
 },
 "nbformat": 4,
 "nbformat_minor": 2
}
