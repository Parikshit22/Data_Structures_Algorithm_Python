{
 "cells": [
  {
   "cell_type": "code",
   "execution_count": 1,
   "metadata": {},
   "outputs": [],
   "source": [
    "dic = {2:['a','b','c'],3:['d','e','f'],4:['g','h','i'],5:['j','k','l'],6:['m','n','o'],7:['p','q','r','s'],8:['t','u','v'],9:['w','x','y','z'],1:[' '],0:[' ']}"
   ]
  },
  {
   "cell_type": "code",
   "execution_count": 2,
   "metadata": {},
   "outputs": [
    {
     "data": {
      "text/plain": [
       "{2: ['a', 'b', 'c'],\n",
       " 3: ['d', 'e', 'f'],\n",
       " 4: ['g', 'h', 'i'],\n",
       " 5: ['j', 'k', 'l'],\n",
       " 6: ['m', 'n', 'o'],\n",
       " 7: ['p', 'q', 'r', 's'],\n",
       " 8: ['t', 'u', 'v'],\n",
       " 9: ['w', 'x', 'y', 'z'],\n",
       " 1: [' '],\n",
       " 0: [' ']}"
      ]
     },
     "execution_count": 2,
     "metadata": {},
     "output_type": "execute_result"
    }
   ],
   "source": [
    "dic"
   ]
  },
  {
   "cell_type": "code",
   "execution_count": 11,
   "metadata": {},
   "outputs": [
    {
     "name": "stdout",
     "output_type": "stream",
     "text": [
      "23\n",
      "ad\n",
      "bd\n",
      "cd\n",
      "ae\n",
      "be\n",
      "ce\n",
      "af\n",
      "bf\n",
      "cf\n"
     ]
    }
   ],
   "source": [
    "\n",
    "def keypad(n,stri):\n",
    "    if n<=0:\n",
    "        print(stri)\n",
    "        return\n",
    "    val = n%10\n",
    "    for i in dic[val]:\n",
    "        keypad(n//10,str(i)+stri)\n",
    "n = int(input())\n",
    "keypad(n,'')\n"
   ]
  },
  {
   "cell_type": "code",
   "execution_count": 7,
   "metadata": {},
   "outputs": [
    {
     "name": "stdout",
     "output_type": "stream",
     "text": [
      "23\n",
      "['ad', 'ae', 'af', 'bd', 'be', 'bf', 'cd', 'ce', 'cf']\n"
     ]
    }
   ],
   "source": [
    "\n",
    "def return_keypad(n):\n",
    "    if n<=0:\n",
    "        output = []\n",
    "        output.append(\"\")\n",
    "        return output\n",
    "    smallervalue = n//10\n",
    "    val = n%10\n",
    "    smalleroutput = return_keypad(smallervalue)\n",
    "    output = []\n",
    "    for i in smalleroutput:\n",
    "        for j in dic[val]:\n",
    "            output.append(i+j)\n",
    "    return output\n",
    "    \n",
    "    \n",
    "n = int(input())\n",
    "print(return_keypad(n))\n"
   ]
  },
  {
   "cell_type": "code",
   "execution_count": null,
   "metadata": {},
   "outputs": [],
   "source": []
  }
 ],
 "metadata": {
  "kernelspec": {
   "display_name": "Python 3",
   "language": "python",
   "name": "python3"
  },
  "language_info": {
   "codemirror_mode": {
    "name": "ipython",
    "version": 3
   },
   "file_extension": ".py",
   "mimetype": "text/x-python",
   "name": "python",
   "nbconvert_exporter": "python",
   "pygments_lexer": "ipython3",
   "version": "3.6.8"
  }
 },
 "nbformat": 4,
 "nbformat_minor": 2
}
