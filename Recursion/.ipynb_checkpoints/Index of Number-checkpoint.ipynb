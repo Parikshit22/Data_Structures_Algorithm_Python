{
 "cells": [
  {
   "cell_type": "code",
   "execution_count": 1,
   "metadata": {},
   "outputs": [],
   "source": [
    "def findindex(arr,x):\n",
    "    if len(arr)==0:\n",
    "        return -1\n",
    "    if arr[0]==x:\n",
    "        return 0\n",
    "    val = findindex(arr[1:],x)\n",
    "    if val==-1:\n",
    "        return -1\n",
    "    else:\n",
    "        return val+1"
   ]
  },
  {
   "cell_type": "code",
   "execution_count": 4,
   "metadata": {},
   "outputs": [],
   "source": [
    "def findindex2(arr,x,s):\n",
    "    if s==len(arr):\n",
    "        return -1\n",
    "    if arr[s]==x:\n",
    "        return s\n",
    "    \n",
    "    val = findindex2(arr,x,s+1)\n",
    "    if val==-1:\n",
    "        return -1\n",
    "    else:\n",
    "        return val"
   ]
  },
  {
   "cell_type": "code",
   "execution_count": 50,
   "metadata": {},
   "outputs": [
    {
     "name": "stdout",
     "output_type": "stream",
     "text": [
      "4\n",
      "8 5 8 5\n",
      "8\n",
      "[8, 5, 8, 5]\n",
      "[8, 5, 8]\n",
      "2\n"
     ]
    }
   ],
   "source": [
    "def lastindex(arr,x):\n",
    "    print(arr)\n",
    "    if len(arr)==0:\n",
    "        return -1\n",
    "    if arr[-1]==x:\n",
    "        return len(arr)-1\n",
    "    val = lastindex(arr[:-1],x)\n",
    "    if val==-1:\n",
    "        return -1\n",
    "    else:\n",
    "        return val\n",
    "    \n",
    "n = int(input())\n",
    "arr = input().split()\n",
    "arr = [int(x) for x in arr]\n",
    "x = int(input())\n",
    "\n",
    "print(lastindex(arr,x))"
   ]
  },
  {
   "cell_type": "code",
   "execution_count": 54,
   "metadata": {},
   "outputs": [
    {
     "name": "stdout",
     "output_type": "stream",
     "text": [
      "[1, 2, 5, 4, 5, 3, 7]\n",
      "[1, 2, 5, 4, 5, 3]\n",
      "[1, 2, 5, 4, 5]\n"
     ]
    },
    {
     "data": {
      "text/plain": [
       "4"
      ]
     },
     "execution_count": 54,
     "metadata": {},
     "output_type": "execute_result"
    }
   ],
   "source": [
    "arr = [1,2,5,4,5,3,7]\n",
    "lastindex(arr,5)"
   ]
  },
  {
   "cell_type": "code",
   "execution_count": 12,
   "metadata": {},
   "outputs": [
    {
     "data": {
      "text/plain": [
       "'2.45300'"
      ]
     },
     "execution_count": 12,
     "metadata": {},
     "output_type": "execute_result"
    }
   ],
   "source": [
    "'{:.5f}'.format(2.453)"
   ]
  },
  {
   "cell_type": "code",
   "execution_count": 16,
   "metadata": {},
   "outputs": [
    {
     "name": "stdout",
     "output_type": "stream",
     "text": [
      "324342500345\n",
      "2\n"
     ]
    }
   ],
   "source": [
    "def count(n):\n",
    "    if(n<=0):\n",
    "        return 0\n",
    "    val = count(n//10)\n",
    "    if(n%10==0):\n",
    "        return 1+val\n",
    "    else:\n",
    "        return val\n",
    "    \n",
    "    \n",
    "n = int(input())\n",
    "\n",
    "print(count(n))"
   ]
  },
  {
   "cell_type": "code",
   "execution_count": 15,
   "metadata": {},
   "outputs": [
    {
     "data": {
      "text/plain": [
       "100433"
      ]
     },
     "execution_count": 15,
     "metadata": {},
     "output_type": "execute_result"
    }
   ],
   "source": [
    "1004334//10"
   ]
  },
  {
   "cell_type": "code",
   "execution_count": 1,
   "metadata": {},
   "outputs": [
    {
     "data": {
      "text/plain": [
       "[5, 4, 3, 2, 1]"
      ]
     },
     "execution_count": 1,
     "metadata": {},
     "output_type": "execute_result"
    }
   ],
   "source": [
    "arr =[1,2,3,4,5]\n",
    "arr[::-1]"
   ]
  },
  {
   "cell_type": "code",
   "execution_count": 3,
   "metadata": {},
   "outputs": [
    {
     "name": "stdout",
     "output_type": "stream",
     "text": [
      "7\n",
      "-7 1 5 2 -4 3 0\n",
      "3\n"
     ]
    }
   ],
   "source": [
    "def equilibriumIndex(arr):\n",
    "    # Please add your code here\n",
    "    sum_arr = []\n",
    "    total_sum = 0\n",
    "    # sum_arr.append(0)\n",
    "    for idx,i in enumerate(arr):\n",
    "        total_sum += i\n",
    "        if(idx==0):\n",
    "            sum_arr.append(i)\n",
    "        else:\n",
    "            sum_arr.append(sum_arr[idx-1]+i)\n",
    "        \n",
    "    for i in range(1,len(arr)-1):\n",
    "        if(sum_arr[i-1]==total_sum-sum_arr[i]):\n",
    "            return i\n",
    "\n",
    "# Main\n",
    "n = int(input())\n",
    "arr = [int(i) for i in input().strip().split()]\n",
    "if equilibriumIndex(arr):\n",
    "    print(equilibriumIndex(arr))\n",
    "else:\n",
    "    print(-1)\n"
   ]
  },
  {
   "cell_type": "code",
   "execution_count": null,
   "metadata": {},
   "outputs": [],
   "source": [
    "7\n",
    "-7 1 5 2 -4 3 0"
   ]
  }
 ],
 "metadata": {
  "kernelspec": {
   "display_name": "Python 3",
   "language": "python",
   "name": "python3"
  },
  "language_info": {
   "codemirror_mode": {
    "name": "ipython",
    "version": 3
   },
   "file_extension": ".py",
   "mimetype": "text/x-python",
   "name": "python",
   "nbconvert_exporter": "python",
   "pygments_lexer": "ipython3",
   "version": "3.6.8"
  }
 },
 "nbformat": 4,
 "nbformat_minor": 2
}
