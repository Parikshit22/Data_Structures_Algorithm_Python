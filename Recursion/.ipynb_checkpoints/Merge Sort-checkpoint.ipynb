{
 "cells": [
  {
   "cell_type": "code",
   "execution_count": 42,
   "metadata": {},
   "outputs": [],
   "source": [
    "def merge(arr,s,mid,e):\n",
    "    \n",
    "    left = [0]*(mid-s+1)\n",
    "    right= [0]*(e-mid)\n",
    "    \n",
    "    for i in range(0,mid-s+1):\n",
    "        left[i] = arr[s+i]\n",
    "    for j in range(0,e-mid):\n",
    "        right[j] = arr[mid+1+j]\n",
    "    \n",
    "    l = 0\n",
    "    r = 0\n",
    "    k = s\n",
    "    while(l<len(left) or r<len(right)):\n",
    "        if(l<len(left) and r<len(right)):\n",
    "            if(left[l]<right[r]):\n",
    "                arr[k] = left[l]\n",
    "                l+=1\n",
    "            else:\n",
    "                arr[k] = right[r]\n",
    "                r+=1\n",
    "            k+=1\n",
    "        elif(l<len(left)):\n",
    "            arr[k] = left[l]\n",
    "            l+=1\n",
    "            k+=1\n",
    "        else:\n",
    "            arr[k] = right[r]\n",
    "            k+=1\n",
    "            r+=1\n",
    "\n",
    "\n",
    "def mergesort(arr,s,e):\n",
    "    if s==e:\n",
    "        return\n",
    "    mid = (s+e-1)//2\n",
    "    mergesort(arr,s,mid)\n",
    "    mergesort(arr,mid+1,e)\n",
    "    merge(arr,s,mid,e)\n",
    "    \n",
    "    "
   ]
  },
  {
   "cell_type": "code",
   "execution_count": 43,
   "metadata": {},
   "outputs": [],
   "source": [
    "arr = [4,5,2,34,21]\n",
    "mergesort(arr,0,4)"
   ]
  },
  {
   "cell_type": "code",
   "execution_count": 44,
   "metadata": {},
   "outputs": [
    {
     "data": {
      "text/plain": [
       "[2, 4, 5, 21, 34]"
      ]
     },
     "execution_count": 44,
     "metadata": {},
     "output_type": "execute_result"
    }
   ],
   "source": [
    "arr"
   ]
  },
  {
   "cell_type": "code",
   "execution_count": null,
   "metadata": {},
   "outputs": [],
   "source": []
  }
 ],
 "metadata": {
  "kernelspec": {
   "display_name": "Python 3",
   "language": "python",
   "name": "python3"
  },
  "language_info": {
   "codemirror_mode": {
    "name": "ipython",
    "version": 3
   },
   "file_extension": ".py",
   "mimetype": "text/x-python",
   "name": "python",
   "nbconvert_exporter": "python",
   "pygments_lexer": "ipython3",
   "version": "3.6.8"
  }
 },
 "nbformat": 4,
 "nbformat_minor": 2
}
