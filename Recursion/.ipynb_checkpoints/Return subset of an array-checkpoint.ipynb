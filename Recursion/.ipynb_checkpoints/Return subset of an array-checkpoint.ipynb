{
 "cells": [
  {
   "cell_type": "code",
   "execution_count": 3,
   "metadata": {},
   "outputs": [
    {
     "name": "stdout",
     "output_type": "stream",
     "text": [
      "3\n",
      "15 20 12\n",
      "\n",
      "12 \n",
      "20 \n",
      "20 12 \n",
      "15 \n",
      "15 12 \n",
      "15 20 \n",
      "15 20 12 \n"
     ]
    }
   ],
   "source": [
    "import sys\n",
    "sys.setrecursionlimit(10 ** 8)\n",
    "\n",
    "\n",
    "def subsets(arr,li) :\n",
    "    if len(arr)==0:\n",
    "        for elem in li:\n",
    "            print(elem, end = \" \")\n",
    "        print() \n",
    "        return\n",
    "    new_arr = arr[1:]\n",
    "    output = []\n",
    "    subsets(new_arr,li)\n",
    "    subsets(new_arr,li+[arr[0]])\n",
    "    return output\n",
    "\n",
    "#taking input\n",
    "def takeInput() :\n",
    "    n = int(input().strip())\n",
    "\n",
    "    if n == 0 :\n",
    "        return list(), 0\n",
    "\n",
    "    arr = [int(element) for element in list(input().strip().split(\" \"))]\n",
    "    return arr, n\n",
    "\n",
    "\n",
    "\n",
    "#main\n",
    "arr, n = takeInput()\n",
    "\n",
    "if n != 0 :\n",
    "    liOfLi = subsets(arr,[])\n",
    "\n",
    "\n"
   ]
  },
  {
   "cell_type": "code",
   "execution_count": 6,
   "metadata": {},
   "outputs": [
    {
     "name": "stdout",
     "output_type": "stream",
     "text": [
      "3\n",
      "15 20 12\n",
      "\n",
      "12 \n",
      "20 \n",
      "20 12 \n",
      "15 \n",
      "15 12 \n",
      "15 20 \n",
      "15 20 12 \n"
     ]
    }
   ],
   "source": [
    "import sys\n",
    "sys.setrecursionlimit(10 ** 8)\n",
    "\n",
    "\n",
    "def subsets(arr) :\n",
    "    if len(arr)==1:\n",
    "        output = [[],[arr[0]]]\n",
    "        return output\n",
    "        \n",
    "    new_arr = arr[1:]\n",
    "    output = []\n",
    "    small_output = subsets(new_arr)\n",
    "    for i in small_output:\n",
    "        output.append(i)\n",
    "    for i in small_output:\n",
    "        output.append([arr[0]]+i)\n",
    "    return output\n",
    "\n",
    "#taking input\n",
    "def takeInput() :\n",
    "    n = int(input().strip())\n",
    "\n",
    "    if n == 0 :\n",
    "        return list(), 0\n",
    "\n",
    "    arr = [int(element) for element in list(input().strip().split(\" \"))]\n",
    "    return arr, n\n",
    "\n",
    "\n",
    "\n",
    "#main\n",
    "arr, n = takeInput()\n",
    "\n",
    "if n != 0 :\n",
    "    liOfLi = subsets(arr)\n",
    "\n",
    "for i in liOfLi:\n",
    "    for j in i:\n",
    "        print(j,end = ' ')\n",
    "    print()\n"
   ]
  },
  {
   "cell_type": "code",
   "execution_count": 2,
   "metadata": {},
   "outputs": [
    {
     "data": {
      "text/plain": [
       "[2]"
      ]
     },
     "execution_count": 2,
     "metadata": {},
     "output_type": "execute_result"
    }
   ],
   "source": [
    "[]+[2]"
   ]
  },
  {
   "cell_type": "code",
   "execution_count": null,
   "metadata": {},
   "outputs": [],
   "source": []
  }
 ],
 "metadata": {
  "kernelspec": {
   "display_name": "Python 3",
   "language": "python",
   "name": "python3"
  },
  "language_info": {
   "codemirror_mode": {
    "name": "ipython",
    "version": 3
   },
   "file_extension": ".py",
   "mimetype": "text/x-python",
   "name": "python",
   "nbconvert_exporter": "python",
   "pygments_lexer": "ipython3",
   "version": "3.6.8"
  }
 },
 "nbformat": 4,
 "nbformat_minor": 2
}
