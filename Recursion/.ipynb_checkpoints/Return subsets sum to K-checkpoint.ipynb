{
 "cells": [
  {
   "cell_type": "code",
   "execution_count": 4,
   "metadata": {},
   "outputs": [
    {
     "name": "stdout",
     "output_type": "stream",
     "text": [
      "9\n",
      "5 12 3 17 1 18 15 3 17\n",
      "6\n",
      "3 3 \n",
      "1 5 \n"
     ]
    }
   ],
   "source": [
    "import sys\n",
    "sys.setrecursionlimit(10 ** 8)\n",
    "\n",
    "\n",
    "def subsetsSumK(arr, k,li) :\n",
    "    if len(arr)==0:\n",
    "        if sum(li)==k:\n",
    "            for elem in li:\n",
    "                print(elem, end = \" \")\n",
    "            print() \n",
    "        return\n",
    "    new_arr = arr[1:]\n",
    "    output = []\n",
    "    subsetsSumK(new_arr,k,li)\n",
    "    subsetsSumK(new_arr,k,[arr[0]]+li)\n",
    "    return output\n",
    "\n",
    "#taking input\n",
    "def takeInput() :\n",
    "    n = int(input().strip())\n",
    "\n",
    "    if n == 0 :\n",
    "        return list(), 0\n",
    "\n",
    "    arr = [int(element) for element in list(input().strip().split(\" \"))]\n",
    "    return arr, n\n",
    "\n",
    "\n",
    "\n",
    "#main\n",
    "arr, n = takeInput()\n",
    "\n",
    "if n != 0 :\n",
    "    k = int(input().strip())\n",
    "    liOfLi = subsetsSumK(arr, k,[])\n",
    "\n",
    "\n"
   ]
  },
  {
   "cell_type": "code",
   "execution_count": 11,
   "metadata": {},
   "outputs": [
    {
     "name": "stdout",
     "output_type": "stream",
     "text": [
      "6\n",
      "17 18 6 11 2 4\n",
      "6\n",
      "6 \n"
     ]
    }
   ],
   "source": [
    "import sys\n",
    "sys.setrecursionlimit(10 ** 8)\n",
    "\n",
    "\n",
    "def subsetsSumK(arr, k) :\n",
    "    if len(arr)==0:\n",
    "        return []\n",
    "    if k-arr[0]==0:\n",
    "        return [[arr[0]]]\n",
    "    new_arr = arr[1:]\n",
    "    output = []\n",
    "    sm1 = subsetsSumK(new_arr,k-arr[0])\n",
    "    sm2 = subsetsSumK(new_arr,k)\n",
    "    \n",
    "    for i in sm1:\n",
    "        output.append([arr[0]]+i)\n",
    "    for i in sm2:\n",
    "        output.append(i)\n",
    "        \n",
    "    return output\n",
    "\n",
    "#taking input\n",
    "def takeInput() :\n",
    "    n = int(input().strip())\n",
    "\n",
    "    if n == 0 :\n",
    "        return list(), 0\n",
    "\n",
    "    arr = [int(element) for element in list(input().strip().split(\" \"))]\n",
    "    return arr, n\n",
    "\n",
    "\n",
    "\n",
    "#main\n",
    "arr, n = takeInput()\n",
    "\n",
    "if n != 0 :\n",
    "    k = int(input().strip())\n",
    "    liOfLi = subsetsSumK(arr, k)\n",
    "\n",
    "for i in liOfLi:\n",
    "    for j in i:\n",
    "        print(j,end = ' ')\n",
    "    print()"
   ]
  },
  {
   "cell_type": "code",
   "execution_count": null,
   "metadata": {},
   "outputs": [],
   "source": [
    "6\n",
    "17 18 6 11 2 4 \n",
    "6"
   ]
  }
 ],
 "metadata": {
  "kernelspec": {
   "display_name": "Python 3",
   "language": "python",
   "name": "python3"
  },
  "language_info": {
   "codemirror_mode": {
    "name": "ipython",
    "version": 3
   },
   "file_extension": ".py",
   "mimetype": "text/x-python",
   "name": "python",
   "nbconvert_exporter": "python",
   "pygments_lexer": "ipython3",
   "version": "3.6.8"
  }
 },
 "nbformat": 4,
 "nbformat_minor": 2
}
