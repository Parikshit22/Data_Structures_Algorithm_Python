{
 "cells": [
  {
   "cell_type": "code",
   "execution_count": null,
   "metadata": {},
   "outputs": [],
   "source": [
    "def findindex(arr,x):\n",
    "    if len(arr)==0:\n",
    "        return -1\n",
    "    if arr[0]==x:\n",
    "        return 0\n",
    "    val = findindex(arr[1:],x)\n",
    "    if val==-1:\n",
    "        return -1\n",
    "    else:\n",
    "        return val+1"
   ]
  },
  {
   "cell_type": "code",
   "execution_count": null,
   "metadata": {},
   "outputs": [],
   "source": [
    "def findindex2(arr,x,s):\n",
    "    if s==len(arr):\n",
    "        return -1\n",
    "    if arr[s]==x:\n",
    "        return s\n",
    "    \n",
    "    val = findindex2(arr,x,s+1)\n",
    "    if val==-1:\n",
    "        return -1\n",
    "    else:\n",
    "        return val"
   ]
  },
  {
   "cell_type": "code",
   "execution_count": null,
   "metadata": {},
   "outputs": [],
   "source": [
    "def lastindex(arr,x):\n",
    "    print(arr)\n",
    "    if len(arr)==0:\n",
    "        return -1\n",
    "    if arr[-1]==x:\n",
    "        return len(arr)-1\n",
    "    val = lastindex(arr[:-1],x)\n",
    "    if val==-1:\n",
    "        return -1\n",
    "    else:\n",
    "        return val\n",
    "    \n",
    "n = int(input())\n",
    "arr = input().split()\n",
    "arr = [int(x) for x in arr]\n",
    "x = int(input())\n",
    "\n",
    "print(lastindex(arr,x))"
   ]
  },
  {
   "cell_type": "code",
   "execution_count": null,
   "metadata": {},
   "outputs": [],
   "source": [
    "arr = [1,2,5,4,5,3,7]\n",
    "lastindex(arr,5)"
   ]
  },
  {
   "cell_type": "code",
   "execution_count": null,
   "metadata": {},
   "outputs": [],
   "source": [
    "'{:.5f}'.format(2.453)"
   ]
  },
  {
   "cell_type": "code",
   "execution_count": null,
   "metadata": {},
   "outputs": [],
   "source": [
    "def count(n):\n",
    "    if(n<=0):\n",
    "        return 0\n",
    "    val = count(n//10)\n",
    "    if(n%10==0):\n",
    "        return 1+val\n",
    "    else:\n",
    "        return val\n",
    "    \n",
    "    \n",
    "n = int(input())\n",
    "\n",
    "print(count(n))"
   ]
  }
 ],
 "metadata": {
  "kernelspec": {
   "display_name": "Python 3",
   "language": "python",
   "name": "python3"
  },
  "language_info": {
   "codemirror_mode": {
    "name": "ipython",
    "version": 3
   },
   "file_extension": ".py",
   "mimetype": "text/x-python",
   "name": "python",
   "nbconvert_exporter": "python",
   "pygments_lexer": "ipython3",
   "version": "3.6.8"
  }
 },
 "nbformat": 4,
 "nbformat_minor": 2
}
