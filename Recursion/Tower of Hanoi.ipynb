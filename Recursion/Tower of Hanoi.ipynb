{
 "cells": [
  {
   "cell_type": "code",
   "execution_count": 1,
   "metadata": {},
   "outputs": [],
   "source": [
    "def towerofhanoi(n,a,b,c):\n",
    "    if(n==1):\n",
    "        print(f\"move from {a} to {c}\")\n",
    "        return\n",
    "    towerofhanoi(n-1,a,c,b)\n",
    "    print(f\"move from {a} to {c}\")\n",
    "    towerofhanoi(n-1,b,a,c)"
   ]
  },
  {
   "cell_type": "code",
   "execution_count": 5,
   "metadata": {},
   "outputs": [
    {
     "name": "stdout",
     "output_type": "stream",
     "text": [
      "move from a to c\n",
      "move from a to b\n",
      "move from c to b\n",
      "move from a to c\n",
      "move from b to a\n",
      "move from b to c\n",
      "move from a to c\n"
     ]
    }
   ],
   "source": [
    "towerofhanoi(3,'a','b','c')"
   ]
  },
  {
   "cell_type": "code",
   "execution_count": null,
   "metadata": {},
   "outputs": [],
   "source": []
  }
 ],
 "metadata": {
  "kernelspec": {
   "display_name": "Python 3",
   "language": "python",
   "name": "python3"
  },
  "language_info": {
   "codemirror_mode": {
    "name": "ipython",
    "version": 3
   },
   "file_extension": ".py",
   "mimetype": "text/x-python",
   "name": "python",
   "nbconvert_exporter": "python",
   "pygments_lexer": "ipython3",
   "version": "3.6.8"
  }
 },
 "nbformat": 4,
 "nbformat_minor": 2
}
