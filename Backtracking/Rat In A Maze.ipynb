{
 "cells": [
  {
   "cell_type": "code",
   "execution_count": 13,
   "metadata": {},
   "outputs": [
    {
     "name": "stdout",
     "output_type": "stream",
     "text": [
      "[[1, 0, 0, 0], [1, 0, 0, 0], [1, 0, 0, 0], [1, 1, 1, 1]]\n",
      "[[1, 0, 0, 0], [1, 0, 0, 0], [1, 1, 0, 0], [0, 1, 1, 1]]\n",
      "[[1, 1, 1, 0], [0, 0, 1, 1], [0, 0, 0, 1], [0, 0, 0, 1]]\n",
      "[[1, 1, 1, 1], [0, 0, 0, 1], [0, 0, 0, 1], [0, 0, 0, 1]]\n"
     ]
    }
   ],
   "source": [
    "def maze(arr,x,y,n,solution):\n",
    "    if x==n-1 and y==n-1:\n",
    "        solution[x][y] = 1\n",
    "        print(solution)\n",
    "        \n",
    "        return\n",
    "    if x>=n or y>=n or arr[x][y]==0 or solution[x][y]==1 or x<0 or y<0:\n",
    "        return\n",
    "    solution[x][y] = 1\n",
    "    maze(arr,x-1,y,n,solution)\n",
    "    maze(arr,x+1,y,n,solution)\n",
    "    maze(arr,x,y+1,n,solution)\n",
    "    maze(arr,x,y-1,n,solution)\n",
    "    solution[x][y] = 0\n",
    "    return\n",
    "arr = [[1,1,1,1],\n",
    "       [1,0,1,1],\n",
    "       [1,1,0,1],\n",
    "       [1,1,1,1]]\n",
    "solution = [[0 for i in range(4)] for j in range(4)]\n",
    "maze(arr,0,0,4,solution)"
   ]
  },
  {
   "cell_type": "code",
   "execution_count": null,
   "metadata": {},
   "outputs": [],
   "source": []
  }
 ],
 "metadata": {
  "kernelspec": {
   "display_name": "Python 3",
   "language": "python",
   "name": "python3"
  },
  "language_info": {
   "codemirror_mode": {
    "name": "ipython",
    "version": 3
   },
   "file_extension": ".py",
   "mimetype": "text/x-python",
   "name": "python",
   "nbconvert_exporter": "python",
   "pygments_lexer": "ipython3",
   "version": "3.6.8"
  }
 },
 "nbformat": 4,
 "nbformat_minor": 2
}
