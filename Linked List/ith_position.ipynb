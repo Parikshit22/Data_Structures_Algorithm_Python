{
 "cells": [
  {
   "cell_type": "code",
   "execution_count": 25,
   "metadata": {},
   "outputs": [],
   "source": [
    "class Node:\n",
    "    def __init__(self,data):\n",
    "        self.data = data\n",
    "        self.next = None\n",
    "        \n",
    "def insertinll():\n",
    "    head = None\n",
    "    curr = None\n",
    "    val = [int(x) for x in input().split()]\n",
    "    \n",
    "    for i in val:\n",
    "        if(i==-1):\n",
    "            break\n",
    "        newnode = Node(i)\n",
    "        if head is None:\n",
    "            head = newnode\n",
    "            curr = head\n",
    "        else:\n",
    "            curr.next = newnode\n",
    "            curr = newnode\n",
    "    return head\n",
    "def lengthofll(head):\n",
    "    l = 0\n",
    "    while head is not None:\n",
    "        l+=1\n",
    "        head = head.next\n",
    "    return l\n",
    "def PrintList(head):\n",
    "    while head is not None:\n",
    "        print(head.data,end = \" \")\n",
    "        head = head.next\n",
    "def insertat_ith_position(head,i):\n",
    "    ptr = head\n",
    "    length = lengthofll(head)\n",
    "    for j in range(length+1):\n",
    "        if i==0:\n",
    "            newnode = Node(int(input()))\n",
    "            newnode.next = head\n",
    "            head = newnode\n",
    "            return head\n",
    "        if j==i-1:\n",
    "            prev = head\n",
    "            curr = head.next\n",
    "            newnode = Node(int(input()))\n",
    "            prev.next = newnode\n",
    "            newnode.next = curr\n",
    "            return ptr\n",
    "        head = head.next\n",
    "        \n",
    "def insertrecursively(head,i,x):\n",
    "    if i<0:\n",
    "        return head\n",
    "    if i==0:\n",
    "        newnode = Node(x)\n",
    "        newnode.next = head\n",
    "        return newnode\n",
    "    head.next = insertrecursively(head.next,i-1,x)\n",
    "    return head\n",
    "def deleteNode(head, pos):\n",
    "    #Your code goes here\n",
    "    ptr = head\n",
    "    length = lengthofll(head)\n",
    "    for j in range(length):\n",
    "        if pos==0:\n",
    "            head = head.next\n",
    "            return head\n",
    "        if j==pos-1:\n",
    "            curr = ptr.next\n",
    "            ptr.next = curr.next\n",
    "            return head\n",
    "        ptr = ptr.next\n",
    "def deleterecusively(head,i):\n",
    "    if i<0:\n",
    "        return head\n",
    "    if i==0:\n",
    "        return head.next\n",
    "    head.next = deleterecusively(head.next,i-1)\n",
    "    return head\n",
    "\n",
    "def appendLastNToFirst(head, n) :\n",
    "    #Your code goes here\n",
    "    length = lengthofll(head)\n",
    "    if n>=length:\n",
    "        return head\n",
    "    if n==0:\n",
    "        return head\n",
    "    curr = head\n",
    "    while curr is not None:\n",
    "        if n==2:\n",
    "            prev = curr\n",
    "        if n==1:\n",
    "            ptr = curr\n",
    "            prev.next = None\n",
    "            break\n",
    "        curr = curr.next\n",
    "        n-=1\n",
    "    print(\"hello\")\n",
    "    head1 = ptr\n",
    "    while ptr.next is not None:\n",
    "        ptr = ptr.next\n",
    "    ptr.next = head\n",
    "    return head1\n",
    "\n"
   ]
  },
  {
   "cell_type": "code",
   "execution_count": 37,
   "metadata": {},
   "outputs": [
    {
     "name": "stdout",
     "output_type": "stream",
     "text": [
      "4 4 7 8 3 36 8 17 26 7 7 -1\n"
     ]
    }
   ],
   "source": [
    "head = insertinll()\n",
    "\n"
   ]
  },
  {
   "cell_type": "code",
   "execution_count": 21,
   "metadata": {},
   "outputs": [
    {
     "data": {
      "text/plain": [
       "5"
      ]
     },
     "execution_count": 21,
     "metadata": {},
     "output_type": "execute_result"
    }
   ],
   "source": [
    "lengthofll(head)"
   ]
  },
  {
   "cell_type": "code",
   "execution_count": 41,
   "metadata": {},
   "outputs": [
    {
     "name": "stdout",
     "output_type": "stream",
     "text": [
      "46\n"
     ]
    }
   ],
   "source": [
    "head = insertat_ith_position(head,12)"
   ]
  },
  {
   "cell_type": "code",
   "execution_count": 38,
   "metadata": {},
   "outputs": [
    {
     "name": "stdout",
     "output_type": "stream",
     "text": [
      "4 4 7 8 3 36 8 17 26 7 7 "
     ]
    }
   ],
   "source": [
    "\n",
    "PrintList(head)"
   ]
  },
  {
   "cell_type": "code",
   "execution_count": 39,
   "metadata": {},
   "outputs": [
    {
     "name": "stdout",
     "output_type": "stream",
     "text": [
      "hello\n"
     ]
    }
   ],
   "source": [
    "h = appendLastNToFirst(head,7)"
   ]
  },
  {
   "cell_type": "code",
   "execution_count": 40,
   "metadata": {},
   "outputs": [
    {
     "name": "stdout",
     "output_type": "stream",
     "text": [
      "8 17 26 7 7 4 4 7 8 3 36 "
     ]
    }
   ],
   "source": [
    "PrintList(h)"
   ]
  },
  {
   "cell_type": "code",
   "execution_count": 111,
   "metadata": {},
   "outputs": [],
   "source": [
    "head = insertrecursively(head,5,55)"
   ]
  },
  {
   "cell_type": "code",
   "execution_count": 95,
   "metadata": {},
   "outputs": [],
   "source": [
    "head = deleteNode(head,7)"
   ]
  },
  {
   "cell_type": "code",
   "execution_count": 127,
   "metadata": {},
   "outputs": [],
   "source": []
  },
  {
   "cell_type": "code",
   "execution_count": null,
   "metadata": {},
   "outputs": [],
   "source": [
    "\n",
    "def findNode(head, n) :\n",
    "    #Your code goes here\n",
    "    i = 0\n",
    "    while head is not None:\n",
    "        if(head.data==n):\n",
    "            return i\n",
    "        head = head.next\n",
    "        i==1\n",
    "    return -1\n"
   ]
  }
 ],
 "metadata": {
  "kernelspec": {
   "display_name": "Python 3",
   "language": "python",
   "name": "python3"
  },
  "language_info": {
   "codemirror_mode": {
    "name": "ipython",
    "version": 3
   },
   "file_extension": ".py",
   "mimetype": "text/x-python",
   "name": "python",
   "nbconvert_exporter": "python",
   "pygments_lexer": "ipython3",
   "version": "3.6.8"
  }
 },
 "nbformat": 4,
 "nbformat_minor": 2
}
