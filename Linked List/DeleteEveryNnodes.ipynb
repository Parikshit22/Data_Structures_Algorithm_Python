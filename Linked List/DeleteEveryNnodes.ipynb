{
 "cells": [
  {
   "cell_type": "code",
   "execution_count": 61,
   "metadata": {},
   "outputs": [],
   "source": [
    "class Node:\n",
    "    def __init__(self,data):\n",
    "        self.data = data\n",
    "        self.next = None\n",
    "        \n",
    "def insertinll():\n",
    "    head = None\n",
    "    curr = None\n",
    "    val = [int(x) for x in input().split()]\n",
    "    \n",
    "    for i in val:\n",
    "        if(i==-1):\n",
    "            break\n",
    "        newnode = Node(i)\n",
    "        if head is None:\n",
    "            head = newnode\n",
    "            curr = head\n",
    "        else:\n",
    "            curr.next = newnode\n",
    "            curr = newnode\n",
    "    return head\n",
    "def lengthofll(head):\n",
    "    l = 0\n",
    "    while head is not None:\n",
    "        l+=1\n",
    "        head = head.next\n",
    "    return l\n",
    "def PrintList(head):\n",
    "    while head is not None:\n",
    "        print(head.data,end = \" \")\n",
    "        head = head.next\n",
    "def skipMdeleteN(head, M, N):\n",
    "    #  Given a linked list and two integers M and N. Traverse the linked list\n",
    "    #  such that you retain M nodes then delete next N nodes, continue the same\n",
    "    #  until end of the linked list. That is, in the given linked list you need\n",
    "    #  to delete N nodes after every M nodes.\n",
    "    #############################\n",
    "    # PLEASE ADD YOUR CODE HERE #\n",
    "    #############################\n",
    "    start = head\n",
    "    m = M\n",
    "    n = N\n",
    "    prev = None\n",
    "    while head is not None:\n",
    "        while head is not None and m>0:\n",
    "            prev = head\n",
    "            head = head.next\n",
    "            m-=1\n",
    "        m = M\n",
    "        ptr = prev\n",
    "        while head is not None and n>0:\n",
    "            print(head.data)\n",
    "            head = head.next\n",
    "            n-=1\n",
    "        n = N\n",
    "        if ptr is not None:\n",
    "            ptr.next = head\n",
    "        else:\n",
    "            break\n",
    "    return start\n",
    "         "
   ]
  },
  {
   "cell_type": "code",
   "execution_count": 70,
   "metadata": {},
   "outputs": [
    {
     "name": "stdout",
     "output_type": "stream",
     "text": [
      "30 44 26 90 46 72 59 44 9 56 -1\n"
     ]
    }
   ],
   "source": [
    "head = insertinll()\n"
   ]
  },
  {
   "cell_type": "code",
   "execution_count": 71,
   "metadata": {},
   "outputs": [
    {
     "name": "stdout",
     "output_type": "stream",
     "text": [
      "30 44 26 90 46 72 59 44 9 56 "
     ]
    }
   ],
   "source": [
    "PrintList(head)"
   ]
  },
  {
   "cell_type": "code",
   "execution_count": 72,
   "metadata": {},
   "outputs": [
    {
     "name": "stdout",
     "output_type": "stream",
     "text": [
      "44\n",
      "26\n",
      "46\n",
      "72\n",
      "44\n",
      "9\n",
      "30 90 59 56 "
     ]
    }
   ],
   "source": [
    "h1 = skipMdeleteN(head,1,2)\n",
    "PrintList(h1)"
   ]
  },
  {
   "cell_type": "code",
   "execution_count": null,
   "metadata": {},
   "outputs": [],
   "source": []
  },
  {
   "cell_type": "code",
   "execution_count": null,
   "metadata": {},
   "outputs": [],
   "source": []
  }
 ],
 "metadata": {
  "kernelspec": {
   "display_name": "Python 3",
   "language": "python",
   "name": "python3"
  },
  "language_info": {
   "codemirror_mode": {
    "name": "ipython",
    "version": 3
   },
   "file_extension": ".py",
   "mimetype": "text/x-python",
   "name": "python",
   "nbconvert_exporter": "python",
   "pygments_lexer": "ipython3",
   "version": "3.6.8"
  }
 },
 "nbformat": 4,
 "nbformat_minor": 2
}
