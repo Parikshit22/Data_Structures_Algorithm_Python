{
 "cells": [
  {
   "cell_type": "code",
   "execution_count": 5,
   "metadata": {},
   "outputs": [
    {
     "name": "stdout",
     "output_type": "stream",
     "text": [
      "3 45 5 6 3 -1\n",
      "3 45 5 6 3 3 45 5 6 3 "
     ]
    }
   ],
   "source": [
    "class Node:\n",
    "    def __init__(self,data):\n",
    "        self.data = data\n",
    "        self.next = None\n",
    "        \n",
    "def getinput():\n",
    "    \n",
    "    curr_arr = [int(x) for x in input().split()]\n",
    "    head = None\n",
    "#     curr = None\n",
    "    for i in curr_arr:\n",
    "        if(i==-1):\n",
    "            break\n",
    "        new_node = Node(i)\n",
    "        if head is None:\n",
    "            head = new_node\n",
    "#             curr = head\n",
    "#         else:\n",
    "#             curr.next = new_node\n",
    "#             curr = new_node\n",
    "        else:\n",
    "            curr = head\n",
    "            while curr.next is not None:\n",
    "                curr = curr.next\n",
    "            curr.next = new_node\n",
    "    return head\n",
    "\n",
    "def printIthNode(head, i):\n",
    "    #Your code goes here\n",
    "    j = 0\n",
    "    while head is not None:\n",
    "        if j==i:\n",
    "            print(head.data)\n",
    "            return\n",
    "        j+=1\n",
    "        head = head.next\n",
    "    print(-1)\n",
    "    return\n",
    "            \n",
    "def PrintList(head):\n",
    "    while head is not None:\n",
    "        print(head.data,end = \" \")\n",
    "        head = head.next\n",
    "        \n",
    "head = getinput()\n",
    "PrintList(head)\n",
    "PrintList(head)"
   ]
  },
  {
   "cell_type": "code",
   "execution_count": null,
   "metadata": {},
   "outputs": [],
   "source": []
  }
 ],
 "metadata": {
  "kernelspec": {
   "display_name": "Python 3",
   "language": "python",
   "name": "python3"
  },
  "language_info": {
   "codemirror_mode": {
    "name": "ipython",
    "version": 3
   },
   "file_extension": ".py",
   "mimetype": "text/x-python",
   "name": "python",
   "nbconvert_exporter": "python",
   "pygments_lexer": "ipython3",
   "version": "3.6.8"
  }
 },
 "nbformat": 4,
 "nbformat_minor": 2
}
