{
 "cells": [
  {
   "cell_type": "code",
   "execution_count": 23,
   "metadata": {},
   "outputs": [],
   "source": [
    "class Node:\n",
    "    def __init__(self,data):\n",
    "        self.data = data\n",
    "        self.next = None\n",
    "        \n",
    "def insertinll():\n",
    "    head = None\n",
    "    curr = None\n",
    "    val = [int(x) for x in input().split()]\n",
    "    \n",
    "    for i in val:\n",
    "        if(i==-1):\n",
    "            break\n",
    "        newnode = Node(i)\n",
    "        if head is None:\n",
    "            head = newnode\n",
    "            curr = head\n",
    "        else:\n",
    "            curr.next = newnode\n",
    "            curr = newnode\n",
    "    return head\n",
    "def lengthofll(head):\n",
    "    l = 0\n",
    "    while head is not None:\n",
    "        l+=1\n",
    "        head = head.next\n",
    "    return l\n",
    "def PrintList(head):\n",
    "    while head is not None:\n",
    "        print(head.data,end = \" \")\n",
    "        head = head.next\n",
    "        \n",
    "def recrev(head):\n",
    "    if head is None:\n",
    "        return head\n",
    "    if head.next is None:\n",
    "        return head\n",
    "    \n",
    "    old = recrev(head.next)\n",
    "    new = old\n",
    "    while new.next is not None:\n",
    "        new = new.next\n",
    "    \n",
    "    new.next = head\n",
    "    head.next = None\n",
    "    return old\n",
    "\n",
    "def rev(head):\n",
    "    if head is None:\n",
    "        return head\n",
    "    if head.next is None:\n",
    "        return head\n",
    "    curr = head\n",
    "    prev = None\n",
    "    while curr is not None:\n",
    "        forward = curr.next\n",
    "        curr.next = prev\n",
    "        prev = curr\n",
    "        curr = forward\n",
    "    head = prev\n",
    "    return head\n",
    "    "
   ]
  },
  {
   "cell_type": "code",
   "execution_count": 24,
   "metadata": {},
   "outputs": [
    {
     "name": "stdout",
     "output_type": "stream",
     "text": [
      "1 2 3 4 5 -1\n"
     ]
    }
   ],
   "source": [
    "head = insertinll()"
   ]
  },
  {
   "cell_type": "code",
   "execution_count": 25,
   "metadata": {},
   "outputs": [],
   "source": [
    "h1 = rev(head)"
   ]
  },
  {
   "cell_type": "code",
   "execution_count": 26,
   "metadata": {},
   "outputs": [
    {
     "name": "stdout",
     "output_type": "stream",
     "text": [
      "5 4 3 2 1 "
     ]
    }
   ],
   "source": [
    "PrintList(h1)"
   ]
  },
  {
   "cell_type": "code",
   "execution_count": null,
   "metadata": {},
   "outputs": [],
   "source": []
  }
 ],
 "metadata": {
  "kernelspec": {
   "display_name": "Python 3",
   "language": "python",
   "name": "python3"
  },
  "language_info": {
   "codemirror_mode": {
    "name": "ipython",
    "version": 3
   },
   "file_extension": ".py",
   "mimetype": "text/x-python",
   "name": "python",
   "nbconvert_exporter": "python",
   "pygments_lexer": "ipython3",
   "version": "3.6.8"
  }
 },
 "nbformat": 4,
 "nbformat_minor": 2
}
