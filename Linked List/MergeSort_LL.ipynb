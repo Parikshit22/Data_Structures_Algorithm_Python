{
 "cells": [
  {
   "cell_type": "code",
   "execution_count": 4,
   "metadata": {},
   "outputs": [],
   "source": [
    "class Node:\n",
    "    def __init__(self,data):\n",
    "        self.data = data\n",
    "        self.next = None\n",
    "        \n",
    "def merge(head1,head2):\n",
    "    #############################\n",
    "    # PLEASE ADD YOUR CODE HERE #\n",
    "    #############################\n",
    "    if head1.data>head2.data:\n",
    "        val = head2.next\n",
    "        head = head2\n",
    "        head2 = val\n",
    "    else:\n",
    "        val = head1.next\n",
    "        head = head1\n",
    "        head1 = val\n",
    "    ptr = head\n",
    "    \n",
    "    while(True):\n",
    "        if head1 is not None and head2 is not None:\n",
    "            if(head1.data>head2.data):\n",
    "                val = head2.next\n",
    "                head.next = head2\n",
    "                head = head2\n",
    "                head2 = val\n",
    "                \n",
    "            else:\n",
    "                val = head1.next\n",
    "                head.next = head1\n",
    "                head = head1\n",
    "                head1 = val\n",
    "                \n",
    "                \n",
    "        elif head1 is not None:\n",
    "            val = head1.next\n",
    "            head.next = head1\n",
    "            head = head1\n",
    "            head1 = val\n",
    "            \n",
    "        elif head2 is not None:\n",
    "            val = head2.next\n",
    "            head.next = head2\n",
    "            head = head2\n",
    "            head2 = val\n",
    "            \n",
    "        else:\n",
    "            break\n",
    "    return ptr\n",
    "\n",
    "def midpoint_linkedlist(head):\n",
    "    #  Given a linked list, find and return the midpoint.\n",
    "    #############################\n",
    "    # PLEASE ADD YOUR CODE HERE #\n",
    "    #############################\n",
    "    fast = head.next\n",
    "    slow = head\n",
    "    while fast is not None and fast.next is not None:\n",
    "        fast = fast.next.next\n",
    "        slow = slow.next\n",
    "    return slow\n",
    "\n",
    "\n",
    "def mergeSort(head):\n",
    "    if head == None or head.next == None: \n",
    "            return head \n",
    "  \n",
    "        # get the middle of the list  \n",
    "    middle = midpoint_linkedlist(head) \n",
    "    nexttomiddle = middle.next\n",
    "\n",
    "    # set the next of middle node to None \n",
    "    middle.next = None\n",
    "\n",
    "    # Apply mergeSort on left list  \n",
    "    left = mergeSort(head) \n",
    "\n",
    "    # Apply mergeSort on right list \n",
    "    right = mergeSort(nexttomiddle) \n",
    "\n",
    "    # Merge the left and right lists  \n",
    "    sortedlist = merge(left, right) \n",
    "    return sortedlist\n",
    "def insertinll():\n",
    "    head = None\n",
    "    curr = None\n",
    "    val = [int(x) for x in input().split()]\n",
    "    \n",
    "    for i in val:\n",
    "        if(i==-1):\n",
    "            break\n",
    "        newnode = Node(i)\n",
    "        if head is None:\n",
    "            head = newnode\n",
    "            curr = head\n",
    "        else:\n",
    "            curr.next = newnode\n",
    "            curr = newnode\n",
    "    return head\n",
    "def lengthofll(head):\n",
    "    l = 0\n",
    "    while head is not None:\n",
    "        l+=1\n",
    "        head = head.next\n",
    "    return l\n",
    "def PrintList(head):\n",
    "    while head is not None:\n",
    "        print(head.data,end = \" \")\n",
    "        head = head.next"
   ]
  },
  {
   "cell_type": "code",
   "execution_count": 5,
   "metadata": {},
   "outputs": [
    {
     "name": "stdout",
     "output_type": "stream",
     "text": [
      "1 53 7 4 23 7 3 6 78 -1\n"
     ]
    }
   ],
   "source": [
    "head = insertinll()\n"
   ]
  },
  {
   "cell_type": "code",
   "execution_count": 6,
   "metadata": {},
   "outputs": [
    {
     "name": "stdout",
     "output_type": "stream",
     "text": [
      "1 53 7 4 23 7 3 6 78 "
     ]
    }
   ],
   "source": [
    "PrintList(head)"
   ]
  },
  {
   "cell_type": "code",
   "execution_count": 8,
   "metadata": {},
   "outputs": [],
   "source": [
    "h1 = mergeSort(head)"
   ]
  },
  {
   "cell_type": "code",
   "execution_count": 9,
   "metadata": {},
   "outputs": [
    {
     "name": "stdout",
     "output_type": "stream",
     "text": [
      "1 3 4 6 7 7 23 53 78 "
     ]
    }
   ],
   "source": [
    "PrintList(h1)"
   ]
  },
  {
   "cell_type": "code",
   "execution_count": null,
   "metadata": {},
   "outputs": [],
   "source": []
  }
 ],
 "metadata": {
  "kernelspec": {
   "display_name": "Python 3",
   "language": "python",
   "name": "python3"
  },
  "language_info": {
   "codemirror_mode": {
    "name": "ipython",
    "version": 3
   },
   "file_extension": ".py",
   "mimetype": "text/x-python",
   "name": "python",
   "nbconvert_exporter": "python",
   "pygments_lexer": "ipython3",
   "version": "3.6.8"
  }
 },
 "nbformat": 4,
 "nbformat_minor": 2
}
