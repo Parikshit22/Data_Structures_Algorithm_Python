{
 "cells": [
  {
   "cell_type": "code",
   "execution_count": 57,
   "metadata": {},
   "outputs": [],
   "source": [
    "class Node:\n",
    "    def __init__(self,data):\n",
    "        self.data = data\n",
    "        self.next = None\n",
    "        \n",
    "def insertinll():\n",
    "    head = None\n",
    "    curr = None\n",
    "    val = [int(x) for x in input().split()]\n",
    "    \n",
    "    for i in val:\n",
    "        if(i==-1):\n",
    "            break\n",
    "        newnode = Node(i)\n",
    "        if head is None:\n",
    "            head = newnode\n",
    "            curr = head\n",
    "        else:\n",
    "            curr.next = newnode\n",
    "            curr = newnode\n",
    "    return head\n",
    "def lengthofll(head):\n",
    "    l = 0\n",
    "    while head is not None:\n",
    "        l+=1\n",
    "        head = head.next\n",
    "    return l\n",
    "def PrintList(head):\n",
    "    while head is not None:\n",
    "        print(head.data,end = \" \")\n",
    "        head = head.next\n",
    "        \n",
    "def bubbleSortLL(head):\n",
    "    length = lengthofll(head)\n",
    "    val = head\n",
    "    for i in range(length):\n",
    "        prev = None\n",
    "        curr = val\n",
    "        while curr is not None and curr.next is not None:\n",
    "            if(curr.data>curr.next.data):\n",
    "                if prev is None:\n",
    "                    ptr = curr.next\n",
    "                    curr.next = ptr.next\n",
    "                    ptr.next = curr\n",
    "                    prev = curr\n",
    "                    curr = curr.next\n",
    "                    \n",
    "                else:\n",
    "                    ptr = curr.next\n",
    "                    curr.next = ptr.next\n",
    "                    prev.next = ptr\n",
    "                    ptr.next = curr\n",
    "                    prev = curr\n",
    "                    curr = curr.next\n",
    "            else:\n",
    "                prev = curr\n",
    "                curr = curr.next\n",
    "    return head"
   ]
  },
  {
   "cell_type": "code",
   "execution_count": 58,
   "metadata": {},
   "outputs": [
    {
     "name": "stdout",
     "output_type": "stream",
     "text": [
      "9 8 7 6 5 4 3 2 1 -1\n"
     ]
    }
   ],
   "source": [
    "head = insertinll()\n"
   ]
  },
  {
   "cell_type": "code",
   "execution_count": 59,
   "metadata": {},
   "outputs": [],
   "source": [
    "h1 = bubbleSortLL(head)"
   ]
  },
  {
   "cell_type": "code",
   "execution_count": 60,
   "metadata": {},
   "outputs": [
    {
     "name": "stdout",
     "output_type": "stream",
     "text": [
      "9 "
     ]
    }
   ],
   "source": [
    "PrintList(h1)"
   ]
  },
  {
   "cell_type": "code",
   "execution_count": null,
   "metadata": {},
   "outputs": [],
   "source": []
  }
 ],
 "metadata": {
  "kernelspec": {
   "display_name": "Python 3",
   "language": "python",
   "name": "python3"
  },
  "language_info": {
   "codemirror_mode": {
    "name": "ipython",
    "version": 3
   },
   "file_extension": ".py",
   "mimetype": "text/x-python",
   "name": "python",
   "nbconvert_exporter": "python",
   "pygments_lexer": "ipython3",
   "version": "3.6.8"
  }
 },
 "nbformat": 4,
 "nbformat_minor": 2
}
