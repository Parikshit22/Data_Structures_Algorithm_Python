{
 "cells": [
  {
   "cell_type": "code",
   "execution_count": 9,
   "metadata": {},
   "outputs": [],
   "source": [
    "class Queue:\n",
    "    def __init__(self,):\n",
    "        self.__a1 = []\n",
    "        self.__a2 = []\n",
    "        \n",
    "    def enqueue(self,data):\n",
    "        self.__a1.append(data)\n",
    "    def dequeue(self,):\n",
    "        for i in range(len(self.__a1)-1):\n",
    "            self.__a2.append(self.__a1.pop())\n",
    "        val = self.__a1.pop()\n",
    "        for i in range(len(self.__a2)):\n",
    "            self.__a1.append(self.__a2.pop())\n",
    "        return val\n",
    "    def size(self,):\n",
    "        return len(self.__a1)\n",
    "    def isempty(self,):\n",
    "        if self.size()==0:\n",
    "            return True\n",
    "        else:\n",
    "            return False\n",
    "    def front(self,):\n",
    "        return self.__a1[0]\n",
    "    "
   ]
  },
  {
   "cell_type": "code",
   "execution_count": 11,
   "metadata": {},
   "outputs": [
    {
     "name": "stdout",
     "output_type": "stream",
     "text": [
      "23\n",
      "3\n",
      "3\n",
      "2\n",
      "1\n",
      "21\n"
     ]
    },
    {
     "data": {
      "text/plain": [
       "True"
      ]
     },
     "execution_count": 11,
     "metadata": {},
     "output_type": "execute_result"
    }
   ],
   "source": [
    "q = Queue()\n",
    "q.enqueue(23)\n",
    "q.enqueue(3)\n",
    "q.enqueue(2)\n",
    "q.enqueue(21)\n",
    "print(q.dequeue())\n",
    "print(q.front())\n",
    "print(q.dequeue())\n",
    "print(q.dequeue())\n",
    "print(q.size())\n",
    "print(q.dequeue())\n",
    "\n",
    "q.isempty()"
   ]
  },
  {
   "cell_type": "code",
   "execution_count": null,
   "metadata": {},
   "outputs": [],
   "source": []
  }
 ],
 "metadata": {
  "kernelspec": {
   "display_name": "Python 3",
   "language": "python",
   "name": "python3"
  },
  "language_info": {
   "codemirror_mode": {
    "name": "ipython",
    "version": 3
   },
   "file_extension": ".py",
   "mimetype": "text/x-python",
   "name": "python",
   "nbconvert_exporter": "python",
   "pygments_lexer": "ipython3",
   "version": "3.6.8"
  }
 },
 "nbformat": 4,
 "nbformat_minor": 2
}
