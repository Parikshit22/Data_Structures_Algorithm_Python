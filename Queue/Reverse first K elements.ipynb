{
 "cells": [
  {
   "cell_type": "code",
   "execution_count": 6,
   "metadata": {},
   "outputs": [
    {
     "name": "stdout",
     "output_type": "stream",
     "text": [
      "5\n",
      "1 2 3 4 5\n",
      "3\n",
      "3 2 1 4 5 "
     ]
    }
   ],
   "source": [
    "\n",
    "import queue\n",
    "def reverseFirstK(q1,k):\n",
    "    if k==0:\n",
    "        return q1\n",
    "    k-=1\n",
    "    val = q1.get()\n",
    "    q2 = reverseFirstK(q1,k)\n",
    "    q2.put(val)\n",
    "    q1 = q2\n",
    "    return q1\n",
    "    \n",
    "    \n",
    "from sys import setrecursionlimit\n",
    "setrecursionlimit(11000)\n",
    "n = int(input())\n",
    "li = [int(ele) for ele in input().split()]\n",
    "q = queue.Queue()\n",
    "for ele in li:\n",
    "    q.put(ele)\n",
    "k = int(input())\n",
    "p = k\n",
    "reverseFirstK(q,k)\n",
    "p = q.qsize()-k\n",
    "while p>0:\n",
    "    val = q.get()\n",
    "    q.put(val)\n",
    "    p-=1\n",
    "while(q.qsize()>0):\n",
    "    print(q.get())\n",
    "    n-=1\n",
    "\n",
    "\n",
    "\n",
    "\n"
   ]
  },
  {
   "cell_type": "code",
   "execution_count": null,
   "metadata": {},
   "outputs": [],
   "source": []
  }
 ],
 "metadata": {
  "kernelspec": {
   "display_name": "Python 3",
   "language": "python",
   "name": "python3"
  },
  "language_info": {
   "codemirror_mode": {
    "name": "ipython",
    "version": 3
   },
   "file_extension": ".py",
   "mimetype": "text/x-python",
   "name": "python",
   "nbconvert_exporter": "python",
   "pygments_lexer": "ipython3",
   "version": "3.6.8"
  }
 },
 "nbformat": 4,
 "nbformat_minor": 2
}
