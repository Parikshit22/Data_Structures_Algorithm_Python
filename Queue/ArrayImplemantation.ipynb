{
 "cells": [
  {
   "cell_type": "code",
   "execution_count": 4,
   "metadata": {},
   "outputs": [],
   "source": [
    "class Queue:\n",
    "    def __init__(self,):\n",
    "        self.__arr = []\n",
    "        self.__curr = 0\n",
    "        \n",
    "    def enqueue(self,data):\n",
    "        self.__arr.append(data)\n",
    "        self.__curr+=1\n",
    "    def is_Empty(self):\n",
    "        if self.__curr<=0:\n",
    "            return True\n",
    "        return False\n",
    "    def dequeue(self,):\n",
    "        if self.is_Empty():\n",
    "            return \"Hey, queue is empty\"\n",
    "        self.__arr = self.__arr[1:]\n",
    "        self.__curr-=1\n",
    "    def size(self,):\n",
    "        if self.__curr<=0:\n",
    "            return True\n",
    "        return self.__curr\n",
    "    def front(self,):\n",
    "        return self.__arr[0]\n",
    "    "
   ]
  }
 ],
 "metadata": {
  "kernelspec": {
   "display_name": "Python 3",
   "language": "python",
   "name": "python3"
  },
  "language_info": {
   "codemirror_mode": {
    "name": "ipython",
    "version": 3
   },
   "file_extension": ".py",
   "mimetype": "text/x-python",
   "name": "python",
   "nbconvert_exporter": "python",
   "pygments_lexer": "ipython3",
   "version": "3.6.8"
  }
 },
 "nbformat": 4,
 "nbformat_minor": 2
}
