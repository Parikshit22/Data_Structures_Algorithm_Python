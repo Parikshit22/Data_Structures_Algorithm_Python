{
 "cells": [
  {
   "cell_type": "code",
   "execution_count": null,
   "metadata": {},
   "outputs": [],
   "source": [
    "import math\n",
    "def maxFreq(l):\n",
    "    dic = {}\n",
    "    for i in l:\n",
    "        dic[i] = dic.get(i,0)+1\n",
    "    maxm = -math.inf\n",
    "    for i in dic:\n",
    "        if dic[i]>maxm:\n",
    "            maxm = dic[i]\n",
    "            val = i\n",
    "    return val\n",
    "\n",
    "# Main\n",
    "n=int(input())\n",
    "l=list(int(i) for i in input().strip().split(' '))\n",
    "print(maxFreq(l))\n"
   ]
  },
  {
   "cell_type": "code",
   "execution_count": 7,
   "metadata": {},
   "outputs": [
    {
     "name": "stdout",
     "output_type": "stream",
     "text": [
      "6\n",
      "2 0 -2 0 2 0\n",
      "0 0\n",
      "0 0\n",
      "0 0\n",
      "-2 2\n",
      "-2 2\n"
     ]
    }
   ],
   "source": [
    "from collections import Counter\n",
    "def pairSum0(l):\n",
    "    dic = Counter(l)\n",
    "    data = dic.most_common()\n",
    "    for i in range(len(data)):\n",
    "        for j in range(i,len(data)):\n",
    "            if data[i][0]+data[j][0]==0:\n",
    "                if i==j:\n",
    "                    val = data[i][1]\n",
    "                else:\n",
    "                    val = data[i][1]*data[j][1]\n",
    "                if data[i][0]<=data[j][0]:\n",
    "                    for k in range(val):\n",
    "                        print(data[i][0],data[j][0])\n",
    "                else:\n",
    "                    for k in range(val):\n",
    "                        print(data[j][0],data[i][0])\n",
    "\n",
    "n=int(input())\n",
    "l=list(int(i) for i in input().strip().split(' '))\n",
    "pairSum0(l)"
   ]
  },
  {
   "cell_type": "code",
   "execution_count": 4,
   "metadata": {},
   "outputs": [
    {
     "name": "stdout",
     "output_type": "stream",
     "text": [
      "aabbfkgddd\n",
      "abfkgd\n"
     ]
    }
   ],
   "source": [
    "from collections import OrderedDict, Counter\n",
    "\n",
    "class OrderedCounter(Counter, OrderedDict):\n",
    "    pass\n",
    "def uniqueChars(string):\n",
    "    dic = Counter(string)\n",
    "    st = ''\n",
    "    for i in dic:\n",
    "        st+=i\n",
    "    return st\n",
    "    \n",
    "# Main\n",
    "string = input()\n",
    "print(uniqueChars(string))\n"
   ]
  },
  {
   "cell_type": "code",
   "execution_count": 8,
   "metadata": {},
   "outputs": [
    {
     "name": "stdout",
     "output_type": "stream",
     "text": [
      "7\n",
      "1 2 3 9 6 0 7\n",
      "0\n",
      "1\n",
      "2\n",
      "3\n"
     ]
    }
   ],
   "source": [
    "def longestConsecutiveSubsequence(l):\n",
    "    dic = dict()\n",
    "    for i in l:\n",
    "        if dic.get(i,None) is None:\n",
    "            dic[i] = True\n",
    "    max_count = 0\n",
    "    fin_start = -1\n",
    "    for i in l:\n",
    "        start = i\n",
    "        count = 0\n",
    "        if dic[i]==False:\n",
    "            continue\n",
    "        dic[i] = False\n",
    "        count+=1\n",
    "        k = i+1\n",
    "        while(True):\n",
    "            if dic.get(k) is not None and dic.get(k) is True:\n",
    "                dic[k] = False\n",
    "                k+=1\n",
    "                count+=1\n",
    "            else:\n",
    "                break\n",
    "        k = i-1\n",
    "        while(True):\n",
    "            if dic.get(k) is not None and dic.get(k) is True:\n",
    "                dic[k] = False\n",
    "                start = k\n",
    "                k-=1\n",
    "                count+=1\n",
    "            else:\n",
    "                break\n",
    "        if count==max_count:\n",
    "            if l.index(start)<l.index(fin_start):\n",
    "            \tfin_start = start    \n",
    "            \n",
    "        elif count>max_count:\n",
    "            max_count = count\n",
    "            fin_start = start\n",
    "        else:\n",
    "            pass\n",
    "    ll = [x for x in range(fin_start,fin_start+max_count)]\n",
    "    return ll\n",
    "                \n",
    "            \n",
    "\n",
    "\n",
    "n=int(input())\n",
    "l=list(int(i) for i in input().strip().split(' '))\n",
    "final = longestConsecutiveSubsequence(l)\n",
    "for num in final:\n",
    "    print(num)"
   ]
  },
  {
   "cell_type": "code",
   "execution_count": 16,
   "metadata": {},
   "outputs": [
    {
     "name": "stdout",
     "output_type": "stream",
     "text": [
      "4\n",
      "4 4 4 4\n",
      "0\n",
      "4 4\n",
      "4 4\n",
      "4 4\n",
      "4 4\n",
      "4 4\n",
      "4 4\n"
     ]
    }
   ],
   "source": [
    "def fact(num):\n",
    "    if num==0:\n",
    "        return 1\n",
    "    return num*fact(num-1)\n",
    "def printPairDiffK(l, f):\n",
    "    dic = Counter(l)\n",
    "    data = dic.most_common()\n",
    "    if f==0:\n",
    "        for i in data:\n",
    "            if i[1]>1:\n",
    "                val = i[1]-1\n",
    "                for j in range(fact(val)):\n",
    "                    print(i[0],i[0])\n",
    "        return\n",
    "                \n",
    "    for i in range(len(data)):\n",
    "        for j in range(i+1,len(data)):\n",
    "            \n",
    "            if abs(data[i][0]-data[j][0])==f:\n",
    "                val = data[i][1]*data[j][1]\n",
    "                if data[i][0]<=data[j][0]:\n",
    "                    for k in range(val):\n",
    "                        print(data[i][0],data[j][0])\n",
    "                else:\n",
    "                    for k in range(val):\n",
    "                        print(data[j][0],data[i][0])\n",
    "\n",
    "\n",
    "n=int(input())\n",
    "l=list(int(i) for i in input().strip().split(' '))\n",
    "k=int(input())\n",
    "printPairDiffK(l, k)"
   ]
  },
  {
   "cell_type": "code",
   "execution_count": 12,
   "metadata": {},
   "outputs": [
    {
     "data": {
      "text/plain": [
       "3"
      ]
     },
     "execution_count": 12,
     "metadata": {},
     "output_type": "execute_result"
    }
   ],
   "source": [
    "abs(1-4)"
   ]
  },
  {
   "cell_type": "code",
   "execution_count": 27,
   "metadata": {},
   "outputs": [
    {
     "name": "stdout",
     "output_type": "stream",
     "text": [
      "10\n",
      " 95 -97 -387 -435 -5 -70 897 127 23 284\n",
      "5\n"
     ]
    }
   ],
   "source": [
    "from collections import Counter\n",
    "def subsetSum(l):\n",
    "    val = []\n",
    "    point = 0\n",
    "    for i in l:\n",
    "        point += i\n",
    "        val.append(point)\n",
    "    dic = Counter(val).most_common()\n",
    "    cnt = 0\n",
    "\n",
    "    for i in dic:\n",
    "        if i[1]>1:\n",
    "            idx = [j for j,v in enumerate(val) if v==i[0]]\n",
    "            cnt = max(cnt,(idx[-1]-idx[0]))\n",
    "    return cnt\n",
    "            \n",
    "    \n",
    "\n",
    "n=int(input())\n",
    "l=list(int(i) for i in input().strip().split(' '))\n",
    "finalLen= subsetSum(l)\n",
    "print(finalLen)"
   ]
  },
  {
   "cell_type": "code",
   "execution_count": null,
   "metadata": {},
   "outputs": [],
   "source": []
  }
 ],
 "metadata": {
  "kernelspec": {
   "display_name": "Python 3",
   "language": "python",
   "name": "python3"
  },
  "language_info": {
   "codemirror_mode": {
    "name": "ipython",
    "version": 3
   },
   "file_extension": ".py",
   "mimetype": "text/x-python",
   "name": "python",
   "nbconvert_exporter": "python",
   "pygments_lexer": "ipython3",
   "version": "3.6.8"
  }
 },
 "nbformat": 4,
 "nbformat_minor": 2
}
