{
 "cells": [
  {
   "cell_type": "code",
   "execution_count": 1,
   "metadata": {},
   "outputs": [
    {
     "name": "stdout",
     "output_type": "stream",
     "text": [
      "10\n",
      "14\n",
      "22\n"
     ]
    },
    {
     "data": {
      "text/plain": [
       "1"
      ]
     },
     "execution_count": 1,
     "metadata": {},
     "output_type": "execute_result"
    }
   ],
   "source": [
    "# Python program to print nodes at distance k from a given node \n",
    "\n",
    "# A binary tree node \n",
    "class Node: \n",
    "\t# A constructor to create a new node \n",
    "\tdef __init__(self, data): \n",
    "\t\tself.data = data \n",
    "\t\tself.left = None\n",
    "\t\tself.right = None\n",
    "\t\n",
    "# Recursive function to print all the nodes at distance k \n",
    "# int the tree(or subtree) rooted with given root. See \n",
    "def printkDistanceNodeDown(root, k): \n",
    "\t\n",
    "\t# Base Case \n",
    "\tif root is None or k< 0 : \n",
    "\t\treturn\n",
    "\t\n",
    "\t# If we reach a k distant node, print it \n",
    "\tif k == 0 : \n",
    "\t\tprint(root.data )\n",
    "\t\treturn\n",
    "\t\n",
    "\t# Recur for left and right subtee \n",
    "\tprintkDistanceNodeDown(root.left, k-1) \n",
    "\tprintkDistanceNodeDown(root.right, k-1) \n",
    "\n",
    "\n",
    "# Prints all nodes at distance k from a given target node \n",
    "# The k distant nodes may be upward or downward. This function \n",
    "# returns distance of root from target node, it returns -1 \n",
    "# if target node is not present in tree rooted with root \n",
    "def printkDistanceNode(root, target, k): \n",
    "\t\n",
    "\t# Base Case 1 : IF tree is empty return -1 \n",
    "\tif root is None: \n",
    "\t\treturn -1\n",
    "\n",
    "\t# If target is same as root. Use the downward function \n",
    "\t# to print all nodes at distance k in subtree rooted with \n",
    "\t# target or root \n",
    "\tif root.data == target: \n",
    "\t\tprintkDistanceNodeDown(root, k) \n",
    "\t\treturn 0\n",
    "\t\n",
    "\t# Recur for left subtree \n",
    "\tdl = printkDistanceNode(root.left, target, k) \n",
    "\t\n",
    "\t# Check if target node was found in left subtree \n",
    "\tif dl != -1: \n",
    "\t\t\n",
    "\t\t# If root is at distance k from target, print root \n",
    "\t\t# Note: dl is distance of root's left child \n",
    "\t\t# from target \n",
    "\t\tif dl +1 == k : \n",
    "\t\t\tprint (root.data)\n",
    "\t\n",
    "\t\t# Else go to right subtreee and print all k-dl-2 \n",
    "\t\t# distant nodes \n",
    "\t\t# Note: that the right child is 2 edges away from \n",
    "\t\t# left chlid \n",
    "\t\telse: \n",
    "\t\t\tprintkDistanceNodeDown(root.right, k-dl-2) \n",
    "\n",
    "\t\t# Add 1 to the distance and return value for \n",
    "\t\t# for parent calls \n",
    "\t\treturn 1 + dl\n",
    "\n",
    "\n",
    "\t# MIRROR OF ABOVE CODE FOR RIGHT SUBTREE \n",
    "\t# Note that we reach here only when node was not found \n",
    "\t# in left subtree \n",
    "\tdr = printkDistanceNode(root.right, target, k) \n",
    "\tif dr != -1: \n",
    "\t\tif (dr+1 == k): \n",
    "\t\t\tprint (root.data) \n",
    "\t\telse: \n",
    "\t\t\tprintkDistanceNodeDown(root.left, k-dr-2) \n",
    "\t\treturn 1 + dr \n",
    "\n",
    "\t# If target was neither present in left nor in right subtree \n",
    "\treturn -1\n",
    "\n",
    "# Driver program to test above function \n",
    "root = Node(20) \n",
    "root.left = Node(8) \n",
    "root.right = Node(22) \n",
    "root.left.left = Node(4) \n",
    "root.left.right = Node(12) \n",
    "root.left.right.left = Node(10) \n",
    "root.left.right.right = Node(14) \n",
    "target = 8 \n",
    "printkDistanceNode(root, target, 2) \n",
    "\n",
    "# This code is contributed by Nikhil Kumar Singh(nickzuck_007) \n"
   ]
  },
  {
   "cell_type": "code",
   "execution_count": null,
   "metadata": {},
   "outputs": [],
   "source": []
  }
 ],
 "metadata": {
  "kernelspec": {
   "display_name": "Python 3",
   "language": "python",
   "name": "python3"
  },
  "language_info": {
   "codemirror_mode": {
    "name": "ipython",
    "version": 3
   },
   "file_extension": ".py",
   "mimetype": "text/x-python",
   "name": "python",
   "nbconvert_exporter": "python",
   "pygments_lexer": "ipython3",
   "version": "3.6.8"
  }
 },
 "nbformat": 4,
 "nbformat_minor": 2
}
