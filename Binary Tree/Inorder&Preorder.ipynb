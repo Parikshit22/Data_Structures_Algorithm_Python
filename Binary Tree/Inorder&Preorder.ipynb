{
 "cells": [
  {
   "cell_type": "code",
   "execution_count": 1,
   "metadata": {},
   "outputs": [],
   "source": [
    "class Node:\n",
    "    def __init__(self,data):\n",
    "        self.data = data\n",
    "        self.left = None\n",
    "        self.right = None\n",
    "def fun(pre,ino,sp,ep,si,ei):\n",
    "    if sp>ep or si>ei:\n",
    "        return None\n",
    "    root = Node(pre[sp])\n",
    "    idx = ino.index(pre[sp])\n",
    "    ile = idx-si\n",
    "    ple = sp+ile\n",
    "    root.left = fun(pre,ino,sp+1,ple,si,idx-1)\n",
    "    root.right = fun(pre,ino,ple+1,ep,idx+1,ei)\n",
    "    return root\n",
    "def buildTreePreOrder(preorder, inorder):\n",
    "    root = fun(preorder,inorder,0,len(preorder)-1,0,len(inorder)-1)\n",
    "    return root"
   ]
  },
  {
   "cell_type": "code",
   "execution_count": 2,
   "metadata": {},
   "outputs": [],
   "source": [
    "def hightoftree(root):\n",
    "    if root is None:\n",
    "        return 0\n",
    "    return 1+ max(hightoftree(root.left),hightoftree(root.right))\n",
    "def nlevel(root,k):\n",
    "    if k==0:\n",
    "        print(root.data,end =':L:')\n",
    "        if root.left is not None:\n",
    "            print(root.left.data,end=\",R:\")\n",
    "        else:\n",
    "            print(-1,end=\",R:\")\n",
    "        if root.right is not None:\n",
    "            print(root.right.data)\n",
    "        else:\n",
    "            print(-1)\n",
    "        return\n",
    "    k-=1\n",
    "    if root.left is not None:\n",
    "        nlevel(root.left,k)\n",
    "    \n",
    "    if root.right is not None:\n",
    "        nlevel(root.right,k)\n",
    "def levelorder(root):\n",
    "    h = hightoftree(root)\n",
    "    for i in range(h):\n",
    "        nlevel(root,i)"
   ]
  },
  {
   "cell_type": "code",
   "execution_count": 3,
   "metadata": {},
   "outputs": [
    {
     "name": "stdout",
     "output_type": "stream",
     "text": [
      "1 2 3 4 15 5 6 7 8 10 9 12\n",
      "4 15 3 2 5 1 6 10 8 7 9 12\n",
      "1:L:2,R:6\n",
      "2:L:3,R:5\n",
      "6:L:-1,R:7\n",
      "3:L:4,R:-1\n",
      "5:L:-1,R:-1\n",
      "7:L:8,R:9\n",
      "4:L:-1,R:15\n",
      "8:L:10,R:-1\n",
      "9:L:-1,R:12\n",
      "15:L:-1,R:-1\n",
      "10:L:-1,R:-1\n",
      "12:L:-1,R:-1\n"
     ]
    }
   ],
   "source": [
    "pre = input()\n",
    "ino = input()\n",
    "pre = [int(x) for x in pre.split()]\n",
    "ino = [int(x) for x in ino.split()]\n",
    "root = buildTreePreOrder(pre,ino)\n",
    "levelorder(root)"
   ]
  },
  {
   "cell_type": "code",
   "execution_count": null,
   "metadata": {},
   "outputs": [],
   "source": []
  }
 ],
 "metadata": {
  "kernelspec": {
   "display_name": "Python 3",
   "language": "python",
   "name": "python3"
  },
  "language_info": {
   "codemirror_mode": {
    "name": "ipython",
    "version": 3
   },
   "file_extension": ".py",
   "mimetype": "text/x-python",
   "name": "python",
   "nbconvert_exporter": "python",
   "pygments_lexer": "ipython3",
   "version": "3.6.8"
  }
 },
 "nbformat": 4,
 "nbformat_minor": 2
}
