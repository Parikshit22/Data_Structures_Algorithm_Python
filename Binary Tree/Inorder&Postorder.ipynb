{
 "cells": [
  {
   "cell_type": "code",
   "execution_count": 1,
   "metadata": {},
   "outputs": [],
   "source": [
    "class Node:\n",
    "    def __init__(self,data):\n",
    "        self.data = data\n",
    "        self.left = None\n",
    "        self.right = None\n",
    "def fun(post,ino,sp,ep,si,ei):\n",
    "    if sp>ep or si>ei:\n",
    "        return None\n",
    "    root = Node(post[ep])\n",
    "    idx = ino.index(post[ep])\n",
    "    ile = idx-si\n",
    "    ple = ile-1\n",
    "    root.left = fun(post,ino,sp,sp+ple,si,idx-1)\n",
    "    root.right = fun(post,ino,sp+ile,ep-1,idx+1,ei)\n",
    "    return root\n",
    "def buildTreePostOrder(postorder, inorder):\n",
    "    root = fun(postorder,inorder,0,len(postorder)-1,0,len(inorder)-1)\n",
    "    return root"
   ]
  },
  {
   "cell_type": "code",
   "execution_count": 2,
   "metadata": {},
   "outputs": [],
   "source": [
    "def hightoftree(root):\n",
    "    if root is None:\n",
    "        return 0\n",
    "    return 1+ max(hightoftree(root.left),hightoftree(root.right))\n",
    "def nlevel(root,k):\n",
    "    if k==0:\n",
    "        print(root.data,end =':L:')\n",
    "        if root.left is not None:\n",
    "            print(root.left.data,end=\",R:\")\n",
    "        else:\n",
    "            print(-1,end=\",R:\")\n",
    "        if root.right is not None:\n",
    "            print(root.right.data)\n",
    "        else:\n",
    "            print(-1)\n",
    "        return\n",
    "    k-=1\n",
    "    if root.left is not None:\n",
    "        nlevel(root.left,k)\n",
    "    \n",
    "    if root.right is not None:\n",
    "        nlevel(root.right,k)\n",
    "def levelorder(root):\n",
    "    h = hightoftree(root)\n",
    "    for i in range(h):\n",
    "        nlevel(root,i)"
   ]
  },
  {
   "cell_type": "code",
   "execution_count": 3,
   "metadata": {},
   "outputs": [
    {
     "name": "stdout",
     "output_type": "stream",
     "text": [
      "8 4 5 2 6 7 3 1\n",
      "4 8 2 5 1 6 3 7\n",
      "1:L:2,R:3\n",
      "2:L:4,R:5\n",
      "3:L:6,R:7\n",
      "4:L:-1,R:8\n",
      "5:L:-1,R:-1\n",
      "6:L:-1,R:-1\n",
      "7:L:-1,R:-1\n",
      "8:L:-1,R:-1\n"
     ]
    }
   ],
   "source": [
    "post = input()\n",
    "ino = input()\n",
    "post = [int(x) for x in post.split()]\n",
    "ino = [int(x) for x in ino.split()]\n",
    "root = buildTreePostOrder(post,ino)\n",
    "levelorder(root)"
   ]
  },
  {
   "cell_type": "code",
   "execution_count": null,
   "metadata": {},
   "outputs": [],
   "source": []
  }
 ],
 "metadata": {
  "kernelspec": {
   "display_name": "Python 3",
   "language": "python",
   "name": "python3"
  },
  "language_info": {
   "codemirror_mode": {
    "name": "ipython",
    "version": 3
   },
   "file_extension": ".py",
   "mimetype": "text/x-python",
   "name": "python",
   "nbconvert_exporter": "python",
   "pygments_lexer": "ipython3",
   "version": "3.6.8"
  }
 },
 "nbformat": 4,
 "nbformat_minor": 2
}
