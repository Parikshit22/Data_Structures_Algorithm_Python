{
 "cells": [
  {
   "cell_type": "code",
   "execution_count": 1,
   "metadata": {},
   "outputs": [],
   "source": [
    "class Node:\n",
    "    def __init__(self,data):\n",
    "        self.data = data\n",
    "        self.left = None\n",
    "        self.right = None\n",
    "        \n",
    "def getinput():\n",
    "    val = int(input())\n",
    "    if val==-1:\n",
    "        return None\n",
    "    root = Node(val)\n",
    "    root.left = getinput()\n",
    "    root.right = getinput()\n",
    "    return root\n",
    "def printarrange(root):\n",
    "    if root is None:\n",
    "        return\n",
    "    print(root.data,end = \" : \")\n",
    "    if root.left is not None:\n",
    "        print(root.left.data,end = \" , \")\n",
    "    if root.right is not None:\n",
    "        print(root.right.data,end = ' ')\n",
    "    print()\n",
    "    printarrange(root.left)\n",
    "    printarrange(root.right)\n",
    "    return\n"
   ]
  },
  {
   "cell_type": "code",
   "execution_count": 10,
   "metadata": {},
   "outputs": [],
   "source": [
    "def hightoftree(root):\n",
    "    if root is None:\n",
    "        return 0\n",
    "    return 1+ max(hightoftree(root.left),hightoftree(root.right))\n",
    "def nlevel(root,k):\n",
    "    if k==0:\n",
    "        print(root.data,end =':L:')\n",
    "        if root.left is not None:\n",
    "            print(root.left.data,end=\",R:\")\n",
    "        else:\n",
    "            print(-1,end=\",R:\")\n",
    "        if root.right is not None:\n",
    "            print(root.right.data)\n",
    "        else:\n",
    "            print(-1)\n",
    "        return\n",
    "    k-=1\n",
    "    if root.left is not None:\n",
    "        nlevel(root.left,k)\n",
    "    \n",
    "    if root.right is not None:\n",
    "        nlevel(root.right,k)\n",
    "def levelorder(root):\n",
    "    h = hightoftree(root)\n",
    "    for i in range(h):\n",
    "        nlevel(root,i)\n"
   ]
  },
  {
   "cell_type": "code",
   "execution_count": 3,
   "metadata": {},
   "outputs": [
    {
     "name": "stdout",
     "output_type": "stream",
     "text": [
      "1\n",
      "2\n",
      "-1\n",
      "-1\n",
      "3\n",
      "4\n",
      "-1\n",
      "-1\n",
      "5\n",
      "6\n",
      "-1\n",
      "-1\n",
      "-1\n"
     ]
    }
   ],
   "source": [
    "root = getinput()"
   ]
  },
  {
   "cell_type": "code",
   "execution_count": 16,
   "metadata": {},
   "outputs": [
    {
     "name": "stdout",
     "output_type": "stream",
     "text": [
      "1\n",
      "2\n",
      "-1\n",
      "-1\n",
      "3\n",
      "4\n",
      "-1\n",
      "-1\n",
      "5\n",
      "6\n",
      "-1\n",
      "-1\n",
      "-1\n"
     ]
    }
   ],
   "source": [
    "root = getinput()"
   ]
  },
  {
   "cell_type": "code",
   "execution_count": 11,
   "metadata": {},
   "outputs": [
    {
     "name": "stdout",
     "output_type": "stream",
     "text": [
      "1 : 2 , 3 \n",
      "2 : \n",
      "3 : 4 , 5 \n",
      "4 : \n",
      "5 : 6 , \n",
      "6 : \n"
     ]
    }
   ],
   "source": [
    "printarrange(root)"
   ]
  },
  {
   "cell_type": "code",
   "execution_count": 12,
   "metadata": {},
   "outputs": [
    {
     "name": "stdout",
     "output_type": "stream",
     "text": [
      "1:L:2,R:3\n",
      "2:L:-1,R:-1\n",
      "3:L:4,R:5\n",
      "4:L:-1,R:-1\n",
      "5:L:6,R:-1\n",
      "6:L:-1,R:-1\n"
     ]
    }
   ],
   "source": [
    "levelorder(root)"
   ]
  },
  {
   "cell_type": "code",
   "execution_count": 17,
   "metadata": {},
   "outputs": [],
   "source": [
    "def replaceleafnode(root):\n",
    "    if root == None:\n",
    "        None\n",
    "    if root.left is None and root.right is None:\n",
    "        print(root.data)\n",
    "        return None\n",
    "    if root.left is not None:\n",
    "        root.left = replaceleafnode(root.left)\n",
    "    if root.right is not None:\n",
    "        root.right = replaceleafnode(root.right)\n",
    "    return root"
   ]
  },
  {
   "cell_type": "code",
   "execution_count": 18,
   "metadata": {},
   "outputs": [
    {
     "name": "stdout",
     "output_type": "stream",
     "text": [
      "2\n",
      "4\n",
      "6\n"
     ]
    },
    {
     "data": {
      "text/plain": [
       "<__main__.Node at 0x2ada7307438>"
      ]
     },
     "execution_count": 18,
     "metadata": {},
     "output_type": "execute_result"
    }
   ],
   "source": [
    "replaceleafnode(root)"
   ]
  },
  {
   "cell_type": "code",
   "execution_count": 19,
   "metadata": {},
   "outputs": [
    {
     "name": "stdout",
     "output_type": "stream",
     "text": [
      "1 : 3 \n",
      "3 : 5 \n",
      "5 : \n"
     ]
    }
   ],
   "source": [
    "printarrange(root)"
   ]
  },
  {
   "cell_type": "code",
   "execution_count": 49,
   "metadata": {},
   "outputs": [],
   "source": [
    "def mirrorBinaryTree(root):\n",
    "    if root is None:\n",
    "        return None\n",
    "    l = mirrorBinaryTree(root.left)\n",
    "    r = mirrorBinaryTree(root.right)\n",
    "    root.right = l\n",
    "    root.left = r\n",
    "    return root"
   ]
  },
  {
   "cell_type": "code",
   "execution_count": 50,
   "metadata": {},
   "outputs": [],
   "source": [
    "root = mirrorBinaryTree(root)"
   ]
  },
  {
   "cell_type": "code",
   "execution_count": 51,
   "metadata": {},
   "outputs": [
    {
     "name": "stdout",
     "output_type": "stream",
     "text": [
      "1 : 3 , 2 \n",
      "3 : 5 , 4 \n",
      "5 : 6 \n",
      "6 : \n",
      "4 : \n",
      "2 : \n"
     ]
    }
   ],
   "source": [
    "printarrange(root)"
   ]
  },
  {
   "cell_type": "code",
   "execution_count": 52,
   "metadata": {},
   "outputs": [
    {
     "name": "stdout",
     "output_type": "stream",
     "text": [
      "1 \n",
      "3 2 \n",
      "5 4 \n",
      "6 \n"
     ]
    }
   ],
   "source": [
    "levelorder(root)"
   ]
  },
  {
   "cell_type": "code",
   "execution_count": 5,
   "metadata": {},
   "outputs": [],
   "source": [
    "def diameter(root):\n",
    "    if root is None:\n",
    "        return 0,0\n",
    "    \n",
    "    lh,ld = diameter(root.left)\n",
    "    rh,rd = diameter(root.right)\n",
    "    h  = 1+max(lh,rh)\n",
    "    d = max(lh+rh,max(ld,rd))\n",
    "    return h,d"
   ]
  },
  {
   "cell_type": "code",
   "execution_count": 6,
   "metadata": {},
   "outputs": [
    {
     "data": {
      "text/plain": [
       "(4, 4)"
      ]
     },
     "execution_count": 6,
     "metadata": {},
     "output_type": "execute_result"
    }
   ],
   "source": [
    "diameter(root)"
   ]
  },
  {
   "cell_type": "code",
   "execution_count": null,
   "metadata": {},
   "outputs": [],
   "source": []
  }
 ],
 "metadata": {
  "kernelspec": {
   "display_name": "Python 3",
   "language": "python",
   "name": "python3"
  },
  "language_info": {
   "codemirror_mode": {
    "name": "ipython",
    "version": 3
   },
   "file_extension": ".py",
   "mimetype": "text/x-python",
   "name": "python",
   "nbconvert_exporter": "python",
   "pygments_lexer": "ipython3",
   "version": "3.6.8"
  }
 },
 "nbformat": 4,
 "nbformat_minor": 2
}
