{
 "cells": [
  {
   "cell_type": "code",
   "execution_count": 2,
   "metadata": {},
   "outputs": [
    {
     "name": "stdout",
     "output_type": "stream",
     "text": [
      "3\n",
      "32\n",
      "234\n"
     ]
    }
   ],
   "source": [
    "class Node:\n",
    "    def __init__(self,data):\n",
    "        self.data = data\n",
    "        self.left = None\n",
    "        self.right = None\n",
    "root = Node(3)\n",
    "root.left = Node(32)\n",
    "root.right = Node(234)\n",
    "        \n",
    "def printtree(root):\n",
    "    if root==None:\n",
    "        return\n",
    "    print(root.data)\n",
    "    printtree(root.left)\n",
    "    printtree(root.right)\n",
    "    return\n",
    "\n",
    "printtree(root)"
   ]
  },
  {
   "cell_type": "markdown",
   "metadata": {},
   "source": [
    "Getting Input"
   ]
  },
  {
   "cell_type": "code",
   "execution_count": 14,
   "metadata": {},
   "outputs": [],
   "source": [
    "def getinput():\n",
    "    val = int(input())\n",
    "    if val==-1:\n",
    "        return None \n",
    "    root.left = getinput()\n",
    "    root.right = getinput()\n",
    "    return root\n",
    "def printarrange(root):\n",
    "    if root is None:\n",
    "        return\n",
    "    print(root.data,end = \" : \")\n",
    "    if root.left is not None:\n",
    "        print(root.left.data,end = \" , \")\n",
    "    if root.right is not None:\n",
    "        print(root.right.data,end = ' ')\n",
    "    print()\n",
    "    printarrange(root.left)\n",
    "    printarrange(root.right)\n",
    "    return"
   ]
  },
  {
   "cell_type": "code",
   "execution_count": 5,
   "metadata": {},
   "outputs": [
    {
     "name": "stdout",
     "output_type": "stream",
     "text": [
      "1\n",
      "2\n",
      "-1\n",
      "-1\n",
      "3\n",
      "4\n",
      "-1\n",
      "-1\n",
      "5\n",
      "6\n",
      "-1\n",
      "-1\n",
      "-1\n"
     ]
    }
   ],
   "source": [
    "root = getinput()"
   ]
  },
  {
   "cell_type": "code",
   "execution_count": 6,
   "metadata": {},
   "outputs": [
    {
     "name": "stdout",
     "output_type": "stream",
     "text": [
      "1\n",
      "2\n",
      "3\n",
      "4\n",
      "5\n",
      "6\n"
     ]
    }
   ],
   "source": [
    "printtree(root)"
   ]
  },
  {
   "cell_type": "code",
   "execution_count": 26,
   "metadata": {},
   "outputs": [
    {
     "name": "stdout",
     "output_type": "stream",
     "text": [
      "1 : 2 , 3 \n",
      "2 : \n",
      "3 : 4 , 5 \n",
      "4 : \n",
      "5 : 6 , \n",
      "6 : \n"
     ]
    }
   ],
   "source": [
    "printarrange(root)"
   ]
  },
  {
   "cell_type": "code",
   "execution_count": 16,
   "metadata": {},
   "outputs": [],
   "source": []
  },
  {
   "cell_type": "code",
   "execution_count": 36,
   "metadata": {},
   "outputs": [],
   "source": [
    "def hightoftree(root):\n",
    "    if root is None:\n",
    "        return 0\n",
    "    return 1+ max(hightoftree(root.left),hightoftree(root.right))\n",
    "def nlevel(root,k):\n",
    "    if k==0:\n",
    "        print(root.data,end =' ')\n",
    "        return\n",
    "    k-=1\n",
    "    if root.left is not None:\n",
    "        nlevel(root.left,k)\n",
    "    if root.right is not None:\n",
    "        nlevel(root.right,k)\n",
    "def levelorder(root):\n",
    "    h = hightoftree(root)\n",
    "    for i in range(h):\n",
    "        nlevel(root,i)\n",
    "        print()\n",
    "        \n",
    "        "
   ]
  },
  {
   "cell_type": "code",
   "execution_count": 37,
   "metadata": {},
   "outputs": [
    {
     "name": "stdout",
     "output_type": "stream",
     "text": [
      "1 \n",
      "2 3 \n",
      "4 5 \n",
      "6 \n"
     ]
    }
   ],
   "source": [
    "levelorder(root)"
   ]
  },
  {
   "cell_type": "code",
   "execution_count": 49,
   "metadata": {},
   "outputs": [
    {
     "name": "stdout",
     "output_type": "stream",
     "text": [
      "6 "
     ]
    }
   ],
   "source": [
    "nlevel(root,3)"
   ]
  },
  {
   "cell_type": "code",
   "execution_count": 38,
   "metadata": {},
   "outputs": [],
   "source": [
    "def countnodes(root):\n",
    "    if root is None:\n",
    "        return 0\n",
    "    return 1+countnodes(root.left)+countnodes(root.right)"
   ]
  },
  {
   "cell_type": "code",
   "execution_count": 41,
   "metadata": {},
   "outputs": [],
   "source": [
    "def sumofnodes(root):\n",
    "    if root is None:\n",
    "        return 0\n",
    "    return root.data+sumofnodes(root.left)+sumofnodes(root.right)"
   ]
  },
  {
   "cell_type": "code",
   "execution_count": 42,
   "metadata": {},
   "outputs": [
    {
     "data": {
      "text/plain": [
       "21"
      ]
     },
     "execution_count": 42,
     "metadata": {},
     "output_type": "execute_result"
    }
   ],
   "source": [
    "sumofnodes(root)"
   ]
  },
  {
   "cell_type": "code",
   "execution_count": 43,
   "metadata": {},
   "outputs": [],
   "source": [
    "def preorder(root):\n",
    "    if root is None:\n",
    "        return\n",
    "    print(root.data,end = \" \")\n",
    "    preorder(root.left)\n",
    "    preorder(root.right)"
   ]
  },
  {
   "cell_type": "code",
   "execution_count": 44,
   "metadata": {},
   "outputs": [
    {
     "name": "stdout",
     "output_type": "stream",
     "text": [
      "1\n",
      "2\n",
      "3\n",
      "4\n",
      "5\n",
      "6\n"
     ]
    }
   ],
   "source": [
    "preorder(root)"
   ]
  },
  {
   "cell_type": "code",
   "execution_count": null,
   "metadata": {},
   "outputs": [],
   "source": [
    "def postorder(root):\n",
    "    if root is None:\n",
    "        return\n",
    "    \n",
    "    postorder(root.left)\n",
    "    postorder(root.right)\n",
    "    print(root.data,end = \" \")"
   ]
  },
  {
   "cell_type": "code",
   "execution_count": 45,
   "metadata": {},
   "outputs": [],
   "source": [
    "def countNodesGreaterThanX(root, x):\n",
    "    if root is None:\n",
    "        return 0\n",
    "    k = 0\n",
    "    if root.data>x:\n",
    "        k = 1\n",
    "    return k+countNodesGreaterThanX(root.left,x)+countNodesGreaterThanX(root.right,x)"
   ]
  },
  {
   "cell_type": "code",
   "execution_count": 46,
   "metadata": {},
   "outputs": [
    {
     "data": {
      "text/plain": [
       "4"
      ]
     },
     "execution_count": 46,
     "metadata": {},
     "output_type": "execute_result"
    }
   ],
   "source": [
    "countNodesGreaterThanX(root,2)"
   ]
  },
  {
   "cell_type": "code",
   "execution_count": 50,
   "metadata": {},
   "outputs": [],
   "source": [
    "def replaceWithDepth(root,level=0):\n",
    "    if root is None:\n",
    "        return\n",
    "    root.data = level\n",
    "    level+=1\n",
    "    replaceWithDepth(root.left,level)\n",
    "    replaceWithDepth(root.right,level)"
   ]
  },
  {
   "cell_type": "code",
   "execution_count": 51,
   "metadata": {},
   "outputs": [
    {
     "name": "stdout",
     "output_type": "stream",
     "text": [
      "1 \n",
      "2 3 \n",
      "4 5 \n",
      "6 \n",
      "0 \n",
      "1 1 \n",
      "2 2 \n",
      "3 \n"
     ]
    }
   ],
   "source": [
    "levelorder(root)\n",
    "replaceWithDepth(root)\n",
    "levelorder(root)"
   ]
  },
  {
   "cell_type": "code",
   "execution_count": 52,
   "metadata": {},
   "outputs": [],
   "source": [
    "def isNodePresent(root, x):\n",
    "    if root is None:\n",
    "        return False\n",
    "    flag = False\n",
    "    if root.data==x:\n",
    "        flag = True\n",
    "    if flag or isNodePresent(root.left,x) or isNodePresent(root.right,x):\n",
    "        return True\n",
    "    return False"
   ]
  },
  {
   "cell_type": "code",
   "execution_count": 54,
   "metadata": {},
   "outputs": [
    {
     "data": {
      "text/plain": [
       "False"
      ]
     },
     "execution_count": 54,
     "metadata": {},
     "output_type": "execute_result"
    }
   ],
   "source": [
    "isNodePresent(root,13)"
   ]
  },
  {
   "cell_type": "code",
   "execution_count": 57,
   "metadata": {},
   "outputs": [],
   "source": [
    "def nodesWithoutSibling(root):\n",
    "    if root is None:\n",
    "        return\n",
    "    if root.left is None and root.right is not None:\n",
    "        print(root.right.data)\n",
    "    if root.left is not None and root.right is None:\n",
    "        print(root.left.data)\n",
    "    nodesWithoutSibling(root.left)\n",
    "    nodesWithoutSibling(root.right)"
   ]
  },
  {
   "cell_type": "code",
   "execution_count": 58,
   "metadata": {},
   "outputs": [
    {
     "name": "stdout",
     "output_type": "stream",
     "text": [
      "3\n"
     ]
    }
   ],
   "source": [
    "nodesWithoutSibling(root)"
   ]
  },
  {
   "cell_type": "code",
   "execution_count": null,
   "metadata": {},
   "outputs": [],
   "source": []
  }
 ],
 "metadata": {
  "kernelspec": {
   "display_name": "Python 3",
   "language": "python",
   "name": "python3"
  },
  "language_info": {
   "codemirror_mode": {
    "name": "ipython",
    "version": 3
   },
   "file_extension": ".py",
   "mimetype": "text/x-python",
   "name": "python",
   "nbconvert_exporter": "python",
   "pygments_lexer": "ipython3",
   "version": "3.6.8"
  }
 },
 "nbformat": 4,
 "nbformat_minor": 2
}
