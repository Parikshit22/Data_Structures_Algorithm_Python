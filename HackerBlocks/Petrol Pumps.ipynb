{
 "cells": [
  {
   "cell_type": "code",
   "execution_count": 1,
   "metadata": {},
   "outputs": [
    {
     "name": "stdout",
     "output_type": "stream",
     "text": [
      "6\n",
      "2\n",
      "4\n",
      "5\n",
      "3\n",
      "6\n",
      "7\n",
      "2\n",
      "3\n",
      "4\n",
      "5\n",
      "6\n",
      "7\n",
      "2\n"
     ]
    }
   ],
   "source": [
    "n = int(input())\n",
    "\n",
    "fuel = []\n",
    "for i in range(n):\n",
    "    fuel.append(int(input()))\n",
    "cost = []\n",
    "for i in range(n):\n",
    "    cost.append(int(input()))\n",
    "\n",
    "total = 0\n",
    "curr = 0\n",
    "s = 0\n",
    "for i in range(n):\n",
    "    total = total+fuel[i]-cost[i]\n",
    "    curr += fuel[i]-cost[i]\n",
    "    if (curr<0):\n",
    "        curr=0\n",
    "        s+=1\n",
    "\n",
    "if total<0:\n",
    "    print(-1)\n",
    "else:\n",
    "    print(s)\n",
    "    \n"
   ]
  },
  {
   "cell_type": "code",
   "execution_count": null,
   "metadata": {},
   "outputs": [],
   "source": [
    "6 \n",
    "1\n",
    "4\n",
    "2 \n",
    "3 \n",
    "6 \n",
    "2\n",
    "2\n",
    "3 \n",
    "4 \n",
    "5 \n",
    "6 \n",
    "7"
   ]
  }
 ],
 "metadata": {
  "kernelspec": {
   "display_name": "Python 3",
   "language": "python",
   "name": "python3"
  },
  "language_info": {
   "codemirror_mode": {
    "name": "ipython",
    "version": 3
   },
   "file_extension": ".py",
   "mimetype": "text/x-python",
   "name": "python",
   "nbconvert_exporter": "python",
   "pygments_lexer": "ipython3",
   "version": "3.6.8"
  }
 },
 "nbformat": 4,
 "nbformat_minor": 2
}
