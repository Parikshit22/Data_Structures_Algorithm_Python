{
 "cells": [
  {
   "cell_type": "code",
   "execution_count": 10,
   "metadata": {},
   "outputs": [
    {
     "name": "stdout",
     "output_type": "stream",
     "text": [
      "4\n",
      "2\n",
      "5\n",
      "1\n",
      "3\n",
      "-1\n",
      "4 \n",
      "2 5 \n",
      "1 3 \n",
      "5 \n",
      "12 0 \n",
      "14 9 \n"
     ]
    }
   ],
   "source": [
    "class Node:\n",
    "    def __init__(self,data):\n",
    "        self.data = data\n",
    "        self.left = None\n",
    "        self.right = None\n",
    "def take_input(root,n):\n",
    "    if root is None:\n",
    "        if n!=-1:\n",
    "            root = Node(n)\n",
    "        return root\n",
    "    if root.data>n:\n",
    "        root.left = take_input(root.left,n)\n",
    "    else:\n",
    "        root.right = take_input(root.right,n)\n",
    "    return root\n",
    "    \n",
    "    return root\n",
    "def insert():\n",
    "    root = None\n",
    "    n = int(input())\n",
    "    while(n>0):\n",
    "        root = take_input(root,n)\n",
    "        n = int(input())\n",
    "    return root\n",
    "\n",
    "\n",
    "def update(root, sum_so_far):\n",
    "\n",
    "    # base case\n",
    "    if root is None:\n",
    "        return sum_so_far\n",
    "\n",
    "    right = update(root.right, sum_so_far)\n",
    "    val = root.data\n",
    "    root.data = right\n",
    "    sum_so_far = root.data+val\n",
    "    return update(root.left, sum_so_far)\n",
    "    \n",
    "def heightoftree(root):\n",
    "    if root is None:\n",
    "        return 0\n",
    "    return max(heightoftree(root.left),heightoftree(root.right))+1\n",
    "\n",
    "def nthlevel(root,n):\n",
    "    if n==0:\n",
    "        print(root.data,end = \" \")\n",
    "        return\n",
    "    n-=1\n",
    "    if root.left is not None:\n",
    "        nthlevel(root.left,n)\n",
    "    if root.right is not None:\n",
    "        nthlevel(root.right,n)\n",
    "    \n",
    "def levelorder(root):\n",
    "    h = heightoftree(root)\n",
    "    for i in range(h):\n",
    "        nthlevel(root,i)\n",
    "        print()\n",
    "\n",
    "root = insert()\n",
    "\n",
    "    \n",
    "update(root,0)\n",
    "\n",
    "levelorder(root)\n",
    "\n",
    "\n",
    "\n",
    "\n",
    "    \n"
   ]
  },
  {
   "cell_type": "code",
   "execution_count": null,
   "metadata": {},
   "outputs": [],
   "source": []
  }
 ],
 "metadata": {
  "kernelspec": {
   "display_name": "Python 3",
   "language": "python",
   "name": "python3"
  },
  "language_info": {
   "codemirror_mode": {
    "name": "ipython",
    "version": 3
   },
   "file_extension": ".py",
   "mimetype": "text/x-python",
   "name": "python",
   "nbconvert_exporter": "python",
   "pygments_lexer": "ipython3",
   "version": "3.6.8"
  }
 },
 "nbformat": 4,
 "nbformat_minor": 2
}
