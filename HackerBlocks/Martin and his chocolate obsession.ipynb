{
 "cells": [
  {
   "cell_type": "code",
   "execution_count": 4,
   "metadata": {},
   "outputs": [
    {
     "name": "stdout",
     "output_type": "stream",
     "text": [
      "1\n",
      "5 5\n",
      "1 4 5 6 8\n",
      "2 3 4 6 9\n",
      "29\n"
     ]
    }
   ],
   "source": [
    "t = int(input())\n",
    "while(t>0):\n",
    "    n,m = input().split()\n",
    "    n = int(n)\n",
    "    m = int(m)\n",
    "\n",
    "    a1 = [int(x) for x in input().split()]\n",
    "    a2 = [int(x) for x in input().split()]\n",
    "    i = 0\n",
    "    j = 0\n",
    "    first = 0\n",
    "    second = 0\n",
    "    ans = 0\n",
    "    while i<n and j<m:\n",
    "        if(a1[i]<a2[j]):\n",
    "            first += a1[i]\n",
    "            i+=1\n",
    "        elif a1[i]>a2[j]:\n",
    "            second += a2[j]\n",
    "            j+=1\n",
    "        else:\n",
    "            ans += max(first,second)+a1[i]\n",
    "            first = 0\n",
    "            second = 0\n",
    "            val = a1[i]\n",
    "            i+=1\n",
    "            j+=1\n",
    "            \n",
    "            while(i<n and a1[i]==val):\n",
    "                ans+=val\n",
    "                i+=1\n",
    "            while(j<m and a2[j]==val):\n",
    "                ans+=val\n",
    "                j+=1\n",
    "    while(i<n):\n",
    "        first+=a1[i]\n",
    "        i+=1\n",
    "    while(j<m):\n",
    "        second+=a2[j]\n",
    "        j+=1\n",
    "    ans += max(first,second)  \n",
    "    \n",
    "    print(ans)\n",
    "        \n",
    "    \n",
    "    \n",
    "    \n",
    "    t-=1"
   ]
  },
  {
   "cell_type": "code",
   "execution_count": null,
   "metadata": {},
   "outputs": [],
   "source": [
    "1 4 5 6 8\n",
    "2 3 4 6 9"
   ]
  }
 ],
 "metadata": {
  "kernelspec": {
   "display_name": "Python 3",
   "language": "python",
   "name": "python3"
  },
  "language_info": {
   "codemirror_mode": {
    "name": "ipython",
    "version": 3
   },
   "file_extension": ".py",
   "mimetype": "text/x-python",
   "name": "python",
   "nbconvert_exporter": "python",
   "pygments_lexer": "ipython3",
   "version": "3.6.8"
  }
 },
 "nbformat": 4,
 "nbformat_minor": 2
}
