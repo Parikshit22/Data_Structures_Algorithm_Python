{
 "cells": [
  {
   "cell_type": "code",
   "execution_count": null,
   "metadata": {},
   "outputs": [
    {
     "name": "stdout",
     "output_type": "stream",
     "text": [
      "100000\n"
     ]
    }
   ],
   "source": [
    "\n",
    "import sys\n",
    "sys.setrecursionlimit(1000000)\n",
    "def minStepsTo1DP(n):\n",
    "    if n==1:\n",
    "        return 0\n",
    "    if dp[n-1]==-1:\n",
    "        dp[n-1] = minStepsTo1DP(n-1)\n",
    "    maxm= dp[n-1] \n",
    "    if n%2==0:\n",
    "        if dp[n//2]==-1:\n",
    "            dp[n//2] = minStepsTo1DP(n/2)\n",
    "        ans2 = dp[n//2]\n",
    "        maxm = min(maxm,ans2)\n",
    "    if n%3==0:\n",
    "        if dp[n//3]==-1:\n",
    "            dp[n//3] = minStepsTo1DP(n/3)\n",
    "        ans2 = dp[n//3]\n",
    "        maxm = min(maxm,ans2)\n",
    "    return 1+maxm\n",
    "# Main\n",
    "n=int(input())\n",
    "dp = [-1 for x in range(n+1)]\n",
    "print(minStepsTo1DP(n))\n"
   ]
  },
  {
   "cell_type": "code",
   "execution_count": null,
   "metadata": {},
   "outputs": [],
   "source": []
  }
 ],
 "metadata": {
  "kernelspec": {
   "display_name": "Python 3",
   "language": "python",
   "name": "python3"
  },
  "language_info": {
   "codemirror_mode": {
    "name": "ipython",
    "version": 3
   },
   "file_extension": ".py",
   "mimetype": "text/x-python",
   "name": "python",
   "nbconvert_exporter": "python",
   "pygments_lexer": "ipython3",
   "version": "3.6.8"
  }
 },
 "nbformat": 4,
 "nbformat_minor": 2
}
