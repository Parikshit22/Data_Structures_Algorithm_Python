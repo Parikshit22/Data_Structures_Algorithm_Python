{
 "cells": [
  {
   "cell_type": "code",
   "execution_count": 6,
   "metadata": {},
   "outputs": [
    {
     "name": "stdout",
     "output_type": "stream",
     "text": [
      "abdgec\n",
      "bfdmgjc\n"
     ]
    },
    {
     "data": {
      "text/plain": [
       "4"
      ]
     },
     "execution_count": 6,
     "metadata": {},
     "output_type": "execute_result"
    }
   ],
   "source": [
    "def lcs(i,j,s1,s2):\n",
    "    if i>=len(s1) or j>=len(s2):\n",
    "        return 0\n",
    "    \n",
    "    if s1[i]==s2[j]:\n",
    "        if dp[i+1][j+1] == -1:\n",
    "            dp[i+1][j+1] = lcs(i+1,j+1,s1,s2)\n",
    "        return 1+dp[i+1][j+1]\n",
    "    else:\n",
    "        if dp[i][j+1] == -1:\n",
    "            dp[i][j+1] = lcs(i,j+1,s1,s2)\n",
    "        if dp[i+1][j] == -1:\n",
    "            dp[i+1][j] = lcs(i+1,j,s1,s2)\n",
    "        return max(dp[i][j+1],dp[i+1][j])\n",
    "\n",
    "\n",
    "s1 = input()\n",
    "s2 = input()\n",
    "dp = []\n",
    "for i in range(len(s1)+1):\n",
    "    dp.append([-1 for x in range(len(s2)+1)])\n",
    "lcs(0,0,s1,s2)"
   ]
  }
 ],
 "metadata": {
  "kernelspec": {
   "display_name": "Python 3",
   "language": "python",
   "name": "python3"
  },
  "language_info": {
   "codemirror_mode": {
    "name": "ipython",
    "version": 3
   },
   "file_extension": ".py",
   "mimetype": "text/x-python",
   "name": "python",
   "nbconvert_exporter": "python",
   "pygments_lexer": "ipython3",
   "version": "3.6.8"
  }
 },
 "nbformat": 4,
 "nbformat_minor": 2
}
