{
 "cells": [
  {
   "cell_type": "code",
   "execution_count": 7,
   "metadata": {
    "scrolled": false
   },
   "outputs": [
    {
     "name": "stdout",
     "output_type": "stream",
     "text": [
      "100\n",
      "1\n"
     ]
    }
   ],
   "source": [
    "\n",
    "\n",
    "import sys\n",
    "import math\n",
    "sys.setrecursionlimit(10000)\n",
    "def minStepsTo1(n):\n",
    "    if n==0:\n",
    "        return 0\n",
    "    ans = sys.maxsize\n",
    "    sqr = int(math.sqrt(n))\n",
    "    for i in range(1,sqr+1):\n",
    "        if dp[n-(i*i)]==-1:\n",
    "            dp[n-(i*i)] = minStepsTo1(n-(i*i))\n",
    "        currans = 1+dp[n-(i*i)]\n",
    "        ans = min(ans,currans)\n",
    "    return ans\n",
    "    \n",
    "\n",
    "        \n",
    "\n",
    "    \n",
    "n = int(input())\n",
    "dp = [-1 for i in range(n+1)]\n",
    "ans = minStepsTo1(n)\n",
    "print(ans)\n",
    "\n",
    "\n",
    "\n",
    "\n",
    "\n"
   ]
  },
  {
   "cell_type": "code",
   "execution_count": null,
   "metadata": {},
   "outputs": [],
   "source": []
  }
 ],
 "metadata": {
  "kernelspec": {
   "display_name": "Python 3",
   "language": "python",
   "name": "python3"
  },
  "language_info": {
   "codemirror_mode": {
    "name": "ipython",
    "version": 3
   },
   "file_extension": ".py",
   "mimetype": "text/x-python",
   "name": "python",
   "nbconvert_exporter": "python",
   "pygments_lexer": "ipython3",
   "version": "3.6.8"
  }
 },
 "nbformat": 4,
 "nbformat_minor": 2
}
