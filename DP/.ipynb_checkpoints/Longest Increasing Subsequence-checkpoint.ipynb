{
 "cells": [
  {
   "cell_type": "code",
   "execution_count": 3,
   "metadata": {},
   "outputs": [
    {
     "name": "stdout",
     "output_type": "stream",
     "text": [
      "7\n",
      "6 3 1 2 0 7 9\n",
      "4\n"
     ]
    }
   ],
   "source": [
    "\n",
    "\n",
    "\n",
    "def lis(arr,i,n):\n",
    "    if i>=n:\n",
    "        return 0,0\n",
    "    including_ele = 1\n",
    "    for j in range(i+1,n):\n",
    "        if arr[j]>arr[i]:\n",
    "            if dp[j]==-1:\n",
    "                dp[j] = lis(arr,j,n)\n",
    "            next_ele = dp[j][0]\n",
    "            including_ele = max(including_ele,1+next_ele)\n",
    "    if dp[i+1] == -1:\n",
    "        dp[i+1] = lis(arr,i+1,n)\n",
    "    excluding_ele = dp[i+1][1]\n",
    "    return including_ele,max(including_ele,excluding_ele)\n",
    "    \n",
    "    \n",
    "\n",
    "n = int(input())\n",
    "li = [int(ele) for ele in input().split()]\n",
    "dp = [-1 for i in range(n+1)]\n",
    "print(lis(li,0,n)[1])"
   ]
  },
  {
   "cell_type": "code",
   "execution_count": null,
   "metadata": {},
   "outputs": [],
   "source": []
  }
 ],
 "metadata": {
  "kernelspec": {
   "display_name": "Python 3",
   "language": "python",
   "name": "python3"
  },
  "language_info": {
   "codemirror_mode": {
    "name": "ipython",
    "version": 3
   },
   "file_extension": ".py",
   "mimetype": "text/x-python",
   "name": "python",
   "nbconvert_exporter": "python",
   "pygments_lexer": "ipython3",
   "version": "3.6.8"
  }
 },
 "nbformat": 4,
 "nbformat_minor": 2
}
