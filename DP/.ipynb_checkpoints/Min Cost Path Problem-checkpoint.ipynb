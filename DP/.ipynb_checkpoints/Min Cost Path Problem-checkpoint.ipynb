{
 "cells": [
  {
   "cell_type": "code",
   "execution_count": 5,
   "metadata": {},
   "outputs": [
    {
     "name": "stdout",
     "output_type": "stream",
     "text": [
      "3 4 \n",
      "3 4 1 2\n",
      "2 1 8 9\n",
      "4 7 8 1\n"
     ]
    },
    {
     "data": {
      "text/plain": [
       "13"
      ]
     },
     "execution_count": 5,
     "metadata": {},
     "output_type": "execute_result"
    }
   ],
   "source": [
    "def mincost(arr,i,j):\n",
    "    if i==len(arr)-1 and j==len(arr[0])-1:\n",
    "        return arr[i][j]\n",
    "    if i==len(arr)-1:\n",
    "        if dp[i][j+1]==-1:\n",
    "            dp[i][j+1] = mincost(arr,i,j+1)\n",
    "        return arr[i][j]+dp[i][j+1]\n",
    "    if j==len(arr)-1:\n",
    "        if dp[i+1][j]==-1:\n",
    "            dp[i+1][j] = mincost(arr,i+1,j)\n",
    "        return arr[i][j]+dp[i+1][j]\n",
    "    if dp[i+1][j]==-1:\n",
    "            dp[i+1][j] = mincost(arr,i+1,j)\n",
    "    if dp[i][j+1]==-1:\n",
    "            dp[i][j+1] = mincost(arr,i,j+1)\n",
    "    if dp[i+1][j+1]==-1:\n",
    "            dp[i+1][j+1] = mincost(arr,i+1,j+1)\n",
    "    return arr[i][j]+min(dp[i+1][j],min(dp[i][j+1],dp[i+1][j+1]))\n",
    "\n",
    "m,n = input().split()\n",
    "m = int(m)\n",
    "n = int(n)\n",
    "arr = []\n",
    "dp = []\n",
    "for i in range(m):\n",
    "    dp.append([-1 for x in range(n)])\n",
    "    arr.append([int(x) for x in input().split()])\n",
    "\n",
    "mincost(arr,0,0)"
   ]
  },
  {
   "cell_type": "code",
   "execution_count": null,
   "metadata": {},
   "outputs": [],
   "source": [
    "3 4\n",
    "3 4 1 2\n",
    "2 1 8 9\n",
    "4 7 8 1"
   ]
  }
 ],
 "metadata": {
  "kernelspec": {
   "display_name": "Python 3",
   "language": "python",
   "name": "python3"
  },
  "language_info": {
   "codemirror_mode": {
    "name": "ipython",
    "version": 3
   },
   "file_extension": ".py",
   "mimetype": "text/x-python",
   "name": "python",
   "nbconvert_exporter": "python",
   "pygments_lexer": "ipython3",
   "version": "3.6.8"
  }
 },
 "nbformat": 4,
 "nbformat_minor": 2
}
