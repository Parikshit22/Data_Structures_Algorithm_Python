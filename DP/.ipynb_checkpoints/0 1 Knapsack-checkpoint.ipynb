{
 "cells": [
  {
   "cell_type": "code",
   "execution_count": 2,
   "metadata": {},
   "outputs": [
    {
     "name": "stdout",
     "output_type": "stream",
     "text": [
      "4\n",
      "1 2 4 5\n",
      "5 4 8 6\n",
      "5\n",
      "13\n"
     ]
    }
   ],
   "source": [
    "def knapsackrec(weights, values, maxWeight, i, currweight):\n",
    "    if i>=n:\n",
    "        return 0\n",
    "    if weights[i]+currweight<=maxWeight:\n",
    "        return max(values[i]+knapsackrec(weights, values, maxWeight, i+1, weights[i]+currweight),knapsackrec(weights, values, maxWeight, i+1, currweight))\n",
    "    return knapsackrec(weights, values, maxWeight, i+1, currweight)\n",
    "def knapsackBF(weights, values, maxWeight):\n",
    "    return knapsackrec(weights, values, maxWeight, 0, 0)\n",
    "\n",
    "from sys import setrecursionlimit\n",
    "setrecursionlimit(11000)\n",
    "n=int(input())\n",
    "weights=list(int(i) for i in input().strip().split(' '))\n",
    "values=list(int(i) for i in input().strip().split(' '))\n",
    "maxWeight=int(input())\n",
    "print(knapsackBF(weights, values, maxWeight))"
   ]
  },
  {
   "cell_type": "code",
   "execution_count": null,
   "metadata": {},
   "outputs": [],
   "source": [
    "4\n",
    "1 2 4 5\n",
    "5 4 8 6\n",
    "5"
   ]
  }
 ],
 "metadata": {
  "kernelspec": {
   "display_name": "Python 3",
   "language": "python",
   "name": "python3"
  },
  "language_info": {
   "codemirror_mode": {
    "name": "ipython",
    "version": 3
   },
   "file_extension": ".py",
   "mimetype": "text/x-python",
   "name": "python",
   "nbconvert_exporter": "python",
   "pygments_lexer": "ipython3",
   "version": "3.6.8"
  }
 },
 "nbformat": 4,
 "nbformat_minor": 2
}
