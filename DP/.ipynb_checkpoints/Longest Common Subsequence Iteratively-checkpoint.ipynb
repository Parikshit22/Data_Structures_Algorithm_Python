{
 "cells": [
  {
   "cell_type": "code",
   "execution_count": 3,
   "metadata": {},
   "outputs": [
    {
     "name": "stdout",
     "output_type": "stream",
     "text": [
      "adebc\n",
      "dcadb\n",
      "3\n"
     ]
    }
   ],
   "source": [
    "s1 = input()\n",
    "s2 = input()\n",
    "dp = []\n",
    "for i in range(len(s1)+1):\n",
    "    dp.append([0 for x in range(len(s2)+1)])\n",
    "for i in range(1,len(s1)+1):\n",
    "    for j in range(1,len(s2)+1):\n",
    "        if s1[i-1]==s2[j-1]:\n",
    "            maxm = 1+dp[i-1][j-1]\n",
    "            maxm = max(maxm,max(dp[i][j-1],dp[i-1][j]))\n",
    "            dp[i][j] = maxm\n",
    "        else:\n",
    "            dp[i][j] = max(dp[i][j-1],dp[i-1][j])\n",
    "print(dp[len(s1)][len(s2)])\n"
   ]
  },
  {
   "cell_type": "code",
   "execution_count": null,
   "metadata": {},
   "outputs": [],
   "source": [
    "adebc\n",
    "dcadb"
   ]
  }
 ],
 "metadata": {
  "kernelspec": {
   "display_name": "Python 3",
   "language": "python",
   "name": "python3"
  },
  "language_info": {
   "codemirror_mode": {
    "name": "ipython",
    "version": 3
   },
   "file_extension": ".py",
   "mimetype": "text/x-python",
   "name": "python",
   "nbconvert_exporter": "python",
   "pygments_lexer": "ipython3",
   "version": "3.6.8"
  }
 },
 "nbformat": 4,
 "nbformat_minor": 2
}
