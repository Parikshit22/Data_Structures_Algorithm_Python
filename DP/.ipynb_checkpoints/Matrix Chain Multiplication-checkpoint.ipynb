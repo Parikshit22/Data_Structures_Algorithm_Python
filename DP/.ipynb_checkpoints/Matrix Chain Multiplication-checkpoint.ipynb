{
 "cells": [
  {
   "cell_type": "code",
   "execution_count": 10,
   "metadata": {},
   "outputs": [
    {
     "name": "stdout",
     "output_type": "stream",
     "text": [
      "3\n",
      "10 15 20 15\n",
      "6000\n"
     ]
    }
   ],
   "source": [
    "import sys\n",
    "def mcm(arr,i,j):\n",
    "    if i>=j-1:\n",
    "        return 0\n",
    "    minx = sys.maxsize\n",
    "    for k in range(i+1,j):\n",
    "        if dp[i][k]==-1:\n",
    "            dp[i][k] = mcm(arr,i,k)\n",
    "        if dp[k][j]==-1:\n",
    "            dp[k][j] = mcm(arr,k,j)\n",
    "        minx = min(minx,arr[i]*arr[k]*arr[j]+dp[i][k]+dp[k][j])\n",
    "    \n",
    "    return minx\n",
    "\n",
    "n = int(input())\n",
    "arr = [int(x) for x in input().split()]\n",
    "dp = []\n",
    "for i in range(n+1):\n",
    "    dp.append([-1 for x in range(n+1)])\n",
    "print(mcm(arr,0,n))"
   ]
  },
  {
   "cell_type": "code",
   "execution_count": 4,
   "metadata": {},
   "outputs": [
    {
     "data": {
      "text/plain": [
       "9223372036854775807"
      ]
     },
     "execution_count": 4,
     "metadata": {},
     "output_type": "execute_result"
    }
   ],
   "source": [
    "import sys\n",
    "sys.maxsize"
   ]
  },
  {
   "cell_type": "code",
   "execution_count": null,
   "metadata": {},
   "outputs": [],
   "source": []
  }
 ],
 "metadata": {
  "kernelspec": {
   "display_name": "Python 3",
   "language": "python",
   "name": "python3"
  },
  "language_info": {
   "codemirror_mode": {
    "name": "ipython",
    "version": 3
   },
   "file_extension": ".py",
   "mimetype": "text/x-python",
   "name": "python",
   "nbconvert_exporter": "python",
   "pygments_lexer": "ipython3",
   "version": "3.6.8"
  }
 },
 "nbformat": 4,
 "nbformat_minor": 2
}
